{
 "cells": [
  {
   "cell_type": "code",
   "execution_count": 1,
   "id": "8cd78110",
   "metadata": {
    "_cell_guid": "b1076dfc-b9ad-4769-8c92-a6c4dae69d19",
    "_uuid": "8f2839f25d086af736a60e9eeb907d3b93b6e0e5",
    "execution": {
     "iopub.execute_input": "2021-11-11T09:49:41.606688Z",
     "iopub.status.busy": "2021-11-11T09:49:41.605647Z",
     "iopub.status.idle": "2021-11-11T09:49:42.983578Z",
     "shell.execute_reply": "2021-11-11T09:49:42.982532Z",
     "shell.execute_reply.started": "2021-11-11T08:55:24.157715Z"
    },
    "papermill": {
     "duration": 1.456543,
     "end_time": "2021-11-11T09:49:42.983809",
     "exception": false,
     "start_time": "2021-11-11T09:49:41.527266",
     "status": "completed"
    },
    "tags": []
   },
   "outputs": [
    {
     "name": "stdout",
     "output_type": "stream",
     "text": [
      "/kaggle/input/titanic/train.csv\n",
      "/kaggle/input/titanic/test.csv\n",
      "/kaggle/input/titanic/gender_submission.csv\n"
     ]
    }
   ],
   "source": [
    "# This Python 3 environment comes with many helpful analytics libraries installed\n",
    "# It is defined by the kaggle/python Docker image: https://github.com/kaggle/docker-python\n",
    "# For example, here's several helpful packages to load\n",
    "\n",
    "import numpy as np\n",
    "import pandas as pd \n",
    "import seaborn as sns\n",
    "import scipy.stats as stat\n",
    "from sklearn.svm import SVC\n",
    "import matplotlib.pyplot as plt\n",
    "from sklearn.tree import DecisionTreeClassifier\n",
    "from sklearn.preprocessing import StandardScaler\n",
    "from sklearn.neural_network import MLPClassifier\n",
    "from sklearn.neighbors import KNeighborsClassifier\n",
    "from sklearn.preprocessing import PowerTransformer\n",
    "from sklearn.linear_model import LogisticRegression\n",
    "from sklearn.discriminant_analysis import LinearDiscriminantAnalysis\n",
    "from sklearn.model_selection import GridSearchCV, cross_val_score, StratifiedKFold, learning_curve\n",
    "from sklearn.ensemble import RandomForestClassifier, AdaBoostClassifier, GradientBoostingClassifier, ExtraTreesClassifier, VotingClassifier\n"
   ]
  },
  {
   "cell_type": "markdown",
   "id": "fd1b268a",
   "metadata": {
    "papermill": {
     "duration": 0.07858,
     "end_time": "2021-11-11T09:49:43.194629",
     "exception": false,
     "start_time": "2021-11-11T09:49:43.116049",
     "status": "completed"
    },
    "tags": []
   },
   "source": [
    "# 0.LIBRARIES REQUIRED"
   ]
  },
  {
   "cell_type": "code",
   "execution_count": 2,
   "id": "ab14db65",
   "metadata": {
    "execution": {
     "iopub.execute_input": "2021-11-11T09:49:43.352512Z",
     "iopub.status.busy": "2021-11-11T09:49:43.351898Z",
     "iopub.status.idle": "2021-11-11T09:49:43.353520Z",
     "shell.execute_reply": "2021-11-11T09:49:43.354035Z"
    },
    "papermill": {
     "duration": 0.081447,
     "end_time": "2021-11-11T09:49:43.354190",
     "exception": false,
     "start_time": "2021-11-11T09:49:43.272743",
     "status": "completed"
    },
    "tags": []
   },
   "outputs": [],
   "source": [
    "#Data Analysis\n",
    "import numpy as np\n",
    "import pandas as pd\n",
    "import scipy.stats as stat\n",
    "\n",
    "#Data Visualization\n",
    "import seaborn as sns\n",
    "import matplotlib.pyplot as plt\n",
    "\n",
    "#Data Preprocessing\n",
    "from sklearn.preprocessing import PowerTransformer\n",
    "from sklearn.preprocessing import StandardScaler\n",
    "import scipy.stats as stat\n",
    "\n",
    "#Model Creations\n",
    "from sklearn.tree import DecisionTreeClassifier\n",
    "from sklearn.neural_network import MLPClassifier\n",
    "from sklearn.neighbors import KNeighborsClassifier\n",
    "from sklearn.linear_model import LogisticRegression\n",
    "from sklearn.discriminant_analysis import LinearDiscriminantAnalysis\n",
    "\n",
    "#Model Validation \n",
    "from sklearn.model_selection import  cross_val_score, StratifiedKFold, learning_curve\n",
    "\n",
    "#Hyper Parameter Tuning\n",
    "from sklearn.model_selection import GridSearchCV\n"
   ]
  },
  {
   "cell_type": "code",
   "execution_count": 3,
   "id": "236a3ac0",
   "metadata": {
    "execution": {
     "iopub.execute_input": "2021-11-11T09:49:43.501044Z",
     "iopub.status.busy": "2021-11-11T09:49:43.500470Z",
     "iopub.status.idle": "2021-11-11T09:49:43.524157Z",
     "shell.execute_reply": "2021-11-11T09:49:43.524732Z",
     "shell.execute_reply.started": "2021-11-11T08:55:24.176463Z"
    },
    "papermill": {
     "duration": 0.099173,
     "end_time": "2021-11-11T09:49:43.524907",
     "exception": false,
     "start_time": "2021-11-11T09:49:43.425734",
     "status": "completed"
    },
    "tags": []
   },
   "outputs": [],
   "source": [
    "train=pd.read_csv(\"tit_train.csv\")\n",
    "test=pd.read_csv(\"tit_test.csv\")"
   ]
  },
  {
   "cell_type": "code",
   "execution_count": 4,
   "id": "b8eb0837",
   "metadata": {
    "execution": {
     "iopub.execute_input": "2021-11-11T09:49:43.672247Z",
     "iopub.status.busy": "2021-11-11T09:49:43.671660Z",
     "iopub.status.idle": "2021-11-11T09:49:43.678227Z",
     "shell.execute_reply": "2021-11-11T09:49:43.678789Z",
     "shell.execute_reply.started": "2021-11-11T08:55:24.194475Z"
    },
    "papermill": {
     "duration": 0.081731,
     "end_time": "2021-11-11T09:49:43.678951",
     "exception": false,
     "start_time": "2021-11-11T09:49:43.597220",
     "status": "completed"
    },
    "tags": []
   },
   "outputs": [
    {
     "data": {
      "text/plain": [
       "((891, 12), (418, 11))"
      ]
     },
     "execution_count": 4,
     "metadata": {},
     "output_type": "execute_result"
    }
   ],
   "source": [
    "train.shape,test.shape"
   ]
  },
  {
   "cell_type": "code",
   "execution_count": 5,
   "id": "5eb88991",
   "metadata": {
    "execution": {
     "iopub.execute_input": "2021-11-11T09:49:43.835191Z",
     "iopub.status.busy": "2021-11-11T09:49:43.834575Z",
     "iopub.status.idle": "2021-11-11T09:49:43.851165Z",
     "shell.execute_reply": "2021-11-11T09:49:43.851740Z",
     "shell.execute_reply.started": "2021-11-11T08:55:24.203101Z"
    },
    "papermill": {
     "duration": 0.100165,
     "end_time": "2021-11-11T09:49:43.851907",
     "exception": false,
     "start_time": "2021-11-11T09:49:43.751742",
     "status": "completed"
    },
    "tags": []
   },
   "outputs": [
    {
     "name": "stdout",
     "output_type": "stream",
     "text": [
      "<class 'pandas.core.frame.DataFrame'>\n",
      "RangeIndex: 891 entries, 0 to 890\n",
      "Data columns (total 12 columns):\n",
      " #   Column       Non-Null Count  Dtype  \n",
      "---  ------       --------------  -----  \n",
      " 0   PassengerId  891 non-null    int64  \n",
      " 1   Survived     891 non-null    int64  \n",
      " 2   Pclass       891 non-null    int64  \n",
      " 3   Name         891 non-null    object \n",
      " 4   Sex          891 non-null    object \n",
      " 5   Age          714 non-null    float64\n",
      " 6   SibSp        891 non-null    int64  \n",
      " 7   Parch        891 non-null    int64  \n",
      " 8   Ticket       891 non-null    object \n",
      " 9   Fare         891 non-null    float64\n",
      " 10  Cabin        204 non-null    object \n",
      " 11  Embarked     889 non-null    object \n",
      "dtypes: float64(2), int64(5), object(5)\n",
      "memory usage: 83.7+ KB\n"
     ]
    }
   ],
   "source": [
    "train.info() #to check the type of data int/float, and the vogue idea about null values"
   ]
  },
  {
   "cell_type": "code",
   "execution_count": 6,
   "id": "1d31b714",
   "metadata": {
    "execution": {
     "iopub.execute_input": "2021-11-11T09:49:44.011194Z",
     "iopub.status.busy": "2021-11-11T09:49:44.000830Z",
     "iopub.status.idle": "2021-11-11T09:49:44.013954Z",
     "shell.execute_reply": "2021-11-11T09:49:44.014495Z",
     "shell.execute_reply.started": "2021-11-11T08:55:24.225154Z"
    },
    "papermill": {
     "duration": 0.090256,
     "end_time": "2021-11-11T09:49:44.014690",
     "exception": false,
     "start_time": "2021-11-11T09:49:43.924434",
     "status": "completed"
    },
    "tags": []
   },
   "outputs": [
    {
     "name": "stdout",
     "output_type": "stream",
     "text": [
      "<class 'pandas.core.frame.DataFrame'>\n",
      "RangeIndex: 418 entries, 0 to 417\n",
      "Data columns (total 11 columns):\n",
      " #   Column       Non-Null Count  Dtype  \n",
      "---  ------       --------------  -----  \n",
      " 0   PassengerId  418 non-null    int64  \n",
      " 1   Pclass       418 non-null    int64  \n",
      " 2   Name         418 non-null    object \n",
      " 3   Sex          418 non-null    object \n",
      " 4   Age          332 non-null    float64\n",
      " 5   SibSp        418 non-null    int64  \n",
      " 6   Parch        418 non-null    int64  \n",
      " 7   Ticket       418 non-null    object \n",
      " 8   Fare         417 non-null    float64\n",
      " 9   Cabin        91 non-null     object \n",
      " 10  Embarked     418 non-null    object \n",
      "dtypes: float64(2), int64(4), object(5)\n",
      "memory usage: 36.0+ KB\n"
     ]
    }
   ],
   "source": [
    "test.info()  #to check the type of data int/float, and the vogue idea about null values"
   ]
  },
  {
   "cell_type": "code",
   "execution_count": 7,
   "id": "40ab30f6",
   "metadata": {
    "execution": {
     "iopub.execute_input": "2021-11-11T09:49:44.166092Z",
     "iopub.status.busy": "2021-11-11T09:49:44.165495Z",
     "iopub.status.idle": "2021-11-11T09:49:44.182196Z",
     "shell.execute_reply": "2021-11-11T09:49:44.182816Z",
     "shell.execute_reply.started": "2021-11-11T08:55:24.245024Z"
    },
    "papermill": {
     "duration": 0.093397,
     "end_time": "2021-11-11T09:49:44.182986",
     "exception": false,
     "start_time": "2021-11-11T09:49:44.089589",
     "status": "completed"
    },
    "tags": []
   },
   "outputs": [
    {
     "data": {
      "text/html": [
       "<div>\n",
       "<style scoped>\n",
       "    .dataframe tbody tr th:only-of-type {\n",
       "        vertical-align: middle;\n",
       "    }\n",
       "\n",
       "    .dataframe tbody tr th {\n",
       "        vertical-align: top;\n",
       "    }\n",
       "\n",
       "    .dataframe thead th {\n",
       "        text-align: right;\n",
       "    }\n",
       "</style>\n",
       "<table border=\"1\" class=\"dataframe\">\n",
       "  <thead>\n",
       "    <tr style=\"text-align: right;\">\n",
       "      <th></th>\n",
       "      <th>PassengerId</th>\n",
       "      <th>Survived</th>\n",
       "      <th>Pclass</th>\n",
       "      <th>Name</th>\n",
       "      <th>Sex</th>\n",
       "      <th>Age</th>\n",
       "      <th>SibSp</th>\n",
       "      <th>Parch</th>\n",
       "      <th>Ticket</th>\n",
       "      <th>Fare</th>\n",
       "      <th>Cabin</th>\n",
       "      <th>Embarked</th>\n",
       "    </tr>\n",
       "  </thead>\n",
       "  <tbody>\n",
       "    <tr>\n",
       "      <th>0</th>\n",
       "      <td>1</td>\n",
       "      <td>0</td>\n",
       "      <td>3</td>\n",
       "      <td>Braund, Mr. Owen Harris</td>\n",
       "      <td>male</td>\n",
       "      <td>22.0</td>\n",
       "      <td>1</td>\n",
       "      <td>0</td>\n",
       "      <td>A/5 21171</td>\n",
       "      <td>7.2500</td>\n",
       "      <td>NaN</td>\n",
       "      <td>S</td>\n",
       "    </tr>\n",
       "    <tr>\n",
       "      <th>1</th>\n",
       "      <td>2</td>\n",
       "      <td>1</td>\n",
       "      <td>1</td>\n",
       "      <td>Cumings, Mrs. John Bradley (Florence Briggs Th...</td>\n",
       "      <td>female</td>\n",
       "      <td>38.0</td>\n",
       "      <td>1</td>\n",
       "      <td>0</td>\n",
       "      <td>PC 17599</td>\n",
       "      <td>71.2833</td>\n",
       "      <td>C85</td>\n",
       "      <td>C</td>\n",
       "    </tr>\n",
       "    <tr>\n",
       "      <th>2</th>\n",
       "      <td>3</td>\n",
       "      <td>1</td>\n",
       "      <td>3</td>\n",
       "      <td>Heikkinen, Miss. Laina</td>\n",
       "      <td>female</td>\n",
       "      <td>26.0</td>\n",
       "      <td>0</td>\n",
       "      <td>0</td>\n",
       "      <td>STON/O2. 3101282</td>\n",
       "      <td>7.9250</td>\n",
       "      <td>NaN</td>\n",
       "      <td>S</td>\n",
       "    </tr>\n",
       "    <tr>\n",
       "      <th>3</th>\n",
       "      <td>4</td>\n",
       "      <td>1</td>\n",
       "      <td>1</td>\n",
       "      <td>Futrelle, Mrs. Jacques Heath (Lily May Peel)</td>\n",
       "      <td>female</td>\n",
       "      <td>35.0</td>\n",
       "      <td>1</td>\n",
       "      <td>0</td>\n",
       "      <td>113803</td>\n",
       "      <td>53.1000</td>\n",
       "      <td>C123</td>\n",
       "      <td>S</td>\n",
       "    </tr>\n",
       "  </tbody>\n",
       "</table>\n",
       "</div>"
      ],
      "text/plain": [
       "   PassengerId  Survived  Pclass  \\\n",
       "0            1         0       3   \n",
       "1            2         1       1   \n",
       "2            3         1       3   \n",
       "3            4         1       1   \n",
       "\n",
       "                                                Name     Sex   Age  SibSp  \\\n",
       "0                            Braund, Mr. Owen Harris    male  22.0      1   \n",
       "1  Cumings, Mrs. John Bradley (Florence Briggs Th...  female  38.0      1   \n",
       "2                             Heikkinen, Miss. Laina  female  26.0      0   \n",
       "3       Futrelle, Mrs. Jacques Heath (Lily May Peel)  female  35.0      1   \n",
       "\n",
       "   Parch            Ticket     Fare Cabin Embarked  \n",
       "0      0         A/5 21171   7.2500   NaN        S  \n",
       "1      0          PC 17599  71.2833   C85        C  \n",
       "2      0  STON/O2. 3101282   7.9250   NaN        S  \n",
       "3      0            113803  53.1000  C123        S  "
      ]
     },
     "execution_count": 7,
     "metadata": {},
     "output_type": "execute_result"
    }
   ],
   "source": [
    "train.head(4)"
   ]
  },
  {
   "cell_type": "code",
   "execution_count": 8,
   "id": "b4a818b6",
   "metadata": {
    "execution": {
     "iopub.execute_input": "2021-11-11T09:49:44.359280Z",
     "iopub.status.busy": "2021-11-11T09:49:44.358292Z",
     "iopub.status.idle": "2021-11-11T09:49:44.370896Z",
     "shell.execute_reply": "2021-11-11T09:49:44.371326Z",
     "shell.execute_reply.started": "2021-11-11T08:55:24.262972Z"
    },
    "papermill": {
     "duration": 0.114837,
     "end_time": "2021-11-11T09:49:44.371570",
     "exception": false,
     "start_time": "2021-11-11T09:49:44.256733",
     "status": "completed"
    },
    "tags": []
   },
   "outputs": [
    {
     "data": {
      "text/html": [
       "<div>\n",
       "<style scoped>\n",
       "    .dataframe tbody tr th:only-of-type {\n",
       "        vertical-align: middle;\n",
       "    }\n",
       "\n",
       "    .dataframe tbody tr th {\n",
       "        vertical-align: top;\n",
       "    }\n",
       "\n",
       "    .dataframe thead th {\n",
       "        text-align: right;\n",
       "    }\n",
       "</style>\n",
       "<table border=\"1\" class=\"dataframe\">\n",
       "  <thead>\n",
       "    <tr style=\"text-align: right;\">\n",
       "      <th></th>\n",
       "      <th>PassengerId</th>\n",
       "      <th>Pclass</th>\n",
       "      <th>Name</th>\n",
       "      <th>Sex</th>\n",
       "      <th>Age</th>\n",
       "      <th>SibSp</th>\n",
       "      <th>Parch</th>\n",
       "      <th>Ticket</th>\n",
       "      <th>Fare</th>\n",
       "      <th>Cabin</th>\n",
       "      <th>Embarked</th>\n",
       "    </tr>\n",
       "  </thead>\n",
       "  <tbody>\n",
       "    <tr>\n",
       "      <th>0</th>\n",
       "      <td>892</td>\n",
       "      <td>3</td>\n",
       "      <td>Kelly, Mr. James</td>\n",
       "      <td>male</td>\n",
       "      <td>34.5</td>\n",
       "      <td>0</td>\n",
       "      <td>0</td>\n",
       "      <td>330911</td>\n",
       "      <td>7.8292</td>\n",
       "      <td>NaN</td>\n",
       "      <td>Q</td>\n",
       "    </tr>\n",
       "    <tr>\n",
       "      <th>1</th>\n",
       "      <td>893</td>\n",
       "      <td>3</td>\n",
       "      <td>Wilkes, Mrs. James (Ellen Needs)</td>\n",
       "      <td>female</td>\n",
       "      <td>47.0</td>\n",
       "      <td>1</td>\n",
       "      <td>0</td>\n",
       "      <td>363272</td>\n",
       "      <td>7.0000</td>\n",
       "      <td>NaN</td>\n",
       "      <td>S</td>\n",
       "    </tr>\n",
       "    <tr>\n",
       "      <th>2</th>\n",
       "      <td>894</td>\n",
       "      <td>2</td>\n",
       "      <td>Myles, Mr. Thomas Francis</td>\n",
       "      <td>male</td>\n",
       "      <td>62.0</td>\n",
       "      <td>0</td>\n",
       "      <td>0</td>\n",
       "      <td>240276</td>\n",
       "      <td>9.6875</td>\n",
       "      <td>NaN</td>\n",
       "      <td>Q</td>\n",
       "    </tr>\n",
       "    <tr>\n",
       "      <th>3</th>\n",
       "      <td>895</td>\n",
       "      <td>3</td>\n",
       "      <td>Wirz, Mr. Albert</td>\n",
       "      <td>male</td>\n",
       "      <td>27.0</td>\n",
       "      <td>0</td>\n",
       "      <td>0</td>\n",
       "      <td>315154</td>\n",
       "      <td>8.6625</td>\n",
       "      <td>NaN</td>\n",
       "      <td>S</td>\n",
       "    </tr>\n",
       "  </tbody>\n",
       "</table>\n",
       "</div>"
      ],
      "text/plain": [
       "   PassengerId  Pclass                              Name     Sex   Age  SibSp  \\\n",
       "0          892       3                  Kelly, Mr. James    male  34.5      0   \n",
       "1          893       3  Wilkes, Mrs. James (Ellen Needs)  female  47.0      1   \n",
       "2          894       2         Myles, Mr. Thomas Francis    male  62.0      0   \n",
       "3          895       3                  Wirz, Mr. Albert    male  27.0      0   \n",
       "\n",
       "   Parch  Ticket    Fare Cabin Embarked  \n",
       "0      0  330911  7.8292   NaN        Q  \n",
       "1      0  363272  7.0000   NaN        S  \n",
       "2      0  240276  9.6875   NaN        Q  \n",
       "3      0  315154  8.6625   NaN        S  "
      ]
     },
     "execution_count": 8,
     "metadata": {},
     "output_type": "execute_result"
    }
   ],
   "source": [
    "test.head(4)"
   ]
  },
  {
   "cell_type": "code",
   "execution_count": 9,
   "id": "85e9703b",
   "metadata": {
    "execution": {
     "iopub.execute_input": "2021-11-11T09:49:44.528557Z",
     "iopub.status.busy": "2021-11-11T09:49:44.527987Z",
     "iopub.status.idle": "2021-11-11T09:49:44.555191Z",
     "shell.execute_reply": "2021-11-11T09:49:44.555779Z",
     "shell.execute_reply.started": "2021-11-11T08:55:24.282568Z"
    },
    "papermill": {
     "duration": 0.103916,
     "end_time": "2021-11-11T09:49:44.555949",
     "exception": false,
     "start_time": "2021-11-11T09:49:44.452033",
     "status": "completed"
    },
    "tags": []
   },
   "outputs": [
    {
     "data": {
      "text/html": [
       "<div>\n",
       "<style scoped>\n",
       "    .dataframe tbody tr th:only-of-type {\n",
       "        vertical-align: middle;\n",
       "    }\n",
       "\n",
       "    .dataframe tbody tr th {\n",
       "        vertical-align: top;\n",
       "    }\n",
       "\n",
       "    .dataframe thead th {\n",
       "        text-align: right;\n",
       "    }\n",
       "</style>\n",
       "<table border=\"1\" class=\"dataframe\">\n",
       "  <thead>\n",
       "    <tr style=\"text-align: right;\">\n",
       "      <th></th>\n",
       "      <th>PassengerId</th>\n",
       "      <th>Survived</th>\n",
       "      <th>Pclass</th>\n",
       "      <th>Age</th>\n",
       "      <th>SibSp</th>\n",
       "      <th>Parch</th>\n",
       "      <th>Fare</th>\n",
       "    </tr>\n",
       "  </thead>\n",
       "  <tbody>\n",
       "    <tr>\n",
       "      <th>count</th>\n",
       "      <td>891.000000</td>\n",
       "      <td>891.000000</td>\n",
       "      <td>891.000000</td>\n",
       "      <td>714.000000</td>\n",
       "      <td>891.000000</td>\n",
       "      <td>891.000000</td>\n",
       "      <td>891.000000</td>\n",
       "    </tr>\n",
       "    <tr>\n",
       "      <th>mean</th>\n",
       "      <td>446.000000</td>\n",
       "      <td>0.383838</td>\n",
       "      <td>2.308642</td>\n",
       "      <td>29.699118</td>\n",
       "      <td>0.523008</td>\n",
       "      <td>0.381594</td>\n",
       "      <td>32.204208</td>\n",
       "    </tr>\n",
       "    <tr>\n",
       "      <th>std</th>\n",
       "      <td>257.353842</td>\n",
       "      <td>0.486592</td>\n",
       "      <td>0.836071</td>\n",
       "      <td>14.526497</td>\n",
       "      <td>1.102743</td>\n",
       "      <td>0.806057</td>\n",
       "      <td>49.693429</td>\n",
       "    </tr>\n",
       "    <tr>\n",
       "      <th>min</th>\n",
       "      <td>1.000000</td>\n",
       "      <td>0.000000</td>\n",
       "      <td>1.000000</td>\n",
       "      <td>0.420000</td>\n",
       "      <td>0.000000</td>\n",
       "      <td>0.000000</td>\n",
       "      <td>0.000000</td>\n",
       "    </tr>\n",
       "    <tr>\n",
       "      <th>25%</th>\n",
       "      <td>223.500000</td>\n",
       "      <td>0.000000</td>\n",
       "      <td>2.000000</td>\n",
       "      <td>20.125000</td>\n",
       "      <td>0.000000</td>\n",
       "      <td>0.000000</td>\n",
       "      <td>7.910400</td>\n",
       "    </tr>\n",
       "    <tr>\n",
       "      <th>50%</th>\n",
       "      <td>446.000000</td>\n",
       "      <td>0.000000</td>\n",
       "      <td>3.000000</td>\n",
       "      <td>28.000000</td>\n",
       "      <td>0.000000</td>\n",
       "      <td>0.000000</td>\n",
       "      <td>14.454200</td>\n",
       "    </tr>\n",
       "    <tr>\n",
       "      <th>75%</th>\n",
       "      <td>668.500000</td>\n",
       "      <td>1.000000</td>\n",
       "      <td>3.000000</td>\n",
       "      <td>38.000000</td>\n",
       "      <td>1.000000</td>\n",
       "      <td>0.000000</td>\n",
       "      <td>31.000000</td>\n",
       "    </tr>\n",
       "    <tr>\n",
       "      <th>max</th>\n",
       "      <td>891.000000</td>\n",
       "      <td>1.000000</td>\n",
       "      <td>3.000000</td>\n",
       "      <td>80.000000</td>\n",
       "      <td>8.000000</td>\n",
       "      <td>6.000000</td>\n",
       "      <td>512.329200</td>\n",
       "    </tr>\n",
       "  </tbody>\n",
       "</table>\n",
       "</div>"
      ],
      "text/plain": [
       "       PassengerId    Survived      Pclass         Age       SibSp  \\\n",
       "count   891.000000  891.000000  891.000000  714.000000  891.000000   \n",
       "mean    446.000000    0.383838    2.308642   29.699118    0.523008   \n",
       "std     257.353842    0.486592    0.836071   14.526497    1.102743   \n",
       "min       1.000000    0.000000    1.000000    0.420000    0.000000   \n",
       "25%     223.500000    0.000000    2.000000   20.125000    0.000000   \n",
       "50%     446.000000    0.000000    3.000000   28.000000    0.000000   \n",
       "75%     668.500000    1.000000    3.000000   38.000000    1.000000   \n",
       "max     891.000000    1.000000    3.000000   80.000000    8.000000   \n",
       "\n",
       "            Parch        Fare  \n",
       "count  891.000000  891.000000  \n",
       "mean     0.381594   32.204208  \n",
       "std      0.806057   49.693429  \n",
       "min      0.000000    0.000000  \n",
       "25%      0.000000    7.910400  \n",
       "50%      0.000000   14.454200  \n",
       "75%      0.000000   31.000000  \n",
       "max      6.000000  512.329200  "
      ]
     },
     "execution_count": 9,
     "metadata": {},
     "output_type": "execute_result"
    }
   ],
   "source": [
    "train.describe()"
   ]
  },
  {
   "cell_type": "markdown",
   "id": "8da23126",
   "metadata": {
    "papermill": {
     "duration": 0.073868,
     "end_time": "2021-11-11T09:49:44.703922",
     "exception": false,
     "start_time": "2021-11-11T09:49:44.630054",
     "status": "completed"
    },
    "tags": []
   },
   "source": [
    "# 1.EXPLORATORY DATA ANALYSIS (EDA)"
   ]
  },
  {
   "cell_type": "markdown",
   "id": "c592e1bb",
   "metadata": {
    "execution": {
     "iopub.execute_input": "2021-11-11T06:36:17.866703Z",
     "iopub.status.busy": "2021-11-11T06:36:17.866376Z",
     "iopub.status.idle": "2021-11-11T06:36:17.870298Z",
     "shell.execute_reply": "2021-11-11T06:36:17.869537Z",
     "shell.execute_reply.started": "2021-11-11T06:36:17.866668Z"
    },
    "papermill": {
     "duration": 0.073636,
     "end_time": "2021-11-11T09:49:44.851264",
     "exception": false,
     "start_time": "2021-11-11T09:49:44.777628",
     "status": "completed"
    },
    "tags": []
   },
   "source": [
    "## EDA (Catagorical Features)"
   ]
  },
  {
   "cell_type": "code",
   "execution_count": 10,
   "id": "7af36dfe",
   "metadata": {
    "execution": {
     "iopub.execute_input": "2021-11-11T09:49:45.002104Z",
     "iopub.status.busy": "2021-11-11T09:49:45.001534Z",
     "iopub.status.idle": "2021-11-11T09:49:45.004792Z",
     "shell.execute_reply": "2021-11-11T09:49:45.005329Z",
     "shell.execute_reply.started": "2021-11-11T08:55:24.322849Z"
    },
    "papermill": {
     "duration": 0.080308,
     "end_time": "2021-11-11T09:49:45.005510",
     "exception": false,
     "start_time": "2021-11-11T09:49:44.925202",
     "status": "completed"
    },
    "tags": []
   },
   "outputs": [],
   "source": [
    "#quant_features=train.select_dtypes(exclude=['object']).columns\n",
    "#cat_features=train.select_dtypes(include=['object']).columns\n",
    "quant_feature=['Age','SibSp','Parch','Fare']\n",
    "cat_features=['Pclass','Sex','Embarked','Ticket','Cabin','Survived']"
   ]
  },
  {
   "cell_type": "code",
   "execution_count": 11,
   "id": "3719f0a2",
   "metadata": {
    "execution": {
     "iopub.execute_input": "2021-11-11T09:49:45.159137Z",
     "iopub.status.busy": "2021-11-11T09:49:45.158542Z",
     "iopub.status.idle": "2021-11-11T09:50:14.615377Z",
     "shell.execute_reply": "2021-11-11T09:50:14.614493Z",
     "shell.execute_reply.started": "2021-11-11T08:55:24.332197Z"
    },
    "papermill": {
     "duration": 29.534886,
     "end_time": "2021-11-11T09:50:14.615532",
     "exception": false,
     "start_time": "2021-11-11T09:49:45.080646",
     "status": "completed"
    },
    "tags": []
   },
   "outputs": [
    {
     "data": {
      "image/png": "[encoded data removed]",
      "text/plain": [
       "<Figure size 432x288 with 1 Axes>"
      ]
     },
     "metadata": {
      "needs_background": "light"
     },
     "output_type": "display_data"
    },
    {
     "data": {
      "image/png": "[encoded data removed]",
      "text/plain": [
       "<Figure size 432x288 with 1 Axes>"
      ]
     },
     "metadata": {
      "needs_background": "light"
     },
     "output_type": "display_data"
    },
    {
     "data": {
      "image/png": "[encoded data removed]",
      "text/plain": [
       "<Figure size 432x288 with 1 Axes>"
      ]
     },
     "metadata": {
      "needs_background": "light"
     },
     "output_type": "display_data"
    },
    {
     "data": {
      "image/png": "[encoded data removed]",
      "text/plain": [
       "<Figure size 432x288 with 1 Axes>"
      ]
     },
     "metadata": {
      "needs_background": "light"
     },
     "output_type": "display_data"
    },
    {
     "data": {
      "image/png": "[encoded data removed]",
      "text/plain": [
       "<Figure size 432x288 with 1 Axes>"
      ]
     },
     "metadata": {
      "needs_background": "light"
     },
     "output_type": "display_data"
    },
    {
     "data": {
      "image/png": "[encoded data removed]",
      "text/plain": [
       "<Figure size 432x288 with 1 Axes>"
      ]
     },
     "metadata": {
      "needs_background": "light"
     },
     "output_type": "display_data"
    },
    {
     "data": {
      "image/png": "[encoded data removed]",
      "text/plain": [
       "<Figure size 432x288 with 1 Axes>"
      ]
     },
     "metadata": {
      "needs_background": "light"
     },
     "output_type": "display_data"
    },
    {
     "data": {
      "image/png": "[encoded data removed]",
      "text/plain": [
       "<Figure size 432x288 with 1 Axes>"
      ]
     },
     "metadata": {
      "needs_background": "light"
     },
     "output_type": "display_data"
    },
    {
     "data": {
      "image/png": "[encoded data removed]",
      "text/plain": [
       "<Figure size 432x288 with 1 Axes>"
      ]
     },
     "metadata": {
      "needs_background": "light"
     },
     "output_type": "display_data"
    },
    {
     "data": {
      "image/png": "[encoded data removed]",
      "text/plain": [
       "<Figure size 432x288 with 1 Axes>"
      ]
     },
     "metadata": {
      "needs_background": "light"
     },
     "output_type": "display_data"
    },
    {
     "data": {
      "image/png": "[encoded data removed]",
      "text/plain": [
       "<Figure size 432x288 with 1 Axes>"
      ]
     },
     "metadata": {
      "needs_background": "light"
     },
     "output_type": "display_data"
    },
    {
     "data": {
      "image/png": "[encoded data removed]",
      "text/plain": [
       "<Figure size 432x288 with 1 Axes>"
      ]
     },
     "metadata": {
      "needs_background": "light"
     },
     "output_type": "display_data"
    }
   ],
   "source": [
    "for i in cat_features:\n",
    "    #sns.countplot(x=i,data=train)\n",
    "    sns.countplot(x=i,data=train,hue='Survived')\n",
    "    plt.show()\n",
    "    sns.barplot(x=i,y='Survived',data=train)\n",
    "    plt.show()"
   ]
  },
  {
   "cell_type": "markdown",
   "id": "15753bcf",
   "metadata": {
    "papermill": {
     "duration": 0.080272,
     "end_time": "2021-11-11T09:50:14.777708",
     "exception": false,
     "start_time": "2021-11-11T09:50:14.697436",
     "status": "completed"
    },
    "tags": []
   },
   "source": [
    "## EDA Numerical Features"
   ]
  },
  {
   "cell_type": "code",
   "execution_count": 12,
   "id": "9caadade",
   "metadata": {
    "execution": {
     "iopub.execute_input": "2021-11-11T09:50:14.944242Z",
     "iopub.status.busy": "2021-11-11T09:50:14.943611Z",
     "iopub.status.idle": "2021-11-11T09:50:14.946892Z",
     "shell.execute_reply": "2021-11-11T09:50:14.947405Z",
     "shell.execute_reply.started": "2021-11-11T08:55:58.514358Z"
    },
    "papermill": {
     "duration": 0.087888,
     "end_time": "2021-11-11T09:50:14.947575",
     "exception": false,
     "start_time": "2021-11-11T09:50:14.859687",
     "status": "completed"
    },
    "tags": []
   },
   "outputs": [],
   "source": [
    "#Check the disturbution of quantiative data and might be required to standardize/normalize it , "
   ]
  },
  {
   "cell_type": "code",
   "execution_count": 13,
   "id": "0e18ae45",
   "metadata": {
    "execution": {
     "iopub.execute_input": "2021-11-11T09:50:15.111848Z",
     "iopub.status.busy": "2021-11-11T09:50:15.111196Z",
     "iopub.status.idle": "2021-11-11T09:50:16.190171Z",
     "shell.execute_reply": "2021-11-11T09:50:16.189641Z",
     "shell.execute_reply.started": "2021-11-11T08:55:58.520448Z"
    },
    "papermill": {
     "duration": 1.162097,
     "end_time": "2021-11-11T09:50:16.190316",
     "exception": false,
     "start_time": "2021-11-11T09:50:15.028219",
     "status": "completed"
    },
    "tags": []
   },
   "outputs": [
    {
     "data": {
      "image/png": "[encoded data removed]",
      "text/plain": [
       "<Figure size 432x288 with 1 Axes>"
      ]
     },
     "metadata": {
      "needs_background": "light"
     },
     "output_type": "display_data"
    },
    {
     "data": {
      "image/png": "[encoded data removed]",
      "text/plain": [
       "<Figure size 432x288 with 1 Axes>"
      ]
     },
     "metadata": {
      "needs_background": "light"
     },
     "output_type": "display_data"
    },
    {
     "data": {
      "image/png": "[encoded data removed]",
      "text/plain": [
       "<Figure size 432x288 with 1 Axes>"
      ]
     },
     "metadata": {
      "needs_background": "light"
     },
     "output_type": "display_data"
    },
    {
     "data": {
      "image/png": "[encoded data removed]",
      "text/plain": [
       "<Figure size 432x288 with 1 Axes>"
      ]
     },
     "metadata": {
      "needs_background": "light"
     },
     "output_type": "display_data"
    }
   ],
   "source": [
    "for i in quant_feature:\n",
    "    sns.histplot(train[i])\n",
    "    plt.show()\n",
    "    "
   ]
  },
  {
   "cell_type": "code",
   "execution_count": 14,
   "id": "697e3527",
   "metadata": {
    "execution": {
     "iopub.execute_input": "2021-11-11T09:50:16.386940Z",
     "iopub.status.busy": "2021-11-11T09:50:16.381769Z",
     "iopub.status.idle": "2021-11-11T09:50:16.645384Z",
     "shell.execute_reply": "2021-11-11T09:50:16.645831Z",
     "shell.execute_reply.started": "2021-11-11T08:55:59.626527Z"
    },
    "papermill": {
     "duration": 0.371256,
     "end_time": "2021-11-11T09:50:16.646012",
     "exception": false,
     "start_time": "2021-11-11T09:50:16.274756",
     "status": "completed"
    },
    "tags": []
   },
   "outputs": [
    {
     "data": {
      "text/plain": [
       "<AxesSubplot:>"
      ]
     },
     "execution_count": 14,
     "metadata": {},
     "output_type": "execute_result"
    },
    {
     "data": {
      "image/png": "[encoded data removed]",
      "text/plain": [
       "<Figure size 432x288 with 2 Axes>"
      ]
     },
     "metadata": {
      "needs_background": "light"
     },
     "output_type": "display_data"
    }
   ],
   "source": [
    "#heatmap to check the correclation between the featues , \n",
    "#if it is highly correlated we have to ignore one of the feature\n",
    "sns.heatmap(train[quant_feature].corr(),annot=True)  "
   ]
  },
  {
   "cell_type": "code",
   "execution_count": 15,
   "id": "567ee3c9",
   "metadata": {
    "execution": {
     "iopub.execute_input": "2021-11-11T09:50:16.818220Z",
     "iopub.status.busy": "2021-11-11T09:50:16.817647Z",
     "iopub.status.idle": "2021-11-11T09:50:16.840058Z",
     "shell.execute_reply": "2021-11-11T09:50:16.839591Z",
     "shell.execute_reply.started": "2021-11-11T08:55:59.950823Z"
    },
    "papermill": {
     "duration": 0.10966,
     "end_time": "2021-11-11T09:50:16.840207",
     "exception": false,
     "start_time": "2021-11-11T09:50:16.730547",
     "status": "completed"
    },
    "tags": []
   },
   "outputs": [
    {
     "data": {
      "text/html": [
       "<div>\n",
       "<style scoped>\n",
       "    .dataframe tbody tr th:only-of-type {\n",
       "        vertical-align: middle;\n",
       "    }\n",
       "\n",
       "    .dataframe tbody tr th {\n",
       "        vertical-align: top;\n",
       "    }\n",
       "\n",
       "    .dataframe thead th {\n",
       "        text-align: right;\n",
       "    }\n",
       "</style>\n",
       "<table border=\"1\" class=\"dataframe\">\n",
       "  <thead>\n",
       "    <tr style=\"text-align: right;\">\n",
       "      <th></th>\n",
       "      <th>Age</th>\n",
       "      <th>Fare</th>\n",
       "      <th>Parch</th>\n",
       "      <th>SibSp</th>\n",
       "    </tr>\n",
       "    <tr>\n",
       "      <th>Survived</th>\n",
       "      <th></th>\n",
       "      <th></th>\n",
       "      <th></th>\n",
       "      <th></th>\n",
       "    </tr>\n",
       "  </thead>\n",
       "  <tbody>\n",
       "    <tr>\n",
       "      <th>0</th>\n",
       "      <td>30.626179</td>\n",
       "      <td>22.117887</td>\n",
       "      <td>0.329690</td>\n",
       "      <td>0.553734</td>\n",
       "    </tr>\n",
       "    <tr>\n",
       "      <th>1</th>\n",
       "      <td>28.343690</td>\n",
       "      <td>48.395408</td>\n",
       "      <td>0.464912</td>\n",
       "      <td>0.473684</td>\n",
       "    </tr>\n",
       "  </tbody>\n",
       "</table>\n",
       "</div>"
      ],
      "text/plain": [
       "                Age       Fare     Parch     SibSp\n",
       "Survived                                          \n",
       "0         30.626179  22.117887  0.329690  0.553734\n",
       "1         28.343690  48.395408  0.464912  0.473684"
      ]
     },
     "execution_count": 15,
     "metadata": {},
     "output_type": "execute_result"
    }
   ],
   "source": [
    "x=pd.pivot_table(train,index='Survived',values=quant_feature)\n",
    "x"
   ]
  },
  {
   "cell_type": "code",
   "execution_count": 16,
   "id": "69d92b3f",
   "metadata": {
    "execution": {
     "iopub.execute_input": "2021-11-11T09:50:17.016110Z",
     "iopub.status.busy": "2021-11-11T09:50:17.015518Z",
     "iopub.status.idle": "2021-11-11T09:50:17.019059Z",
     "shell.execute_reply": "2021-11-11T09:50:17.019628Z",
     "shell.execute_reply.started": "2021-11-11T08:55:59.974142Z"
    },
    "papermill": {
     "duration": 0.093315,
     "end_time": "2021-11-11T09:50:17.019809",
     "exception": false,
     "start_time": "2021-11-11T09:50:16.926494",
     "status": "completed"
    },
    "tags": []
   },
   "outputs": [],
   "source": [
    "group_survival=train.groupby(['Survived','Pclass'])"
   ]
  },
  {
   "cell_type": "code",
   "execution_count": 17,
   "id": "d8d5ab9e",
   "metadata": {
    "execution": {
     "iopub.execute_input": "2021-11-11T09:50:17.193547Z",
     "iopub.status.busy": "2021-11-11T09:50:17.192845Z",
     "iopub.status.idle": "2021-11-11T09:50:17.203243Z",
     "shell.execute_reply": "2021-11-11T09:50:17.203765Z",
     "shell.execute_reply.started": "2021-11-11T08:55:59.988805Z"
    },
    "papermill": {
     "duration": 0.098656,
     "end_time": "2021-11-11T09:50:17.203933",
     "exception": false,
     "start_time": "2021-11-11T09:50:17.105277",
     "status": "completed"
    },
    "tags": []
   },
   "outputs": [
    {
     "data": {
      "text/html": [
       "<div>\n",
       "<style scoped>\n",
       "    .dataframe tbody tr th:only-of-type {\n",
       "        vertical-align: middle;\n",
       "    }\n",
       "\n",
       "    .dataframe tbody tr th {\n",
       "        vertical-align: top;\n",
       "    }\n",
       "\n",
       "    .dataframe thead th {\n",
       "        text-align: right;\n",
       "    }\n",
       "</style>\n",
       "<table border=\"1\" class=\"dataframe\">\n",
       "  <thead>\n",
       "    <tr style=\"text-align: right;\">\n",
       "      <th></th>\n",
       "      <th></th>\n",
       "      <th>Age</th>\n",
       "    </tr>\n",
       "    <tr>\n",
       "      <th>Survived</th>\n",
       "      <th>Pclass</th>\n",
       "      <th></th>\n",
       "    </tr>\n",
       "  </thead>\n",
       "  <tbody>\n",
       "    <tr>\n",
       "      <th rowspan=\"3\" valign=\"top\">0</th>\n",
       "      <th>1</th>\n",
       "      <td>43.695312</td>\n",
       "    </tr>\n",
       "    <tr>\n",
       "      <th>2</th>\n",
       "      <td>33.544444</td>\n",
       "    </tr>\n",
       "    <tr>\n",
       "      <th>3</th>\n",
       "      <td>26.555556</td>\n",
       "    </tr>\n",
       "    <tr>\n",
       "      <th rowspan=\"3\" valign=\"top\">1</th>\n",
       "      <th>1</th>\n",
       "      <td>35.368197</td>\n",
       "    </tr>\n",
       "    <tr>\n",
       "      <th>2</th>\n",
       "      <td>25.901566</td>\n",
       "    </tr>\n",
       "    <tr>\n",
       "      <th>3</th>\n",
       "      <td>20.646118</td>\n",
       "    </tr>\n",
       "  </tbody>\n",
       "</table>\n",
       "</div>"
      ],
      "text/plain": [
       "                       Age\n",
       "Survived Pclass           \n",
       "0        1       43.695312\n",
       "         2       33.544444\n",
       "         3       26.555556\n",
       "1        1       35.368197\n",
       "         2       25.901566\n",
       "         3       20.646118"
      ]
     },
     "execution_count": 17,
     "metadata": {},
     "output_type": "execute_result"
    }
   ],
   "source": [
    "group_survival['Age',].mean()"
   ]
  },
  {
   "cell_type": "markdown",
   "id": "4f6dd69c",
   "metadata": {
    "execution": {
     "iopub.execute_input": "2021-11-11T05:51:45.445405Z",
     "iopub.status.busy": "2021-11-11T05:51:45.444829Z",
     "iopub.status.idle": "2021-11-11T05:51:45.448447Z",
     "shell.execute_reply": "2021-11-11T05:51:45.447933Z",
     "shell.execute_reply.started": "2021-11-11T05:51:45.445363Z"
    },
    "papermill": {
     "duration": 0.106174,
     "end_time": "2021-11-11T09:50:17.398106",
     "exception": false,
     "start_time": "2021-11-11T09:50:17.291932",
     "status": "completed"
    },
    "tags": []
   },
   "source": [
    "# 2.FEATURE ENGINEERING"
   ]
  },
  {
   "cell_type": "code",
   "execution_count": 18,
   "id": "f35fc71a",
   "metadata": {
    "execution": {
     "iopub.execute_input": "2021-11-11T09:50:17.572733Z",
     "iopub.status.busy": "2021-11-11T09:50:17.570091Z",
     "iopub.status.idle": "2021-11-11T09:50:17.578486Z",
     "shell.execute_reply": "2021-11-11T09:50:17.578952Z",
     "shell.execute_reply.started": "2021-11-11T08:56:00.011303Z"
    },
    "papermill": {
     "duration": 0.096171,
     "end_time": "2021-11-11T09:50:17.579134",
     "exception": false,
     "start_time": "2021-11-11T09:50:17.482963",
     "status": "completed"
    },
    "tags": []
   },
   "outputs": [],
   "source": [
    "\"\"\"\n",
    "Creating a new dataset by combining both the test and train data ,which will be easy to preprocess and later just before modeling split it again into train and test \n",
    "This will avoid the tedious process of preprocessing train and test datasets seperately and avoid confusiions lateron \"\"\"\n",
    "dataset =  pd.concat(objs=[train, test], axis=0).reset_index(drop=True)"
   ]
  },
  {
   "cell_type": "code",
   "execution_count": 19,
   "id": "6d8baed0",
   "metadata": {
    "execution": {
     "iopub.execute_input": "2021-11-11T09:50:17.754308Z",
     "iopub.status.busy": "2021-11-11T09:50:17.753395Z",
     "iopub.status.idle": "2021-11-11T09:50:17.758789Z",
     "shell.execute_reply": "2021-11-11T09:50:17.759324Z",
     "shell.execute_reply.started": "2021-11-11T08:56:00.025471Z"
    },
    "papermill": {
     "duration": 0.094119,
     "end_time": "2021-11-11T09:50:17.759508",
     "exception": false,
     "start_time": "2021-11-11T09:50:17.665389",
     "status": "completed"
    },
    "tags": []
   },
   "outputs": [
    {
     "data": {
      "text/plain": [
       "'\\nThe passenger id for the test data is required as column name IDtest in future for submission \\n'"
      ]
     },
     "execution_count": 19,
     "metadata": {},
     "output_type": "execute_result"
    }
   ],
   "source": [
    "IDtest = test[\"PassengerId\"]\n",
    "\"\"\"\n",
    "The passenger id for the test data is required as column name IDtest in future for submission \n",
    "\"\"\""
   ]
  },
  {
   "cell_type": "code",
   "execution_count": 20,
   "id": "810029ac",
   "metadata": {
    "execution": {
     "iopub.execute_input": "2021-11-11T09:50:17.933822Z",
     "iopub.status.busy": "2021-11-11T09:50:17.932807Z",
     "iopub.status.idle": "2021-11-11T09:50:17.942296Z",
     "shell.execute_reply": "2021-11-11T09:50:17.941731Z",
     "shell.execute_reply.started": "2021-11-11T08:56:00.033036Z"
    },
    "papermill": {
     "duration": 0.097478,
     "end_time": "2021-11-11T09:50:17.942469",
     "exception": false,
     "start_time": "2021-11-11T09:50:17.844991",
     "status": "completed"
    },
    "tags": []
   },
   "outputs": [
    {
     "data": {
      "text/plain": [
       "PassengerId       0\n",
       "Survived        418\n",
       "Pclass            0\n",
       "Name              0\n",
       "Sex               0\n",
       "Age             263\n",
       "SibSp             0\n",
       "Parch             0\n",
       "Ticket            0\n",
       "Fare              1\n",
       "Cabin          1014\n",
       "Embarked          2\n",
       "dtype: int64"
      ]
     },
     "execution_count": 20,
     "metadata": {},
     "output_type": "execute_result"
    }
   ],
   "source": [
    "dataset.isnull().sum()"
   ]
  },
  {
   "cell_type": "markdown",
   "id": "c07c5302",
   "metadata": {
    "execution": {
     "iopub.execute_input": "2021-11-11T06:35:13.833353Z",
     "iopub.status.busy": "2021-11-11T06:35:13.833057Z",
     "iopub.status.idle": "2021-11-11T06:35:13.836953Z",
     "shell.execute_reply": "2021-11-11T06:35:13.836169Z",
     "shell.execute_reply.started": "2021-11-11T06:35:13.83332Z"
    },
    "papermill": {
     "duration": 0.085233,
     "end_time": "2021-11-11T09:50:18.113404",
     "exception": false,
     "start_time": "2021-11-11T09:50:18.028171",
     "status": "completed"
    },
    "tags": []
   },
   "source": [
    "## Handling Null/Nan values"
   ]
  },
  {
   "cell_type": "code",
   "execution_count": 21,
   "id": "a73cdc1e",
   "metadata": {
    "execution": {
     "iopub.execute_input": "2021-11-11T09:50:18.289697Z",
     "iopub.status.busy": "2021-11-11T09:50:18.289025Z",
     "iopub.status.idle": "2021-11-11T09:50:18.293686Z",
     "shell.execute_reply": "2021-11-11T09:50:18.294161Z",
     "shell.execute_reply.started": "2021-11-11T08:56:00.051073Z"
    },
    "papermill": {
     "duration": 0.093503,
     "end_time": "2021-11-11T09:50:18.294330",
     "exception": false,
     "start_time": "2021-11-11T09:50:18.200827",
     "status": "completed"
    },
    "tags": []
   },
   "outputs": [],
   "source": [
    "dataset['Embarked']=dataset['Embarked'].fillna(dataset['Embarked'].mode()[0])  \n",
    "#since it is two Nan in Embarked, filled with the mode or maximum occurance"
   ]
  },
  {
   "cell_type": "code",
   "execution_count": 22,
   "id": "60c7989d",
   "metadata": {
    "execution": {
     "iopub.execute_input": "2021-11-11T09:50:18.467819Z",
     "iopub.status.busy": "2021-11-11T09:50:18.467167Z",
     "iopub.status.idle": "2021-11-11T09:50:18.471220Z",
     "shell.execute_reply": "2021-11-11T09:50:18.471846Z",
     "shell.execute_reply.started": "2021-11-11T08:56:00.065978Z"
    },
    "papermill": {
     "duration": 0.092386,
     "end_time": "2021-11-11T09:50:18.472023",
     "exception": false,
     "start_time": "2021-11-11T09:50:18.379637",
     "status": "completed"
    },
    "tags": []
   },
   "outputs": [],
   "source": [
    "dataset['Fare']=dataset['Fare'].fillna(dataset['Fare'].median()) \n",
    "#Nan-Fare values filled with median of the data"
   ]
  },
  {
   "cell_type": "markdown",
   "id": "43da9306",
   "metadata": {
    "execution": {
     "iopub.execute_input": "2021-11-09T21:55:54.189522Z",
     "iopub.status.busy": "2021-11-09T21:55:54.189192Z",
     "iopub.status.idle": "2021-11-09T21:55:54.197026Z",
     "shell.execute_reply": "2021-11-09T21:55:54.19587Z",
     "shell.execute_reply.started": "2021-11-09T21:55:54.189478Z"
    },
    "papermill": {
     "duration": 0.084585,
     "end_time": "2021-11-11T09:50:18.641372",
     "exception": false,
     "start_time": "2021-11-11T09:50:18.556787",
     "status": "completed"
    },
    "tags": []
   },
   "source": [
    "Handling NaN : AGE\n",
    "First need to find which are the other features have influence to age feature\n",
    "So plot other features against Age"
   ]
  },
  {
   "cell_type": "code",
   "execution_count": 23,
   "id": "938fa26d",
   "metadata": {
    "execution": {
     "iopub.execute_input": "2021-11-11T09:50:18.817610Z",
     "iopub.status.busy": "2021-11-11T09:50:18.816936Z",
     "iopub.status.idle": "2021-11-11T09:50:18.965626Z",
     "shell.execute_reply": "2021-11-11T09:50:18.965069Z",
     "shell.execute_reply.started": "2021-11-11T08:56:00.08266Z"
    },
    "papermill": {
     "duration": 0.239261,
     "end_time": "2021-11-11T09:50:18.965787",
     "exception": false,
     "start_time": "2021-11-11T09:50:18.726526",
     "status": "completed"
    },
    "tags": []
   },
   "outputs": [
    {
     "data": {
      "text/plain": [
       "<AxesSubplot:xlabel='Sex', ylabel='Age'>"
      ]
     },
     "execution_count": 23,
     "metadata": {},
     "output_type": "execute_result"
    },
    {
     "data": {
      "image/png": "[encoded data removed]",
      "text/plain": [
       "<Figure size 432x288 with 1 Axes>"
      ]
     },
     "metadata": {
      "needs_background": "light"
     },
     "output_type": "display_data"
    }
   ],
   "source": [
    "sns.boxplot(x='Sex',y='Age',data=dataset)\n",
    "# the distribution of age data (range as well as the mean ) against Gender are amlost same.\n",
    "# we can ignore this feature to fill Age Nan."
   ]
  },
  {
   "cell_type": "code",
   "execution_count": 24,
   "id": "081c4dad",
   "metadata": {
    "execution": {
     "iopub.execute_input": "2021-11-11T09:50:19.146271Z",
     "iopub.status.busy": "2021-11-11T09:50:19.145214Z",
     "iopub.status.idle": "2021-11-11T09:50:19.314509Z",
     "shell.execute_reply": "2021-11-11T09:50:19.314999Z",
     "shell.execute_reply.started": "2021-11-11T08:56:00.312836Z"
    },
    "papermill": {
     "duration": 0.260041,
     "end_time": "2021-11-11T09:50:19.315168",
     "exception": false,
     "start_time": "2021-11-11T09:50:19.055127",
     "status": "completed"
    },
    "tags": []
   },
   "outputs": [
    {
     "data": {
      "text/plain": [
       "<AxesSubplot:xlabel='Pclass', ylabel='Age'>"
      ]
     },
     "execution_count": 24,
     "metadata": {},
     "output_type": "execute_result"
    },
    {
     "data": {
      "image/png": "[encoded data removed]",
      "text/plain": [
       "<Figure size 432x288 with 1 Axes>"
      ]
     },
     "metadata": {
      "needs_background": "light"
     },
     "output_type": "display_data"
    }
   ],
   "source": [
    "sns.boxplot(x='Pclass',y='Age',data=dataset)\n",
    "#in this we can observe the distribution of Age against different Pclass class is different , \n",
    "#so this can be considered to fill Age NaN values"
   ]
  },
  {
   "cell_type": "code",
   "execution_count": 25,
   "id": "b2956890",
   "metadata": {
    "execution": {
     "iopub.execute_input": "2021-11-11T09:50:19.495032Z",
     "iopub.status.busy": "2021-11-11T09:50:19.494039Z",
     "iopub.status.idle": "2021-11-11T09:50:19.729579Z",
     "shell.execute_reply": "2021-11-11T09:50:19.730007Z",
     "shell.execute_reply.started": "2021-11-11T08:56:00.553724Z"
    },
    "papermill": {
     "duration": 0.32789,
     "end_time": "2021-11-11T09:50:19.730182",
     "exception": false,
     "start_time": "2021-11-11T09:50:19.402292",
     "status": "completed"
    },
    "tags": []
   },
   "outputs": [
    {
     "data": {
      "text/plain": [
       "<AxesSubplot:xlabel='Parch', ylabel='Age'>"
      ]
     },
     "execution_count": 25,
     "metadata": {},
     "output_type": "execute_result"
    },
    {
     "data": {
      "image/png": "[encoded data removed]",
      "text/plain": [
       "<Figure size 432x288 with 1 Axes>"
      ]
     },
     "metadata": {
      "needs_background": "light"
     },
     "output_type": "display_data"
    }
   ],
   "source": [
    "sns.boxplot(x='Parch',y='Age',data=dataset)\n",
    "#in this we can observe the distribution of Age against different Parch class is different , \n",
    "#so this can be considered to fill Age NaN values"
   ]
  },
  {
   "cell_type": "code",
   "execution_count": 26,
   "id": "24c4f7d7",
   "metadata": {
    "execution": {
     "iopub.execute_input": "2021-11-11T09:50:19.911686Z",
     "iopub.status.busy": "2021-11-11T09:50:19.911015Z",
     "iopub.status.idle": "2021-11-11T09:50:20.145843Z",
     "shell.execute_reply": "2021-11-11T09:50:20.145032Z",
     "shell.execute_reply.started": "2021-11-11T08:56:00.877714Z"
    },
    "papermill": {
     "duration": 0.327808,
     "end_time": "2021-11-11T09:50:20.145987",
     "exception": false,
     "start_time": "2021-11-11T09:50:19.818179",
     "status": "completed"
    },
    "tags": []
   },
   "outputs": [
    {
     "data": {
      "text/plain": [
       "<AxesSubplot:xlabel='SibSp', ylabel='Age'>"
      ]
     },
     "execution_count": 26,
     "metadata": {},
     "output_type": "execute_result"
    },
    {
     "data": {
      "image/png": "[encoded data removed]",
      "text/plain": [
       "<Figure size 432x288 with 1 Axes>"
      ]
     },
     "metadata": {
      "needs_background": "light"
     },
     "output_type": "display_data"
    }
   ],
   "source": [
    "sns.boxplot(x='SibSp',y='Age',data=dataset)\n",
    "#in this we can observe the distribution of Age against different SibSp class is different , \n",
    "#so this can be considered to fill Age NaN values"
   ]
  },
  {
   "cell_type": "markdown",
   "id": "43c321b9",
   "metadata": {
    "papermill": {
     "duration": 0.088401,
     "end_time": "2021-11-11T09:50:20.324004",
     "exception": false,
     "start_time": "2021-11-11T09:50:20.235603",
     "status": "completed"
    },
    "tags": []
   },
   "source": []
  },
  {
   "cell_type": "markdown",
   "id": "4b2095b7",
   "metadata": {
    "execution": {
     "iopub.execute_input": "2021-11-10T06:35:50.16684Z",
     "iopub.status.busy": "2021-11-10T06:35:50.16595Z",
     "iopub.status.idle": "2021-11-10T06:35:50.173081Z",
     "shell.execute_reply": "2021-11-10T06:35:50.171924Z",
     "shell.execute_reply.started": "2021-11-10T06:35:50.166797Z"
    },
    "papermill": {
     "duration": 0.088635,
     "end_time": "2021-11-11T09:50:20.501050",
     "exception": false,
     "start_time": "2021-11-11T09:50:20.412415",
     "status": "completed"
    },
    "tags": []
   },
   "source": [
    "So belwo we created a code in to find the age Nan rows having the PClass,Parch,SibSp , have same values eg Row 5,19,\n",
    "then find the rows of same values and fill the with the mean of that group\n",
    "\n",
    "If we cant find such group then fill those Nan Ages with Median of the Ages."
   ]
  },
  {
   "cell_type": "code",
   "execution_count": 27,
   "id": "cb913d77",
   "metadata": {
    "execution": {
     "iopub.execute_input": "2021-11-11T09:50:20.681734Z",
     "iopub.status.busy": "2021-11-11T09:50:20.681049Z",
     "iopub.status.idle": "2021-11-11T09:50:21.120186Z",
     "shell.execute_reply": "2021-11-11T09:50:21.120731Z",
     "shell.execute_reply.started": "2021-11-11T08:56:01.39899Z"
    },
    "papermill": {
     "duration": 0.530945,
     "end_time": "2021-11-11T09:50:21.120937",
     "exception": false,
     "start_time": "2021-11-11T09:50:20.589992",
     "status": "completed"
    },
    "tags": []
   },
   "outputs": [
    {
     "name": "stderr",
     "output_type": "stream",
     "text": [
      "/opt/conda/lib/python3.7/site-packages/pandas/core/indexing.py:1732: SettingWithCopyWarning: \n",
      "A value is trying to be set on a copy of a slice from a DataFrame\n",
      "\n",
      "See the caveats in the documentation: https://pandas.pydata.org/pandas-docs/stable/user_guide/indexing.html#returning-a-view-versus-a-copy\n",
      "  self._setitem_single_block(indexer, value, name)\n"
     ]
    }
   ],
   "source": [
    "\n",
    "index_NaN_age = list(dataset[\"Age\"][dataset[\"Age\"].isnull()].index)\n",
    "\n",
    "for i in index_NaN_age :\n",
    "    age_med = dataset[\"Age\"].median()\n",
    "    age_pred = dataset[\"Age\"][((dataset['SibSp'] == dataset.iloc[i][\"SibSp\"]) &\n",
    "                               (dataset['Parch'] == dataset.iloc[i][\"Parch\"]) &\n",
    "                               (dataset['Pclass'] == dataset.iloc[i][\"Pclass\"]))].median()\n",
    "    if not np.isnan(age_pred) :\n",
    "        dataset['Age'].iloc[i] = age_pred\n",
    "    else :\n",
    "        dataset['Age'].iloc[i] = age_med"
   ]
  },
  {
   "cell_type": "code",
   "execution_count": 28,
   "id": "0bb52c50",
   "metadata": {
    "execution": {
     "iopub.execute_input": "2021-11-11T09:50:21.304313Z",
     "iopub.status.busy": "2021-11-11T09:50:21.303704Z",
     "iopub.status.idle": "2021-11-11T09:50:21.308693Z",
     "shell.execute_reply": "2021-11-11T09:50:21.309216Z",
     "shell.execute_reply.started": "2021-11-11T08:56:01.85615Z"
    },
    "papermill": {
     "duration": 0.097626,
     "end_time": "2021-11-11T09:50:21.309403",
     "exception": false,
     "start_time": "2021-11-11T09:50:21.211777",
     "status": "completed"
    },
    "tags": []
   },
   "outputs": [
    {
     "data": {
      "text/plain": [
       "((1309, 12), 929)"
      ]
     },
     "execution_count": 28,
     "metadata": {},
     "output_type": "execute_result"
    }
   ],
   "source": [
    "#total passengers is 1309, but unique ticket count is  only 929, that means there might be more than one passengers in one ticket or same cabin\n",
    "dataset.shape ,len(dataset['Ticket'].unique())"
   ]
  },
  {
   "cell_type": "code",
   "execution_count": 29,
   "id": "01c35cec",
   "metadata": {
    "execution": {
     "iopub.execute_input": "2021-11-11T09:50:21.488151Z",
     "iopub.status.busy": "2021-11-11T09:50:21.487592Z",
     "iopub.status.idle": "2021-11-11T09:50:21.493085Z",
     "shell.execute_reply": "2021-11-11T09:50:21.493599Z",
     "shell.execute_reply.started": "2021-11-11T08:56:01.865915Z"
    },
    "papermill": {
     "duration": 0.096166,
     "end_time": "2021-11-11T09:50:21.493768",
     "exception": false,
     "start_time": "2021-11-11T09:50:21.397602",
     "status": "completed"
    },
    "tags": []
   },
   "outputs": [
    {
     "data": {
      "text/plain": [
       "array([nan, 'C85', 'C123', 'E46', 'G6', 'C103', 'D56', 'A6',\n",
       "       'C23 C25 C27', 'B78', 'D33', 'B30', 'C52', 'B28', 'C83', 'F33',\n",
       "       'F G73', 'E31', 'A5', 'D10 D12', 'D26', 'C110', 'B58 B60', 'E101',\n",
       "       'F E69', 'D47', 'B86', 'F2', 'C2', 'E33', 'B19', 'A7', 'C49', 'F4',\n",
       "       'A32', 'B4', 'B80', 'A31', 'D36', 'D15', 'C93', 'C78', 'D35',\n",
       "       'C87', 'B77', 'E67', 'B94', 'C125', 'C99', 'C118', 'D7', 'A19',\n",
       "       'B49', 'D', 'C22 C26', 'C106', 'C65', 'E36', 'C54',\n",
       "       'B57 B59 B63 B66', 'C7', 'E34', 'C32', 'B18', 'C124', 'C91', 'E40',\n",
       "       'T', 'C128', 'D37', 'B35', 'E50', 'C82', 'B96 B98', 'E10', 'E44',\n",
       "       'A34', 'C104', 'C111', 'C92', 'E38', 'D21', 'E12', 'E63', 'A14',\n",
       "       'B37', 'C30', 'D20', 'B79', 'E25', 'D46', 'B73', 'C95', 'B38',\n",
       "       'B39', 'B22', 'C86', 'C70', 'A16', 'C101', 'C68', 'A10', 'E68',\n",
       "       'B41', 'A20', 'D19', 'D50', 'D9', 'A23', 'B50', 'A26', 'D48',\n",
       "       'E58', 'C126', 'B71', 'B51 B53 B55', 'D49', 'B5', 'B20', 'F G63',\n",
       "       'C62 C64', 'E24', 'C90', 'C45', 'E8', 'B101', 'D45', 'C46', 'D30',\n",
       "       'E121', 'D11', 'E77', 'F38', 'B3', 'D6', 'B82 B84', 'D17', 'A36',\n",
       "       'B102', 'B69', 'E49', 'C47', 'D28', 'E17', 'A24', 'C50', 'B42',\n",
       "       'C148', 'B45', 'B36', 'A21', 'D34', 'A9', 'C31', 'B61', 'C53',\n",
       "       'D43', 'C130', 'C132', 'C55 C57', 'C116', 'F', 'A29', 'C6', 'C28',\n",
       "       'C51', 'C97', 'D22', 'B10', 'E45', 'E52', 'A11', 'B11', 'C80',\n",
       "       'C89', 'F E46', 'B26', 'F E57', 'A18', 'E60', 'E39 E41',\n",
       "       'B52 B54 B56', 'C39', 'B24', 'D40', 'D38', 'C105'], dtype=object)"
      ]
     },
     "execution_count": 29,
     "metadata": {},
     "output_type": "execute_result"
    }
   ],
   "source": [
    "dataset['Cabin'].unique() #This is to check the non filled nan cabins what string can be used to impute , XX is not in current data so used XX string to impute"
   ]
  },
  {
   "cell_type": "code",
   "execution_count": 30,
   "id": "2850fda7",
   "metadata": {
    "execution": {
     "iopub.execute_input": "2021-11-11T09:50:21.676360Z",
     "iopub.status.busy": "2021-11-11T09:50:21.675718Z",
     "iopub.status.idle": "2021-11-11T09:50:43.716529Z",
     "shell.execute_reply": "2021-11-11T09:50:43.715922Z",
     "shell.execute_reply.started": "2021-11-11T08:56:01.879908Z"
    },
    "papermill": {
     "duration": 22.13335,
     "end_time": "2021-11-11T09:50:43.716690",
     "exception": false,
     "start_time": "2021-11-11T09:50:21.583340",
     "status": "completed"
    },
    "tags": []
   },
   "outputs": [],
   "source": [
    "\"\"\"Below code is used to fill the Nan cabin values with the exisitng cabin values which have same ticket number of the missing cabin(Nan Cabin)\n",
    "But not much effective since only 14 cabins can be able to fill in that way \n",
    "so the remaining cabins considered as a seperate class named XX\n",
    "\"\"\"\n",
    "index_NaN_cabin = list(dataset[\"Cabin\"][dataset[\"Cabin\"].isnull()].index)\n",
    "for i in index_NaN_cabin:\n",
    "    for j in range(0,len(dataset)):\n",
    "        if dataset['Ticket'].iloc[j]==dataset['Ticket'].iloc[i]:\n",
    "            dataset['Cabin'].iloc[i]=dataset['Cabin'].iloc[j]\n",
    "            continue\n",
    "\n",
    "dataset['Cabin']=dataset['Cabin'].fillna('XX')"
   ]
  },
  {
   "cell_type": "code",
   "execution_count": 31,
   "id": "4eafea0e",
   "metadata": {
    "execution": {
     "iopub.execute_input": "2021-11-11T09:50:43.908449Z",
     "iopub.status.busy": "2021-11-11T09:50:43.906154Z",
     "iopub.status.idle": "2021-11-11T09:50:43.913102Z",
     "shell.execute_reply": "2021-11-11T09:50:43.912544Z",
     "shell.execute_reply.started": "2021-11-11T08:56:35.883367Z"
    },
    "papermill": {
     "duration": 0.103136,
     "end_time": "2021-11-11T09:50:43.913279",
     "exception": false,
     "start_time": "2021-11-11T09:50:43.810143",
     "status": "completed"
    },
    "tags": []
   },
   "outputs": [
    {
     "data": {
      "text/plain": [
       "PassengerId      0\n",
       "Survived       418\n",
       "Pclass           0\n",
       "Name             0\n",
       "Sex              0\n",
       "Age              0\n",
       "SibSp            0\n",
       "Parch            0\n",
       "Ticket           0\n",
       "Fare             0\n",
       "Cabin            0\n",
       "Embarked         0\n",
       "dtype: int64"
      ]
     },
     "execution_count": 31,
     "metadata": {},
     "output_type": "execute_result"
    }
   ],
   "source": [
    "dataset.isnull().sum()"
   ]
  },
  {
   "cell_type": "markdown",
   "id": "15067686",
   "metadata": {
    "papermill": {
     "duration": 0.095385,
     "end_time": "2021-11-11T09:50:44.101126",
     "exception": false,
     "start_time": "2021-11-11T09:50:44.005741",
     "status": "completed"
    },
    "tags": []
   },
   "source": [
    "## Feature Extraction"
   ]
  },
  {
   "cell_type": "markdown",
   "id": "04fb9904",
   "metadata": {
    "papermill": {
     "duration": 0.091854,
     "end_time": "2021-11-11T09:50:44.285224",
     "exception": false,
     "start_time": "2021-11-11T09:50:44.193370",
     "status": "completed"
    },
    "tags": []
   },
   "source": [
    "### Name"
   ]
  },
  {
   "cell_type": "code",
   "execution_count": 32,
   "id": "c19e961d",
   "metadata": {
    "execution": {
     "iopub.execute_input": "2021-11-11T09:50:44.474201Z",
     "iopub.status.busy": "2021-11-11T09:50:44.473591Z",
     "iopub.status.idle": "2021-11-11T09:50:44.476299Z",
     "shell.execute_reply": "2021-11-11T09:50:44.476817Z",
     "shell.execute_reply.started": "2021-11-11T08:56:35.895952Z"
    },
    "papermill": {
     "duration": 0.101136,
     "end_time": "2021-11-11T09:50:44.477006",
     "exception": false,
     "start_time": "2021-11-11T09:50:44.375870",
     "status": "completed"
    },
    "tags": []
   },
   "outputs": [
    {
     "data": {
      "text/plain": [
       "(0                              Braund, Mr. Owen Harris\n",
       " 1    Cumings, Mrs. John Bradley (Florence Briggs Th...\n",
       " 2                               Heikkinen, Miss. Laina\n",
       " 3         Futrelle, Mrs. Jacques Heath (Lily May Peel)\n",
       " 4                             Allen, Mr. William Henry\n",
       " Name: Name, dtype: object,\n",
       " 1304              Spector, Mr. Woolf\n",
       " 1305    Oliva y Ocana, Dona. Fermina\n",
       " 1306    Saether, Mr. Simon Sivertsen\n",
       " 1307             Ware, Mr. Frederick\n",
       " 1308        Peter, Master. Michael J\n",
       " Name: Name, dtype: object)"
      ]
     },
     "execution_count": 32,
     "metadata": {},
     "output_type": "execute_result"
    }
   ],
   "source": [
    "\"\"\"\n",
    "Just to check the behaviour name data\"\"\"\n",
    "dataset['Name'].head(5),dataset['Name'].tail(5)"
   ]
  },
  {
   "cell_type": "markdown",
   "id": "3133ee9f",
   "metadata": {
    "execution": {
     "iopub.execute_input": "2021-11-10T06:43:40.060473Z",
     "iopub.status.busy": "2021-11-10T06:43:40.059851Z",
     "iopub.status.idle": "2021-11-10T06:43:40.06635Z",
     "shell.execute_reply": "2021-11-10T06:43:40.065461Z",
     "shell.execute_reply.started": "2021-11-10T06:43:40.06041Z"
    },
    "papermill": {
     "duration": 0.09048,
     "end_time": "2021-11-11T09:50:44.657968",
     "exception": false,
     "start_time": "2021-11-11T09:50:44.567488",
     "status": "completed"
    },
    "tags": []
   },
   "source": [
    "Feature Extraction from Name columns\n",
    "If we observe the every names have tittle(Mr,Mrs,Rev,Countess etc) which may give the some information \n",
    "to group the namesInstead of completley omiting the name column as irrelevent we can check what information \n",
    "we can extract from the name columns\n",
    "If we observe the tittle of the name comes after the surname seperated with a comma.So we can split all the \n",
    "names with respect to comma get into a list and from the list take the second element which is tittle\n"
   ]
  },
  {
   "cell_type": "code",
   "execution_count": 33,
   "id": "6f335159",
   "metadata": {
    "execution": {
     "iopub.execute_input": "2021-11-11T09:50:44.846278Z",
     "iopub.status.busy": "2021-11-11T09:50:44.845526Z",
     "iopub.status.idle": "2021-11-11T09:50:44.847957Z",
     "shell.execute_reply": "2021-11-11T09:50:44.848551Z",
     "shell.execute_reply.started": "2021-11-11T08:56:35.909191Z"
    },
    "papermill": {
     "duration": 0.098761,
     "end_time": "2021-11-11T09:50:44.848724",
     "exception": false,
     "start_time": "2021-11-11T09:50:44.749963",
     "status": "completed"
    },
    "tags": []
   },
   "outputs": [],
   "source": [
    "title = [i.split(\",\")[1].split(\".\")[0].strip() for i in dataset[\"Name\"]]"
   ]
  },
  {
   "cell_type": "code",
   "execution_count": 34,
   "id": "efa27bfd",
   "metadata": {
    "execution": {
     "iopub.execute_input": "2021-11-11T09:50:45.031882Z",
     "iopub.status.busy": "2021-11-11T09:50:45.031238Z",
     "iopub.status.idle": "2021-11-11T09:50:45.037068Z",
     "shell.execute_reply": "2021-11-11T09:50:45.037665Z",
     "shell.execute_reply.started": "2021-11-11T08:56:35.922287Z"
    },
    "papermill": {
     "duration": 0.099773,
     "end_time": "2021-11-11T09:50:45.037854",
     "exception": false,
     "start_time": "2021-11-11T09:50:44.938081",
     "status": "completed"
    },
    "tags": []
   },
   "outputs": [
    {
     "data": {
      "text/plain": [
       "array(['Mr', 'Mrs', 'Miss', 'Master', 'Don', 'Rev', 'Dr', 'Mme', 'Ms',\n",
       "       'Major', 'Lady', 'Sir', 'Mlle', 'Col', 'Capt', 'the Countess',\n",
       "       'Jonkheer', 'Dona'], dtype=object)"
      ]
     },
     "execution_count": 34,
     "metadata": {},
     "output_type": "execute_result"
    }
   ],
   "source": [
    "dataset['Title']=pd.Series(title) #added the tittle series to the dataframe \n",
    "dataset['Title'].unique() #eheck the unique values"
   ]
  },
  {
   "cell_type": "code",
   "execution_count": 35,
   "id": "9b1fbbf5",
   "metadata": {
    "execution": {
     "iopub.execute_input": "2021-11-11T09:50:45.219738Z",
     "iopub.status.busy": "2021-11-11T09:50:45.219153Z",
     "iopub.status.idle": "2021-11-11T09:50:45.230884Z",
     "shell.execute_reply": "2021-11-11T09:50:45.231445Z",
     "shell.execute_reply.started": "2021-11-11T08:56:35.938974Z"
    },
    "papermill": {
     "duration": 0.104316,
     "end_time": "2021-11-11T09:50:45.231616",
     "exception": false,
     "start_time": "2021-11-11T09:50:45.127300",
     "status": "completed"
    },
    "tags": []
   },
   "outputs": [
    {
     "data": {
      "text/plain": [
       "Title         Survived\n",
       "Capt          0.0         1.000000\n",
       "Col           0.0         0.500000\n",
       "              1.0         0.500000\n",
       "Don           0.0         1.000000\n",
       "Dr            0.0         0.571429\n",
       "              1.0         0.428571\n",
       "Jonkheer      0.0         1.000000\n",
       "Lady          1.0         1.000000\n",
       "Major         0.0         0.500000\n",
       "              1.0         0.500000\n",
       "Master        1.0         0.575000\n",
       "              0.0         0.425000\n",
       "Miss          1.0         0.697802\n",
       "              0.0         0.302198\n",
       "Mlle          1.0         1.000000\n",
       "Mme           1.0         1.000000\n",
       "Mr            0.0         0.843327\n",
       "              1.0         0.156673\n",
       "Mrs           1.0         0.792000\n",
       "              0.0         0.208000\n",
       "Ms            1.0         1.000000\n",
       "Rev           0.0         1.000000\n",
       "Sir           1.0         1.000000\n",
       "the Countess  1.0         1.000000\n",
       "Name: Survived, dtype: float64"
      ]
     },
     "execution_count": 35,
     "metadata": {},
     "output_type": "execute_result"
    }
   ],
   "source": [
    "group_title=dataset.iloc[:len(train)].groupby('Title')\n",
    "group_title['Survived'].value_counts(normalize=True)\n"
   ]
  },
  {
   "cell_type": "code",
   "execution_count": 36,
   "id": "1a846171",
   "metadata": {
    "execution": {
     "iopub.execute_input": "2021-11-11T09:50:45.415385Z",
     "iopub.status.busy": "2021-11-11T09:50:45.414762Z",
     "iopub.status.idle": "2021-11-11T09:50:45.427430Z",
     "shell.execute_reply": "2021-11-11T09:50:45.426936Z",
     "shell.execute_reply.started": "2021-11-11T08:56:35.958851Z"
    },
    "papermill": {
     "duration": 0.105531,
     "end_time": "2021-11-11T09:50:45.427575",
     "exception": false,
     "start_time": "2021-11-11T09:50:45.322044",
     "status": "completed"
    },
    "tags": []
   },
   "outputs": [],
   "source": [
    "\"\"\"\n",
    "By observing above table we can find some inputs about the survival rate among the tittle groups \n",
    "so we can group the passengers according to the tittle and its survival rates\"\"\"\n",
    "\n",
    "group1=['Capt','Rev','Jonkheer','Don','Dona'] #grouped based on survival rate\n",
    "group2=['Dr', 'Major','Col'] #grouped based on survival rate\n",
    "group3=['the Countess','Countess', 'Sir',] #grouped based on survial rate\n",
    "group4=['Mr'] #title for men\n",
    "group5=['Master'] #title for a boys\n",
    "group6=[ 'Mrs', 'Miss','Mme', 'Ms','Mlle','Lady']# tittle for ladies\n",
    "\n",
    "\n",
    "dataset['Title']=dataset['Title'].replace(group1,'1')\n",
    "dataset['Title']=dataset['Title'].replace(group2,'2')\n",
    "dataset['Title']=dataset['Title'].replace(group3,'3')\n",
    "dataset['Title']=dataset['Title'].replace(group4,'4')\n",
    "dataset['Title']=dataset['Title'].replace(group5,'5')\n",
    "dataset['Title']=dataset['Title'].replace(group6,'6')\n",
    "dataset[\"Title\"] = dataset[\"Title\"].astype(int)"
   ]
  },
  {
   "cell_type": "code",
   "execution_count": 37,
   "id": "9f792013",
   "metadata": {
    "execution": {
     "iopub.execute_input": "2021-11-11T09:50:45.610701Z",
     "iopub.status.busy": "2021-11-11T09:50:45.609764Z",
     "iopub.status.idle": "2021-11-11T09:50:45.615252Z",
     "shell.execute_reply": "2021-11-11T09:50:45.615667Z",
     "shell.execute_reply.started": "2021-11-11T08:56:35.978397Z"
    },
    "papermill": {
     "duration": 0.098263,
     "end_time": "2021-11-11T09:50:45.615837",
     "exception": false,
     "start_time": "2021-11-11T09:50:45.517574",
     "status": "completed"
    },
    "tags": []
   },
   "outputs": [
    {
     "data": {
      "text/plain": [
       "array([4, 6, 5, 1, 2, 3])"
      ]
     },
     "execution_count": 37,
     "metadata": {},
     "output_type": "execute_result"
    }
   ],
   "source": [
    "dataset['Title'].unique()"
   ]
  },
  {
   "cell_type": "code",
   "execution_count": 38,
   "id": "3eb5f41a",
   "metadata": {
    "execution": {
     "iopub.execute_input": "2021-11-11T09:50:45.805698Z",
     "iopub.status.busy": "2021-11-11T09:50:45.805005Z",
     "iopub.status.idle": "2021-11-11T09:50:45.812389Z",
     "shell.execute_reply": "2021-11-11T09:50:45.812887Z",
     "shell.execute_reply.started": "2021-11-11T08:56:35.990414Z"
    },
    "papermill": {
     "duration": 0.10544,
     "end_time": "2021-11-11T09:50:45.813067",
     "exception": false,
     "start_time": "2021-11-11T09:50:45.707627",
     "status": "completed"
    },
    "tags": []
   },
   "outputs": [
    {
     "data": {
      "text/plain": [
       "Title  Survived\n",
       "1      0.0         1.000000\n",
       "2      0.0         0.545455\n",
       "       1.0         0.454545\n",
       "3      1.0         1.000000\n",
       "4      0.0         0.843327\n",
       "       1.0         0.156673\n",
       "5      1.0         0.575000\n",
       "       0.0         0.425000\n",
       "6      1.0         0.740385\n",
       "       0.0         0.259615\n",
       "Name: Survived, dtype: float64"
      ]
     },
     "execution_count": 38,
     "metadata": {},
     "output_type": "execute_result"
    }
   ],
   "source": [
    "\n",
    "\"\"\"\n",
    "After grouping as above , if we check the groupby again it gives some meaning tittle class\"\"\"\n",
    "group_title=dataset.iloc[:len(train)].groupby('Title')\n",
    "group_title['Survived'].value_counts(normalize=True)"
   ]
  },
  {
   "cell_type": "markdown",
   "id": "a5e4a428",
   "metadata": {
    "papermill": {
     "duration": 0.08973,
     "end_time": "2021-11-11T09:50:45.994925",
     "exception": false,
     "start_time": "2021-11-11T09:50:45.905195",
     "status": "completed"
    },
    "tags": []
   },
   "source": []
  },
  {
   "cell_type": "code",
   "execution_count": 39,
   "id": "21c69364",
   "metadata": {
    "execution": {
     "iopub.execute_input": "2021-11-11T09:50:46.182966Z",
     "iopub.status.busy": "2021-11-11T09:50:46.181948Z",
     "iopub.status.idle": "2021-11-11T09:50:46.484023Z",
     "shell.execute_reply": "2021-11-11T09:50:46.484469Z",
     "shell.execute_reply.started": "2021-11-11T08:56:36.011873Z"
    },
    "papermill": {
     "duration": 0.399228,
     "end_time": "2021-11-11T09:50:46.484643",
     "exception": false,
     "start_time": "2021-11-11T09:50:46.085415",
     "status": "completed"
    },
    "tags": []
   },
   "outputs": [
    {
     "data": {
      "text/plain": [
       "<AxesSubplot:xlabel='Title', ylabel='Survived'>"
      ]
     },
     "execution_count": 39,
     "metadata": {},
     "output_type": "execute_result"
    },
    {
     "data": {
      "image/png": "[encoded data removed]",
      "text/plain": [
       "<Figure size 432x288 with 1 Axes>"
      ]
     },
     "metadata": {
      "needs_background": "light"
     },
     "output_type": "display_data"
    }
   ],
   "source": [
    "sns.barplot(x='Title',y='Survived',data=dataset.iloc[:len(train)])\n",
    "#This became more meaning full grouping and it obvious that group 3 has highest survival rate and group 1 has least survival rate\n"
   ]
  },
  {
   "cell_type": "code",
   "execution_count": 40,
   "id": "b8e813b7",
   "metadata": {
    "execution": {
     "iopub.execute_input": "2021-11-11T09:50:46.674628Z",
     "iopub.status.busy": "2021-11-11T09:50:46.673976Z",
     "iopub.status.idle": "2021-11-11T09:50:46.676401Z",
     "shell.execute_reply": "2021-11-11T09:50:46.676912Z",
     "shell.execute_reply.started": "2021-11-11T08:56:36.418852Z"
    },
    "papermill": {
     "duration": 0.100455,
     "end_time": "2021-11-11T09:50:46.677083",
     "exception": false,
     "start_time": "2021-11-11T09:50:46.576628",
     "status": "completed"
    },
    "tags": []
   },
   "outputs": [],
   "source": [
    "#So now drop the name colums from the dataset , adn keep title instead\n",
    "dataset.drop(labels = [\"Name\"], axis = 1, inplace = True)"
   ]
  },
  {
   "cell_type": "markdown",
   "id": "3f4cd040",
   "metadata": {
    "papermill": {
     "duration": 0.091956,
     "end_time": "2021-11-11T09:50:46.864337",
     "exception": false,
     "start_time": "2021-11-11T09:50:46.772381",
     "status": "completed"
    },
    "tags": []
   },
   "source": [
    "### Cabin"
   ]
  },
  {
   "cell_type": "markdown",
   "id": "5ba0f60b",
   "metadata": {
    "execution": {
     "iopub.execute_input": "2021-11-10T21:20:30.537315Z",
     "iopub.status.busy": "2021-11-10T21:20:30.537083Z",
     "iopub.status.idle": "2021-11-10T21:20:30.548548Z",
     "shell.execute_reply": "2021-11-10T21:20:30.547622Z",
     "shell.execute_reply.started": "2021-11-10T21:20:30.537285Z"
    },
    "papermill": {
     "duration": 0.092158,
     "end_time": "2021-11-11T09:50:47.047691",
     "exception": false,
     "start_time": "2021-11-11T09:50:46.955533",
     "status": "completed"
    },
    "tags": []
   },
   "source": [
    "CABIN\n",
    "Few of the materials in internet shows that there are decks named A,B,C etc so there is a strong belief that the prefix in the cabin number is nothing but the \n",
    "deck. so in that belief we can extract the initial alphabets and classify it as decks"
   ]
  },
  {
   "cell_type": "code",
   "execution_count": 41,
   "id": "6ce210ce",
   "metadata": {
    "execution": {
     "iopub.execute_input": "2021-11-11T09:50:47.241992Z",
     "iopub.status.busy": "2021-11-11T09:50:47.238208Z",
     "iopub.status.idle": "2021-11-11T09:50:47.244739Z",
     "shell.execute_reply": "2021-11-11T09:50:47.244201Z",
     "shell.execute_reply.started": "2021-11-11T08:56:36.427794Z"
    },
    "papermill": {
     "duration": 0.10318,
     "end_time": "2021-11-11T09:50:47.244887",
     "exception": false,
     "start_time": "2021-11-11T09:50:47.141707",
     "status": "completed"
    },
    "tags": []
   },
   "outputs": [],
   "source": [
    "# Replace the Cabin number by the type of cabin 'XX' if not\n",
    "dataset[\"Cabin\"] = pd.Series([i[0] if not pd.isnull(i) else 'X' for i in dataset['Cabin'] ])"
   ]
  },
  {
   "cell_type": "markdown",
   "id": "71779d12",
   "metadata": {
    "papermill": {
     "duration": 0.091759,
     "end_time": "2021-11-11T09:50:47.430298",
     "exception": false,
     "start_time": "2021-11-11T09:50:47.338539",
     "status": "completed"
    },
    "tags": []
   },
   "source": []
  },
  {
   "cell_type": "code",
   "execution_count": 42,
   "id": "58a7fe37",
   "metadata": {
    "execution": {
     "iopub.execute_input": "2021-11-11T09:50:47.623830Z",
     "iopub.status.busy": "2021-11-11T09:50:47.622273Z",
     "iopub.status.idle": "2021-11-11T09:50:48.013834Z",
     "shell.execute_reply": "2021-11-11T09:50:48.014274Z",
     "shell.execute_reply.started": "2021-11-11T08:56:36.441366Z"
    },
    "papermill": {
     "duration": 0.4907,
     "end_time": "2021-11-11T09:50:48.014470",
     "exception": false,
     "start_time": "2021-11-11T09:50:47.523770",
     "status": "completed"
    },
    "tags": []
   },
   "outputs": [
    {
     "data": {
      "text/plain": [
       "<AxesSubplot:xlabel='Cabin', ylabel='Survived'>"
      ]
     },
     "execution_count": 42,
     "metadata": {},
     "output_type": "execute_result"
    },
    {
     "data": {
      "image/png": "[encoded data removed]",
      "text/plain": [
       "<Figure size 432x288 with 1 Axes>"
      ]
     },
     "metadata": {
      "needs_background": "light"
     },
     "output_type": "display_data"
    }
   ],
   "source": [
    "sns.barplot(data=dataset,x='Cabin',y='Survived')"
   ]
  },
  {
   "cell_type": "markdown",
   "id": "d12b6fb2",
   "metadata": {
    "papermill": {
     "duration": 0.092247,
     "end_time": "2021-11-11T09:50:48.201012",
     "exception": false,
     "start_time": "2021-11-11T09:50:48.108765",
     "status": "completed"
    },
    "tags": []
   },
   "source": [
    "### Ticket"
   ]
  },
  {
   "cell_type": "code",
   "execution_count": 43,
   "id": "78ffa0c6",
   "metadata": {
    "execution": {
     "iopub.execute_input": "2021-11-11T09:50:48.396282Z",
     "iopub.status.busy": "2021-11-11T09:50:48.395667Z",
     "iopub.status.idle": "2021-11-11T09:50:48.398485Z",
     "shell.execute_reply": "2021-11-11T09:50:48.398957Z",
     "shell.execute_reply.started": "2021-11-11T08:56:36.9334Z"
    },
    "papermill": {
     "duration": 0.104842,
     "end_time": "2021-11-11T09:50:48.399123",
     "exception": false,
     "start_time": "2021-11-11T09:50:48.294281",
     "status": "completed"
    },
    "tags": []
   },
   "outputs": [
    {
     "data": {
      "text/plain": [
       "0        A5\n",
       "1        PC\n",
       "2    STONO2\n",
       "3         X\n",
       "4         X\n",
       "Name: Ticket, dtype: object"
      ]
     },
     "execution_count": 43,
     "metadata": {},
     "output_type": "execute_result"
    }
   ],
   "source": [
    "## Treat Ticket by extracting the ticket prefix. When there is no prefix it returns X. \n",
    "\n",
    "Ticket = []\n",
    "for i in list(dataset.Ticket):\n",
    "    if not i.isdigit() :\n",
    "        Ticket.append(i.replace(\".\",\"\").replace(\"/\",\"\").strip().split(' ')[0]) #Take prefix\n",
    "    else:\n",
    "        Ticket.append(\"X\")\n",
    "        \n",
    "dataset[\"Ticket\"] = Ticket\n",
    "dataset[\"Ticket\"].head()"
   ]
  },
  {
   "cell_type": "markdown",
   "id": "9cd20f75",
   "metadata": {
    "papermill": {
     "duration": 0.093092,
     "end_time": "2021-11-11T09:50:48.585865",
     "exception": false,
     "start_time": "2021-11-11T09:50:48.492773",
     "status": "completed"
    },
    "tags": []
   },
   "source": []
  },
  {
   "cell_type": "code",
   "execution_count": 44,
   "id": "f2803652",
   "metadata": {
    "execution": {
     "iopub.execute_input": "2021-11-11T09:50:48.774390Z",
     "iopub.status.busy": "2021-11-11T09:50:48.773800Z",
     "iopub.status.idle": "2021-11-11T09:50:48.779449Z",
     "shell.execute_reply": "2021-11-11T09:50:48.780014Z",
     "shell.execute_reply.started": "2021-11-11T08:56:36.94659Z"
    },
    "papermill": {
     "duration": 0.101532,
     "end_time": "2021-11-11T09:50:48.780179",
     "exception": false,
     "start_time": "2021-11-11T09:50:48.678647",
     "status": "completed"
    },
    "tags": []
   },
   "outputs": [
    {
     "data": {
      "text/plain": [
       "array(['A5', 'PC', 'STONO2', 'X', 'PP', 'CA', 'SCParis', 'SCA4', 'A4',\n",
       "       'SP', 'SOC', 'WC', 'SOTONOQ', 'WEP', 'STONO', 'C', 'SCPARIS',\n",
       "       'SOP', 'Fa', 'LINE', 'FCC', 'SWPP', 'SCOW', 'PPP', 'SC', 'SCAH',\n",
       "       'AS', 'SOPP', 'FC', 'SOTONO2', 'CASOTON', 'SCA3', 'STONOQ', 'AQ4',\n",
       "       'A', 'LP', 'AQ3'], dtype=object)"
      ]
     },
     "execution_count": 44,
     "metadata": {},
     "output_type": "execute_result"
    }
   ],
   "source": [
    "dataset['Ticket'].unique()"
   ]
  },
  {
   "cell_type": "markdown",
   "id": "930fbb8a",
   "metadata": {
    "papermill": {
     "duration": 0.099666,
     "end_time": "2021-11-11T09:50:48.974840",
     "exception": false,
     "start_time": "2021-11-11T09:50:48.875174",
     "status": "completed"
    },
    "tags": []
   },
   "source": [
    "FAMILY\n",
    "We can observe that the chance of survival is differnet depends on the size of the family.\n",
    "here the family is the combination of the number of parents / children aboard the Titanic and number of siblings / spouses aboard the Titanic.\n",
    "so we can find the size each family onboard by adding Sibp and Parch + 1(passenger himself)"
   ]
  },
  {
   "cell_type": "markdown",
   "id": "8a3fb012",
   "metadata": {
    "papermill": {
     "duration": 0.093422,
     "end_time": "2021-11-11T09:50:49.163533",
     "exception": false,
     "start_time": "2021-11-11T09:50:49.070111",
     "status": "completed"
    },
    "tags": []
   },
   "source": [
    "### Sib /Parch"
   ]
  },
  {
   "cell_type": "code",
   "execution_count": 45,
   "id": "66335d53",
   "metadata": {
    "execution": {
     "iopub.execute_input": "2021-11-11T09:50:49.353768Z",
     "iopub.status.busy": "2021-11-11T09:50:49.353121Z",
     "iopub.status.idle": "2021-11-11T09:50:49.357622Z",
     "shell.execute_reply": "2021-11-11T09:50:49.358092Z",
     "shell.execute_reply.started": "2021-11-11T08:56:36.956641Z"
    },
    "papermill": {
     "duration": 0.102109,
     "end_time": "2021-11-11T09:50:49.358251",
     "exception": false,
     "start_time": "2021-11-11T09:50:49.256142",
     "status": "completed"
    },
    "tags": []
   },
   "outputs": [],
   "source": [
    "dataset['Family']=dataset[\"SibSp\"] + dataset[\"Parch\"] + 1 "
   ]
  },
  {
   "cell_type": "markdown",
   "id": "34eddad0",
   "metadata": {
    "papermill": {
     "duration": 0.092598,
     "end_time": "2021-11-11T09:50:49.543799",
     "exception": false,
     "start_time": "2021-11-11T09:50:49.451201",
     "status": "completed"
    },
    "tags": []
   },
   "source": [
    "Below plot shows the survial probability based on family class, and the most is with the familyh number 4,\n",
    "But its not necessary that the indivitual traveller will survive , it may be most of the lone travellers are males.\n",
    "Also we can observe that the family size beyond 5 has less chance of survival since the difficulity in mobility altogether.\n",
    "by looking below details we can divide the family data into few classes , like single, small family, medium,large,very large"
   ]
  },
  {
   "cell_type": "code",
   "execution_count": 46,
   "id": "5db0316e",
   "metadata": {
    "execution": {
     "iopub.execute_input": "2021-11-11T09:50:49.732066Z",
     "iopub.status.busy": "2021-11-11T09:50:49.731489Z",
     "iopub.status.idle": "2021-11-11T09:50:50.586853Z",
     "shell.execute_reply": "2021-11-11T09:50:50.586235Z",
     "shell.execute_reply.started": "2021-11-11T08:56:36.966088Z"
    },
    "papermill": {
     "duration": 0.950883,
     "end_time": "2021-11-11T09:50:50.586995",
     "exception": false,
     "start_time": "2021-11-11T09:50:49.636112",
     "status": "completed"
    },
    "tags": []
   },
   "outputs": [
    {
     "data": {
      "image/png": "[encoded data removed]",
      "text/plain": [
       "<Figure size 432x288 with 1 Axes>"
      ]
     },
     "metadata": {
      "needs_background": "light"
     },
     "output_type": "display_data"
    },
    {
     "data": {
      "image/png": "[encoded data removed]",
      "text/plain": [
       "<Figure size 432x288 with 1 Axes>"
      ]
     },
     "metadata": {
      "needs_background": "light"
     },
     "output_type": "display_data"
    }
   ],
   "source": [
    "sns.barplot(x='Family',y='Survived',data=dataset)\n",
    "plt.show()\n",
    "sns.countplot(x='Family',hue='Survived',data=dataset)\n",
    "plt.show()"
   ]
  },
  {
   "cell_type": "code",
   "execution_count": 47,
   "id": "abea7d02",
   "metadata": {
    "execution": {
     "iopub.execute_input": "2021-11-11T09:50:50.779076Z",
     "iopub.status.busy": "2021-11-11T09:50:50.778516Z",
     "iopub.status.idle": "2021-11-11T09:50:50.785018Z",
     "shell.execute_reply": "2021-11-11T09:50:50.784469Z",
     "shell.execute_reply.started": "2021-11-11T08:56:37.753614Z"
    },
    "papermill": {
     "duration": 0.103184,
     "end_time": "2021-11-11T09:50:50.785148",
     "exception": false,
     "start_time": "2021-11-11T09:50:50.681964",
     "status": "completed"
    },
    "tags": []
   },
   "outputs": [
    {
     "data": {
      "text/plain": [
       "0    2\n",
       "1    2\n",
       "2    1\n",
       "3    2\n",
       "4    1\n",
       "Name: Family, dtype: int64"
      ]
     },
     "execution_count": 47,
     "metadata": {},
     "output_type": "execute_result"
    }
   ],
   "source": [
    "dataset['Family'].head()"
   ]
  },
  {
   "cell_type": "markdown",
   "id": "17fb1c39",
   "metadata": {
    "execution": {
     "iopub.execute_input": "2021-11-11T05:47:02.251779Z",
     "iopub.status.busy": "2021-11-11T05:47:02.251238Z",
     "iopub.status.idle": "2021-11-11T05:47:02.39364Z",
     "shell.execute_reply": "2021-11-11T05:47:02.392892Z",
     "shell.execute_reply.started": "2021-11-11T05:47:02.251743Z"
    },
    "papermill": {
     "duration": 0.093967,
     "end_time": "2021-11-11T09:50:50.973383",
     "exception": false,
     "start_time": "2021-11-11T09:50:50.879416",
     "status": "completed"
    },
    "tags": []
   },
   "source": [
    "for i in range(0,len(dataset)):\n",
    "    print (dataset['Family'].iloc[i])"
   ]
  },
  {
   "cell_type": "code",
   "execution_count": 48,
   "id": "9eb13907",
   "metadata": {
    "execution": {
     "iopub.execute_input": "2021-11-11T09:50:51.235853Z",
     "iopub.status.busy": "2021-11-11T09:50:51.197674Z",
     "iopub.status.idle": "2021-11-11T09:50:51.340334Z",
     "shell.execute_reply": "2021-11-11T09:50:51.340801Z",
     "shell.execute_reply.started": "2021-11-11T08:56:37.763415Z"
    },
    "papermill": {
     "duration": 0.271522,
     "end_time": "2021-11-11T09:50:51.340971",
     "exception": false,
     "start_time": "2021-11-11T09:50:51.069449",
     "status": "completed"
    },
    "tags": []
   },
   "outputs": [
    {
     "name": "stderr",
     "output_type": "stream",
     "text": [
      "/opt/conda/lib/python3.7/site-packages/pandas/core/indexing.py:1732: SettingWithCopyWarning: \n",
      "A value is trying to be set on a copy of a slice from a DataFrame\n",
      "\n",
      "See the caveats in the documentation: https://pandas.pydata.org/pandas-docs/stable/user_guide/indexing.html#returning-a-view-versus-a-copy\n",
      "  self._setitem_single_block(indexer, value, name)\n"
     ]
    }
   ],
   "source": [
    "for i in range(0,len(dataset)):\n",
    "    if dataset['Family'].iloc[i]== 1:\n",
    "        dataset['Family'].iloc[i] = 'Single'\n",
    "    elif dataset['Family'].iloc[i] == 2:\n",
    "        dataset['Family'].iloc[i] = 'Couple'\n",
    "    elif dataset['Family'].iloc[i] >= 3 and dataset['Family'].iloc[i] <=4 :\n",
    "        dataset['Family'].iloc[i] = 'SmallFam'\n",
    "    elif dataset['Family'].iloc[i] >= 5 and dataset['Family'].iloc[i] <=7 :\n",
    "        dataset['Family'].iloc[i] = 'LargeFam'\n",
    "    elif dataset['Family'].iloc[i] > 7  :\n",
    "        dataset['Family'].iloc[i] = 'BigFam'\n",
    "        \n",
    "        "
   ]
  },
  {
   "cell_type": "code",
   "execution_count": 49,
   "id": "ea1d08f0",
   "metadata": {
    "execution": {
     "iopub.execute_input": "2021-11-11T09:50:51.536565Z",
     "iopub.status.busy": "2021-11-11T09:50:51.535695Z",
     "iopub.status.idle": "2021-11-11T09:50:51.539382Z",
     "shell.execute_reply": "2021-11-11T09:50:51.538842Z",
     "shell.execute_reply.started": "2021-11-11T08:56:37.940345Z"
    },
    "papermill": {
     "duration": 0.103403,
     "end_time": "2021-11-11T09:50:51.539520",
     "exception": false,
     "start_time": "2021-11-11T09:50:51.436117",
     "status": "completed"
    },
    "tags": []
   },
   "outputs": [
    {
     "data": {
      "text/plain": [
       "array(['Couple', 'Single', 'LargeFam', 'SmallFam', 'BigFam'], dtype=object)"
      ]
     },
     "execution_count": 49,
     "metadata": {},
     "output_type": "execute_result"
    }
   ],
   "source": [
    "dataset['Family'].unique()"
   ]
  },
  {
   "cell_type": "markdown",
   "id": "c0c4d3b5",
   "metadata": {
    "papermill": {
     "duration": 0.097829,
     "end_time": "2021-11-11T09:50:51.732605",
     "exception": false,
     "start_time": "2021-11-11T09:50:51.634776",
     "status": "completed"
    },
    "tags": []
   },
   "source": []
  },
  {
   "cell_type": "code",
   "execution_count": 50,
   "id": "e1704b72",
   "metadata": {
    "execution": {
     "iopub.execute_input": "2021-11-11T09:50:51.932898Z",
     "iopub.status.busy": "2021-11-11T09:50:51.931942Z",
     "iopub.status.idle": "2021-11-11T09:50:51.941741Z",
     "shell.execute_reply": "2021-11-11T09:50:51.942370Z",
     "shell.execute_reply.started": "2021-11-11T08:56:37.948147Z"
    },
    "papermill": {
     "duration": 0.113023,
     "end_time": "2021-11-11T09:50:51.942560",
     "exception": false,
     "start_time": "2021-11-11T09:50:51.829537",
     "status": "completed"
    },
    "tags": []
   },
   "outputs": [
    {
     "name": "stdout",
     "output_type": "stream",
     "text": [
      "<class 'pandas.core.frame.DataFrame'>\n",
      "RangeIndex: 1309 entries, 0 to 1308\n",
      "Data columns (total 13 columns):\n",
      " #   Column       Non-Null Count  Dtype  \n",
      "---  ------       --------------  -----  \n",
      " 0   PassengerId  1309 non-null   int64  \n",
      " 1   Survived     891 non-null    float64\n",
      " 2   Pclass       1309 non-null   int64  \n",
      " 3   Sex          1309 non-null   object \n",
      " 4   Age          1309 non-null   float64\n",
      " 5   SibSp        1309 non-null   int64  \n",
      " 6   Parch        1309 non-null   int64  \n",
      " 7   Ticket       1309 non-null   object \n",
      " 8   Fare         1309 non-null   float64\n",
      " 9   Cabin        1309 non-null   object \n",
      " 10  Embarked     1309 non-null   object \n",
      " 11  Title        1309 non-null   int64  \n",
      " 12  Family       1309 non-null   object \n",
      "dtypes: float64(3), int64(5), object(5)\n",
      "memory usage: 133.1+ KB\n"
     ]
    }
   ],
   "source": [
    "dataset.info()"
   ]
  },
  {
   "cell_type": "markdown",
   "id": "78838142",
   "metadata": {
    "papermill": {
     "duration": 0.094687,
     "end_time": "2021-11-11T09:50:52.133071",
     "exception": false,
     "start_time": "2021-11-11T09:50:52.038384",
     "status": "completed"
    },
    "tags": []
   },
   "source": [
    "## Feature Transformations for Linear models"
   ]
  },
  {
   "cell_type": "markdown",
   "id": "0a3b6f8e",
   "metadata": {
    "papermill": {
     "duration": 0.098569,
     "end_time": "2021-11-11T09:50:52.326892",
     "exception": false,
     "start_time": "2021-11-11T09:50:52.228323",
     "status": "completed"
    },
    "tags": []
   },
   "source": [
    "CHECK THE DATA DISTRUBITION AND SKEW OF EACH NUMERICAL FEATURES\n",
    "\n",
    "Below we can check the skew and try different transformers so that the skew will be minimum . among all Yeo john transformer has least skew \n",
    "Also we cant use the box cox transformer since we have some zero values in Fare."
   ]
  },
  {
   "cell_type": "markdown",
   "id": "576a1ea3",
   "metadata": {
    "papermill": {
     "duration": 0.094458,
     "end_time": "2021-11-11T09:50:52.516499",
     "exception": false,
     "start_time": "2021-11-11T09:50:52.422041",
     "status": "completed"
    },
    "tags": []
   },
   "source": [
    "### Fare"
   ]
  },
  {
   "cell_type": "code",
   "execution_count": 51,
   "id": "8647f4d8",
   "metadata": {
    "execution": {
     "iopub.execute_input": "2021-11-11T09:50:52.711089Z",
     "iopub.status.busy": "2021-11-11T09:50:52.709995Z",
     "iopub.status.idle": "2021-11-11T09:50:52.714447Z",
     "shell.execute_reply": "2021-11-11T09:50:52.714857Z",
     "shell.execute_reply.started": "2021-11-11T08:56:37.971363Z"
    },
    "papermill": {
     "duration": 0.103854,
     "end_time": "2021-11-11T09:50:52.715034",
     "exception": false,
     "start_time": "2021-11-11T09:50:52.611180",
     "status": "completed"
    },
    "tags": []
   },
   "outputs": [
    {
     "data": {
      "text/plain": [
       "4.3695095504693855"
      ]
     },
     "execution_count": 51,
     "metadata": {},
     "output_type": "execute_result"
    }
   ],
   "source": [
    "dataset['Fare'].skew()"
   ]
  },
  {
   "cell_type": "code",
   "execution_count": 52,
   "id": "d65a71b7",
   "metadata": {
    "execution": {
     "iopub.execute_input": "2021-11-11T09:50:52.912432Z",
     "iopub.status.busy": "2021-11-11T09:50:52.911430Z",
     "iopub.status.idle": "2021-11-11T09:50:53.365142Z",
     "shell.execute_reply": "2021-11-11T09:50:53.364555Z",
     "shell.execute_reply.started": "2021-11-11T08:56:37.980113Z"
    },
    "papermill": {
     "duration": 0.553296,
     "end_time": "2021-11-11T09:50:53.365279",
     "exception": false,
     "start_time": "2021-11-11T09:50:52.811983",
     "status": "completed"
    },
    "tags": []
   },
   "outputs": [
    {
     "name": "stdout",
     "output_type": "stream",
     "text": [
      "Skew: 4.3695095504693855\n"
     ]
    },
    {
     "data": {
      "image/png": "[encoded data removed]",
      "text/plain": [
       "<Figure size 432x288 with 1 Axes>"
      ]
     },
     "metadata": {
      "needs_background": "light"
     },
     "output_type": "display_data"
    }
   ],
   "source": [
    "sns.histplot(dataset['Fare'],kde='True')\n",
    "print('Skew:',dataset['Fare'].skew())"
   ]
  },
  {
   "cell_type": "code",
   "execution_count": 53,
   "id": "309a6a8c",
   "metadata": {
    "execution": {
     "iopub.execute_input": "2021-11-11T09:50:53.561859Z",
     "iopub.status.busy": "2021-11-11T09:50:53.560889Z",
     "iopub.status.idle": "2021-11-11T09:50:53.837190Z",
     "shell.execute_reply": "2021-11-11T09:50:53.837741Z",
     "shell.execute_reply.started": "2021-11-11T08:56:38.492335Z"
    },
    "papermill": {
     "duration": 0.375955,
     "end_time": "2021-11-11T09:50:53.837938",
     "exception": false,
     "start_time": "2021-11-11T09:50:53.461983",
     "status": "completed"
    },
    "tags": []
   },
   "outputs": [
    {
     "name": "stderr",
     "output_type": "stream",
     "text": [
      "/opt/conda/lib/python3.7/site-packages/pandas/core/arraylike.py:364: RuntimeWarning: divide by zero encountered in log\n",
      "  result = getattr(ufunc, method)(*inputs, **kwargs)\n"
     ]
    },
    {
     "name": "stdout",
     "output_type": "stream",
     "text": [
      "Skew: nan\n"
     ]
    },
    {
     "data": {
      "image/png": "[encoded data removed]",
      "text/plain": [
       "<Figure size 432x288 with 1 Axes>"
      ]
     },
     "metadata": {
      "needs_background": "light"
     },
     "output_type": "display_data"
    }
   ],
   "source": [
    "# log norm of fare \n",
    "dataset['norm_fare'] = np.log(dataset.Fare)\n",
    "sns.histplot(dataset['norm_fare'],kde='True')\n",
    "print('Skew:',dataset['norm_fare'].skew())"
   ]
  },
  {
   "cell_type": "code",
   "execution_count": 54,
   "id": "926d9111",
   "metadata": {
    "execution": {
     "iopub.execute_input": "2021-11-11T09:50:54.046339Z",
     "iopub.status.busy": "2021-11-11T09:50:54.045700Z",
     "iopub.status.idle": "2021-11-11T09:50:54.336883Z",
     "shell.execute_reply": "2021-11-11T09:50:54.336228Z",
     "shell.execute_reply.started": "2021-11-11T08:56:38.799798Z"
    },
    "papermill": {
     "duration": 0.400147,
     "end_time": "2021-11-11T09:50:54.337025",
     "exception": false,
     "start_time": "2021-11-11T09:50:53.936878",
     "status": "completed"
    },
    "tags": []
   },
   "outputs": [
    {
     "name": "stdout",
     "output_type": "stream",
     "text": [
      "Skew: 2.0882893025090605\n"
     ]
    },
    {
     "data": {
      "image/png": "[encoded data removed]",
      "text/plain": [
       "<Figure size 432x288 with 1 Axes>"
      ]
     },
     "metadata": {
      "needs_background": "light"
     },
     "output_type": "display_data"
    }
   ],
   "source": [
    "#square root transformation \n",
    "dataset['sq_fare'] = dataset['Fare']**(1/2)\n",
    "sns.histplot(dataset['sq_fare'],kde='True')\n",
    "print('Skew:',dataset['sq_fare'].skew())"
   ]
  },
  {
   "cell_type": "code",
   "execution_count": 55,
   "id": "a8f6f3bf",
   "metadata": {
    "execution": {
     "iopub.execute_input": "2021-11-11T09:50:54.541441Z",
     "iopub.status.busy": "2021-11-11T09:50:54.540483Z",
     "iopub.status.idle": "2021-11-11T09:50:54.823260Z",
     "shell.execute_reply": "2021-11-11T09:50:54.823778Z",
     "shell.execute_reply.started": "2021-11-11T08:56:39.132488Z"
    },
    "papermill": {
     "duration": 0.387192,
     "end_time": "2021-11-11T09:50:54.823957",
     "exception": false,
     "start_time": "2021-11-11T09:50:54.436765",
     "status": "completed"
    },
    "tags": []
   },
   "outputs": [
    {
     "name": "stdout",
     "output_type": "stream",
     "text": [
      "Skew: 1.538609113365666\n"
     ]
    },
    {
     "data": {
      "image/png": "[encoded data removed]",
      "text/plain": [
       "<Figure size 432x288 with 1 Axes>"
      ]
     },
     "metadata": {
      "needs_background": "light"
     },
     "output_type": "display_data"
    }
   ],
   "source": [
    "dataset['exp_fare']=dataset['Fare']**(1/2.7)\n",
    "sns.histplot(dataset['exp_fare'],kde='True')\n",
    "print('Skew:',dataset['exp_fare'].skew())"
   ]
  },
  {
   "cell_type": "code",
   "execution_count": 56,
   "id": "cc84d8d0",
   "metadata": {
    "execution": {
     "iopub.execute_input": "2021-11-11T09:50:55.027474Z",
     "iopub.status.busy": "2021-11-11T09:50:55.026863Z",
     "iopub.status.idle": "2021-11-11T09:50:55.317483Z",
     "shell.execute_reply": "2021-11-11T09:50:55.316942Z",
     "shell.execute_reply.started": "2021-11-11T08:56:39.45029Z"
    },
    "papermill": {
     "duration": 0.3933,
     "end_time": "2021-11-11T09:50:55.317626",
     "exception": false,
     "start_time": "2021-11-11T09:50:54.924326",
     "status": "completed"
    },
    "tags": []
   },
   "outputs": [
    {
     "name": "stdout",
     "output_type": "stream",
     "text": [
      "skew -0.056947576885828195\n"
     ]
    },
    {
     "data": {
      "text/plain": [
       "<AxesSubplot:xlabel='Fare_YJ', ylabel='Count'>"
      ]
     },
     "execution_count": 56,
     "metadata": {},
     "output_type": "execute_result"
    },
    {
     "data": {
      "image/png": "[encoded data removed]",
      "text/plain": [
       "<Figure size 432x288 with 1 Axes>"
      ]
     },
     "metadata": {
      "needs_background": "light"
     },
     "output_type": "display_data"
    }
   ],
   "source": [
    "\n",
    "\"\"\"\n",
    "Below is one of the two power transformers  yeo johnson and box cox but we cant use boxcox on 0 \n",
    "or negative values so used yeo john transformer here\"\"\"\n",
    "import scipy.stats as stat\n",
    "from sklearn.preprocessing import PowerTransformer\n",
    "pt = PowerTransformer()\n",
    "ptdata=pd.DataFrame(pt.fit_transform(dataset['Fare'].values.reshape(-1,1)),columns=['Fare_YJ'])\n",
    "print('skew',ptdata['Fare_YJ'].skew())\n",
    "sns.histplot(ptdata['Fare_YJ'],kde='True')"
   ]
  },
  {
   "cell_type": "code",
   "execution_count": 57,
   "id": "44e755b6",
   "metadata": {
    "execution": {
     "iopub.execute_input": "2021-11-11T09:50:55.523464Z",
     "iopub.status.busy": "2021-11-11T09:50:55.522857Z",
     "iopub.status.idle": "2021-11-11T09:50:55.528446Z",
     "shell.execute_reply": "2021-11-11T09:50:55.528928Z",
     "shell.execute_reply.started": "2021-11-11T08:56:39.771845Z"
    },
    "papermill": {
     "duration": 0.109614,
     "end_time": "2021-11-11T09:50:55.529085",
     "exception": false,
     "start_time": "2021-11-11T09:50:55.419471",
     "status": "completed"
    },
    "tags": []
   },
   "outputs": [],
   "source": [
    "#Assign the Yj transformed values to dataset\n",
    "dataset['Fare_transformed']=ptdata['Fare_YJ']\n",
    "dataset.drop(labels = [\"Fare\"], axis = 1, inplace = True) #drop actual Fare feature from the dataset"
   ]
  },
  {
   "cell_type": "code",
   "execution_count": 58,
   "id": "c49de157",
   "metadata": {
    "execution": {
     "iopub.execute_input": "2021-11-11T09:50:55.732268Z",
     "iopub.status.busy": "2021-11-11T09:50:55.731669Z",
     "iopub.status.idle": "2021-11-11T09:50:55.737020Z",
     "shell.execute_reply": "2021-11-11T09:50:55.737561Z",
     "shell.execute_reply.started": "2021-11-11T08:56:39.78079Z"
    },
    "papermill": {
     "duration": 0.108663,
     "end_time": "2021-11-11T09:50:55.737741",
     "exception": false,
     "start_time": "2021-11-11T09:50:55.629078",
     "status": "completed"
    },
    "tags": []
   },
   "outputs": [],
   "source": [
    "dataset.drop(labels = ['norm_fare','exp_fare','sq_fare'], axis = 1, inplace = True) #drop transformed column"
   ]
  },
  {
   "cell_type": "code",
   "execution_count": 59,
   "id": "c0cee74f",
   "metadata": {
    "execution": {
     "iopub.execute_input": "2021-11-11T09:50:55.945154Z",
     "iopub.status.busy": "2021-11-11T09:50:55.944577Z",
     "iopub.status.idle": "2021-11-11T09:50:55.947422Z",
     "shell.execute_reply": "2021-11-11T09:50:55.948006Z",
     "shell.execute_reply.started": "2021-11-11T08:56:39.801898Z"
    },
    "papermill": {
     "duration": 0.109466,
     "end_time": "2021-11-11T09:50:55.948179",
     "exception": false,
     "start_time": "2021-11-11T09:50:55.838713",
     "status": "completed"
    },
    "tags": []
   },
   "outputs": [
    {
     "data": {
      "text/plain": [
       "(-3.8325960514396753, 2.8196338617831143)"
      ]
     },
     "execution_count": 59,
     "metadata": {},
     "output_type": "execute_result"
    }
   ],
   "source": [
    "dataset['Fare_transformed'].min(),dataset['Fare_transformed'].max()"
   ]
  },
  {
   "cell_type": "markdown",
   "id": "8c9db440",
   "metadata": {
    "papermill": {
     "duration": 0.100897,
     "end_time": "2021-11-11T09:50:56.153546",
     "exception": false,
     "start_time": "2021-11-11T09:50:56.052649",
     "status": "completed"
    },
    "tags": []
   },
   "source": [
    "### Age"
   ]
  },
  {
   "cell_type": "markdown",
   "id": "9a373d5c",
   "metadata": {
    "papermill": {
     "duration": 0.101211,
     "end_time": "2021-11-11T09:50:56.355509",
     "exception": false,
     "start_time": "2021-11-11T09:50:56.254298",
     "status": "completed"
    },
    "tags": []
   },
   "source": [
    "Age has normally distributed data and very low skew so no need to transform the data"
   ]
  },
  {
   "cell_type": "code",
   "execution_count": 60,
   "id": "6b8d1608",
   "metadata": {
    "execution": {
     "iopub.execute_input": "2021-11-11T09:50:56.564711Z",
     "iopub.status.busy": "2021-11-11T09:50:56.564058Z",
     "iopub.status.idle": "2021-11-11T09:50:56.842422Z",
     "shell.execute_reply": "2021-11-11T09:50:56.842842Z",
     "shell.execute_reply.started": "2021-11-11T08:56:39.811268Z"
    },
    "papermill": {
     "duration": 0.387187,
     "end_time": "2021-11-11T09:50:56.843017",
     "exception": false,
     "start_time": "2021-11-11T09:50:56.455830",
     "status": "completed"
    },
    "tags": []
   },
   "outputs": [
    {
     "name": "stdout",
     "output_type": "stream",
     "text": [
      "Skew_Age 0.5404952253605563\n"
     ]
    },
    {
     "data": {
      "image/png": "[encoded data removed]",
      "text/plain": [
       "<Figure size 432x288 with 1 Axes>"
      ]
     },
     "metadata": {
      "needs_background": "light"
     },
     "output_type": "display_data"
    }
   ],
   "source": [
    "sns.histplot(dataset['Age'],kde='True')\n",
    "print ('Skew_Age',dataset['Age'].skew())  # Age have very low skew value so not applying the transformation"
   ]
  },
  {
   "cell_type": "markdown",
   "id": "955cb5ed",
   "metadata": {
    "papermill": {
     "duration": 0.10104,
     "end_time": "2021-11-11T09:50:57.045291",
     "exception": false,
     "start_time": "2021-11-11T09:50:56.944251",
     "status": "completed"
    },
    "tags": []
   },
   "source": [
    "### SibSp"
   ]
  },
  {
   "cell_type": "markdown",
   "id": "6baf2ef5",
   "metadata": {
    "papermill": {
     "duration": 0.101729,
     "end_time": "2021-11-11T09:50:57.251275",
     "exception": false,
     "start_time": "2021-11-11T09:50:57.149546",
     "status": "completed"
    },
    "tags": []
   },
   "source": [
    "SibSp has relatively high skew so need to transform to reduce the skew and make the data normally distributed"
   ]
  },
  {
   "cell_type": "code",
   "execution_count": 61,
   "id": "f97cd8ce",
   "metadata": {
    "execution": {
     "iopub.execute_input": "2021-11-11T09:50:57.458557Z",
     "iopub.status.busy": "2021-11-11T09:50:57.457909Z",
     "iopub.status.idle": "2021-11-11T09:50:57.757418Z",
     "shell.execute_reply": "2021-11-11T09:50:57.756773Z",
     "shell.execute_reply.started": "2021-11-11T08:56:40.129526Z"
    },
    "papermill": {
     "duration": 0.403711,
     "end_time": "2021-11-11T09:50:57.757562",
     "exception": false,
     "start_time": "2021-11-11T09:50:57.353851",
     "status": "completed"
    },
    "tags": []
   },
   "outputs": [
    {
     "name": "stdout",
     "output_type": "stream",
     "text": [
      "Skew_Sibp 3.844220342922907\n"
     ]
    },
    {
     "data": {
      "image/png": "[encoded data removed]",
      "text/plain": [
       "<Figure size 432x288 with 1 Axes>"
      ]
     },
     "metadata": {
      "needs_background": "light"
     },
     "output_type": "display_data"
    }
   ],
   "source": [
    "sns.histplot(dataset['SibSp'],kde='True')\n",
    "print ('Skew_Sibp',dataset['SibSp'].skew()) "
   ]
  },
  {
   "cell_type": "code",
   "execution_count": 62,
   "id": "7cbb9fed",
   "metadata": {
    "execution": {
     "iopub.execute_input": "2021-11-11T09:50:57.977267Z",
     "iopub.status.busy": "2021-11-11T09:50:57.972335Z",
     "iopub.status.idle": "2021-11-11T09:50:58.209439Z",
     "shell.execute_reply": "2021-11-11T09:50:58.208916Z",
     "shell.execute_reply.started": "2021-11-11T08:56:40.462916Z"
    },
    "papermill": {
     "duration": 0.346608,
     "end_time": "2021-11-11T09:50:58.209584",
     "exception": false,
     "start_time": "2021-11-11T09:50:57.862976",
     "status": "completed"
    },
    "tags": []
   },
   "outputs": [
    {
     "name": "stderr",
     "output_type": "stream",
     "text": [
      "/opt/conda/lib/python3.7/site-packages/pandas/core/arraylike.py:364: RuntimeWarning: divide by zero encountered in log\n",
      "  result = getattr(ufunc, method)(*inputs, **kwargs)\n"
     ]
    },
    {
     "name": "stdout",
     "output_type": "stream",
     "text": [
      "Skew: nan\n"
     ]
    },
    {
     "data": {
      "image/png": "[encoded data removed]",
      "text/plain": [
       "<Figure size 432x288 with 1 Axes>"
      ]
     },
     "metadata": {
      "needs_background": "light"
     },
     "output_type": "display_data"
    }
   ],
   "source": [
    "# log norm of Sibsp\n",
    "dataset['log_Sib'] = np.log(dataset.SibSp)\n",
    "sns.histplot(dataset['log_Sib'],kde='True')\n",
    "print('Skew:',dataset['log_Sib'].skew())"
   ]
  },
  {
   "cell_type": "code",
   "execution_count": 63,
   "id": "6d8261f2",
   "metadata": {
    "execution": {
     "iopub.execute_input": "2021-11-11T09:50:58.421294Z",
     "iopub.status.busy": "2021-11-11T09:50:58.420710Z",
     "iopub.status.idle": "2021-11-11T09:50:58.654328Z",
     "shell.execute_reply": "2021-11-11T09:50:58.654784Z",
     "shell.execute_reply.started": "2021-11-11T08:56:40.720608Z"
    },
    "papermill": {
     "duration": 0.340823,
     "end_time": "2021-11-11T09:50:58.654969",
     "exception": false,
     "start_time": "2021-11-11T09:50:58.314146",
     "status": "completed"
    },
    "tags": []
   },
   "outputs": [
    {
     "name": "stdout",
     "output_type": "stream",
     "text": [
      "skew 0.7965686892843059\n"
     ]
    },
    {
     "data": {
      "text/plain": [
       "<AxesSubplot:xlabel='sib_YJ', ylabel='Count'>"
      ]
     },
     "execution_count": 63,
     "metadata": {},
     "output_type": "execute_result"
    },
    {
     "data": {
      "image/png": "[encoded data removed]",
      "text/plain": [
       "<Figure size 432x288 with 1 Axes>"
      ]
     },
     "metadata": {
      "needs_background": "light"
     },
     "output_type": "display_data"
    }
   ],
   "source": [
    "ptdata=pd.DataFrame(pt.fit_transform(dataset['SibSp'].values.reshape(-1,1)),columns=['sib_YJ'])\n",
    "print('skew',ptdata['sib_YJ'].skew())\n",
    "sns.histplot(ptdata['sib_YJ'],kde='True')"
   ]
  },
  {
   "cell_type": "code",
   "execution_count": 64,
   "id": "ad8c9830",
   "metadata": {
    "execution": {
     "iopub.execute_input": "2021-11-11T09:50:58.870579Z",
     "iopub.status.busy": "2021-11-11T09:50:58.869908Z",
     "iopub.status.idle": "2021-11-11T09:50:58.877186Z",
     "shell.execute_reply": "2021-11-11T09:50:58.877665Z",
     "shell.execute_reply.started": "2021-11-11T08:56:40.98767Z"
    },
    "papermill": {
     "duration": 0.117249,
     "end_time": "2021-11-11T09:50:58.877847",
     "exception": false,
     "start_time": "2021-11-11T09:50:58.760598",
     "status": "completed"
    },
    "tags": []
   },
   "outputs": [],
   "source": [
    "dataset['Sib_norm']=ptdata['sib_YJ'] #Added Yeo-joh transformed Sibsp to the dataset\n",
    "dataset.drop(labels = [\"SibSp\"], axis = 1, inplace = True) #drop actual SibSp columns\n",
    "dataset.drop(labels = [\"log_Sib\"], axis = 1, inplace = True) #a log transformation created earlier , decicded not to use so deleting it from the dataset"
   ]
  },
  {
   "cell_type": "markdown",
   "id": "b892a265",
   "metadata": {
    "papermill": {
     "duration": 0.109947,
     "end_time": "2021-11-11T09:50:59.095102",
     "exception": false,
     "start_time": "2021-11-11T09:50:58.985155",
     "status": "completed"
    },
    "tags": []
   },
   "source": [
    "### Parch"
   ]
  },
  {
   "cell_type": "code",
   "execution_count": 65,
   "id": "1adb5573",
   "metadata": {
    "execution": {
     "iopub.execute_input": "2021-11-11T09:50:59.310441Z",
     "iopub.status.busy": "2021-11-11T09:50:59.309747Z",
     "iopub.status.idle": "2021-11-11T09:50:59.554853Z",
     "shell.execute_reply": "2021-11-11T09:50:59.554375Z",
     "shell.execute_reply.started": "2021-11-11T08:56:40.997825Z"
    },
    "papermill": {
     "duration": 0.35373,
     "end_time": "2021-11-11T09:50:59.554998",
     "exception": false,
     "start_time": "2021-11-11T09:50:59.201268",
     "status": "completed"
    },
    "tags": []
   },
   "outputs": [
    {
     "name": "stdout",
     "output_type": "stream",
     "text": [
      "Skew_Parch 3.6690782036511136\n"
     ]
    },
    {
     "data": {
      "image/png": "[encoded data removed]",
      "text/plain": [
       "<Figure size 432x288 with 1 Axes>"
      ]
     },
     "metadata": {
      "needs_background": "light"
     },
     "output_type": "display_data"
    }
   ],
   "source": [
    "sns.histplot(dataset['Parch'],kde='True')\n",
    "print ('Skew_Parch',dataset['Parch'].skew()) "
   ]
  },
  {
   "cell_type": "markdown",
   "id": "0d7f23db",
   "metadata": {
    "papermill": {
     "duration": 0.107186,
     "end_time": "2021-11-11T09:50:59.770615",
     "exception": false,
     "start_time": "2021-11-11T09:50:59.663429",
     "status": "completed"
    },
    "tags": []
   },
   "source": []
  },
  {
   "cell_type": "code",
   "execution_count": 66,
   "id": "9292f5a9",
   "metadata": {
    "execution": {
     "iopub.execute_input": "2021-11-11T09:50:59.992266Z",
     "iopub.status.busy": "2021-11-11T09:50:59.991582Z",
     "iopub.status.idle": "2021-11-11T09:51:00.237226Z",
     "shell.execute_reply": "2021-11-11T09:51:00.236690Z",
     "shell.execute_reply.started": "2021-11-11T08:56:41.278562Z"
    },
    "papermill": {
     "duration": 0.359775,
     "end_time": "2021-11-11T09:51:00.237385",
     "exception": false,
     "start_time": "2021-11-11T09:50:59.877610",
     "status": "completed"
    },
    "tags": []
   },
   "outputs": [
    {
     "name": "stderr",
     "output_type": "stream",
     "text": [
      "/opt/conda/lib/python3.7/site-packages/pandas/core/arraylike.py:364: RuntimeWarning: divide by zero encountered in log\n",
      "  result = getattr(ufunc, method)(*inputs, **kwargs)\n"
     ]
    },
    {
     "name": "stdout",
     "output_type": "stream",
     "text": [
      "Skew: nan\n"
     ]
    },
    {
     "data": {
      "image/png": "[encoded data removed]",
      "text/plain": [
       "<Figure size 432x288 with 1 Axes>"
      ]
     },
     "metadata": {
      "needs_background": "light"
     },
     "output_type": "display_data"
    }
   ],
   "source": [
    "# log norm of Parch\n",
    "dataset['norm_Par'] = np.log(dataset.Parch)\n",
    "sns.histplot(dataset['norm_Par'],kde='True')\n",
    "print('Skew:',dataset['norm_Par'].skew())\n",
    "dataset.drop(labels = [\"norm_Par\"], axis = 1, inplace = True) #drop transformed column"
   ]
  },
  {
   "cell_type": "markdown",
   "id": "c8c8faba",
   "metadata": {
    "papermill": {
     "duration": 0.107667,
     "end_time": "2021-11-11T09:51:00.455848",
     "exception": false,
     "start_time": "2021-11-11T09:51:00.348181",
     "status": "completed"
    },
    "tags": []
   },
   "source": [
    "HANDLE CATAGORICAL FEATURES INTO NUMERICAL ,ONE HOT ENCODING"
   ]
  },
  {
   "cell_type": "code",
   "execution_count": null,
   "id": "22bfdb19",
   "metadata": {
    "papermill": {
     "duration": 0.106455,
     "end_time": "2021-11-11T09:51:00.670149",
     "exception": false,
     "start_time": "2021-11-11T09:51:00.563694",
     "status": "completed"
    },
    "tags": []
   },
   "outputs": [],
   "source": []
  },
  {
   "cell_type": "code",
   "execution_count": 67,
   "id": "ea5ed4d0",
   "metadata": {
    "execution": {
     "iopub.execute_input": "2021-11-11T09:51:00.889328Z",
     "iopub.status.busy": "2021-11-11T09:51:00.888715Z",
     "iopub.status.idle": "2021-11-11T09:51:00.899800Z",
     "shell.execute_reply": "2021-11-11T09:51:00.900396Z",
     "shell.execute_reply.started": "2021-11-11T08:56:41.553072Z"
    },
    "papermill": {
     "duration": 0.122393,
     "end_time": "2021-11-11T09:51:00.900569",
     "exception": false,
     "start_time": "2021-11-11T09:51:00.778176",
     "status": "completed"
    },
    "tags": []
   },
   "outputs": [
    {
     "name": "stdout",
     "output_type": "stream",
     "text": [
      "<class 'pandas.core.frame.DataFrame'>\n",
      "RangeIndex: 1309 entries, 0 to 1308\n",
      "Data columns (total 13 columns):\n",
      " #   Column            Non-Null Count  Dtype  \n",
      "---  ------            --------------  -----  \n",
      " 0   PassengerId       1309 non-null   int64  \n",
      " 1   Survived          891 non-null    float64\n",
      " 2   Pclass            1309 non-null   int64  \n",
      " 3   Sex               1309 non-null   object \n",
      " 4   Age               1309 non-null   float64\n",
      " 5   Parch             1309 non-null   int64  \n",
      " 6   Ticket            1309 non-null   object \n",
      " 7   Cabin             1309 non-null   object \n",
      " 8   Embarked          1309 non-null   object \n",
      " 9   Title             1309 non-null   int64  \n",
      " 10  Family            1309 non-null   object \n",
      " 11  Fare_transformed  1309 non-null   float64\n",
      " 12  Sib_norm          1309 non-null   float64\n",
      "dtypes: float64(4), int64(4), object(5)\n",
      "memory usage: 133.1+ KB\n"
     ]
    }
   ],
   "source": [
    "dataset.info()"
   ]
  },
  {
   "cell_type": "markdown",
   "id": "22d61490",
   "metadata": {
    "papermill": {
     "duration": 0.107236,
     "end_time": "2021-11-11T09:51:01.115281",
     "exception": false,
     "start_time": "2021-11-11T09:51:01.008045",
     "status": "completed"
    },
    "tags": []
   },
   "source": [
    "## Catagorical Data to One-Hot Encoding"
   ]
  },
  {
   "cell_type": "code",
   "execution_count": 68,
   "id": "e983cf5c",
   "metadata": {
    "execution": {
     "iopub.execute_input": "2021-11-11T09:51:01.475629Z",
     "iopub.status.busy": "2021-11-11T09:51:01.474876Z",
     "iopub.status.idle": "2021-11-11T09:51:01.486856Z",
     "shell.execute_reply": "2021-11-11T09:51:01.487317Z",
     "shell.execute_reply.started": "2021-11-11T08:56:41.570699Z"
    },
    "papermill": {
     "duration": 0.171681,
     "end_time": "2021-11-11T09:51:01.487522",
     "exception": false,
     "start_time": "2021-11-11T09:51:01.315841",
     "status": "completed"
    },
    "tags": []
   },
   "outputs": [],
   "source": [
    "dataset[\"Pclass\"] = dataset[\"Pclass\"].astype(\"category\")\n",
    "dataset = pd.get_dummies(dataset, columns = [\"Pclass\"],drop_first=True,prefix=\"Pcl\")"
   ]
  },
  {
   "cell_type": "code",
   "execution_count": 69,
   "id": "cd2719d8",
   "metadata": {
    "execution": {
     "iopub.execute_input": "2021-11-11T09:51:01.723703Z",
     "iopub.status.busy": "2021-11-11T09:51:01.722989Z",
     "iopub.status.idle": "2021-11-11T09:51:01.735755Z",
     "shell.execute_reply": "2021-11-11T09:51:01.736212Z",
     "shell.execute_reply.started": "2021-11-11T08:56:41.584412Z"
    },
    "papermill": {
     "duration": 0.127306,
     "end_time": "2021-11-11T09:51:01.736440",
     "exception": false,
     "start_time": "2021-11-11T09:51:01.609134",
     "status": "completed"
    },
    "tags": []
   },
   "outputs": [],
   "source": [
    "dataset[\"Family\"] = dataset[\"Family\"].astype(\"category\")\n",
    "dataset = pd.get_dummies(dataset, columns = [\"Family\"],drop_first=True,prefix=\"Fam\")"
   ]
  },
  {
   "cell_type": "code",
   "execution_count": 70,
   "id": "ab543524",
   "metadata": {
    "execution": {
     "iopub.execute_input": "2021-11-11T09:51:01.957631Z",
     "iopub.status.busy": "2021-11-11T09:51:01.956947Z",
     "iopub.status.idle": "2021-11-11T09:51:01.975960Z",
     "shell.execute_reply": "2021-11-11T09:51:01.976472Z",
     "shell.execute_reply.started": "2021-11-11T08:56:41.604602Z"
    },
    "papermill": {
     "duration": 0.131322,
     "end_time": "2021-11-11T09:51:01.976685",
     "exception": false,
     "start_time": "2021-11-11T09:51:01.845363",
     "status": "completed"
    },
    "tags": []
   },
   "outputs": [],
   "source": [
    "dataset = pd.get_dummies(dataset, columns = [\"Cabin\"],drop_first=True,prefix=\"Cabin\")\n",
    "dataset = pd.get_dummies(dataset, columns = [\"Ticket\"],drop_first=True, prefix=\"T\")"
   ]
  },
  {
   "cell_type": "code",
   "execution_count": 71,
   "id": "df6960cd",
   "metadata": {
    "execution": {
     "iopub.execute_input": "2021-11-11T09:51:02.199240Z",
     "iopub.status.busy": "2021-11-11T09:51:02.198664Z",
     "iopub.status.idle": "2021-11-11T09:51:02.213223Z",
     "shell.execute_reply": "2021-11-11T09:51:02.213737Z",
     "shell.execute_reply.started": "2021-11-11T08:56:41.623107Z"
    },
    "papermill": {
     "duration": 0.125959,
     "end_time": "2021-11-11T09:51:02.213910",
     "exception": false,
     "start_time": "2021-11-11T09:51:02.087951",
     "status": "completed"
    },
    "tags": []
   },
   "outputs": [],
   "source": [
    "dataset = pd.get_dummies(dataset, columns = [\"Title\"],drop_first=True)\n",
    "dataset = pd.get_dummies(dataset, columns = [\"Embarked\"],drop_first=True, prefix=\"Em\")\n",
    "dataset = pd.get_dummies(dataset, columns = [\"Sex\"],drop_first=True, prefix=\"Emb\")"
   ]
  },
  {
   "cell_type": "code",
   "execution_count": 72,
   "id": "365f7e0b",
   "metadata": {
    "execution": {
     "iopub.execute_input": "2021-11-11T09:51:02.436806Z",
     "iopub.status.busy": "2021-11-11T09:51:02.436173Z",
     "iopub.status.idle": "2021-11-11T09:51:02.450018Z",
     "shell.execute_reply": "2021-11-11T09:51:02.450479Z",
     "shell.execute_reply.started": "2021-11-11T08:56:41.644438Z"
    },
    "papermill": {
     "duration": 0.126712,
     "end_time": "2021-11-11T09:51:02.450653",
     "exception": false,
     "start_time": "2021-11-11T09:51:02.323941",
     "status": "completed"
    },
    "tags": []
   },
   "outputs": [
    {
     "name": "stdout",
     "output_type": "stream",
     "text": [
      "<class 'pandas.core.frame.DataFrame'>\n",
      "RangeIndex: 1309 entries, 0 to 1308\n",
      "Data columns (total 64 columns):\n",
      " #   Column            Non-Null Count  Dtype  \n",
      "---  ------            --------------  -----  \n",
      " 0   PassengerId       1309 non-null   int64  \n",
      " 1   Survived          891 non-null    float64\n",
      " 2   Age               1309 non-null   float64\n",
      " 3   Parch             1309 non-null   int64  \n",
      " 4   Fare_transformed  1309 non-null   float64\n",
      " 5   Sib_norm          1309 non-null   float64\n",
      " 6   Pcl_2             1309 non-null   uint8  \n",
      " 7   Pcl_3             1309 non-null   uint8  \n",
      " 8   Fam_Couple        1309 non-null   uint8  \n",
      " 9   Fam_LargeFam      1309 non-null   uint8  \n",
      " 10  Fam_Single        1309 non-null   uint8  \n",
      " 11  Fam_SmallFam      1309 non-null   uint8  \n",
      " 12  Cabin_B           1309 non-null   uint8  \n",
      " 13  Cabin_C           1309 non-null   uint8  \n",
      " 14  Cabin_D           1309 non-null   uint8  \n",
      " 15  Cabin_E           1309 non-null   uint8  \n",
      " 16  Cabin_F           1309 non-null   uint8  \n",
      " 17  Cabin_G           1309 non-null   uint8  \n",
      " 18  Cabin_T           1309 non-null   uint8  \n",
      " 19  Cabin_X           1309 non-null   uint8  \n",
      " 20  T_A4              1309 non-null   uint8  \n",
      " 21  T_A5              1309 non-null   uint8  \n",
      " 22  T_AQ3             1309 non-null   uint8  \n",
      " 23  T_AQ4             1309 non-null   uint8  \n",
      " 24  T_AS              1309 non-null   uint8  \n",
      " 25  T_C               1309 non-null   uint8  \n",
      " 26  T_CA              1309 non-null   uint8  \n",
      " 27  T_CASOTON         1309 non-null   uint8  \n",
      " 28  T_FC              1309 non-null   uint8  \n",
      " 29  T_FCC             1309 non-null   uint8  \n",
      " 30  T_Fa              1309 non-null   uint8  \n",
      " 31  T_LINE            1309 non-null   uint8  \n",
      " 32  T_LP              1309 non-null   uint8  \n",
      " 33  T_PC              1309 non-null   uint8  \n",
      " 34  T_PP              1309 non-null   uint8  \n",
      " 35  T_PPP             1309 non-null   uint8  \n",
      " 36  T_SC              1309 non-null   uint8  \n",
      " 37  T_SCA3            1309 non-null   uint8  \n",
      " 38  T_SCA4            1309 non-null   uint8  \n",
      " 39  T_SCAH            1309 non-null   uint8  \n",
      " 40  T_SCOW            1309 non-null   uint8  \n",
      " 41  T_SCPARIS         1309 non-null   uint8  \n",
      " 42  T_SCParis         1309 non-null   uint8  \n",
      " 43  T_SOC             1309 non-null   uint8  \n",
      " 44  T_SOP             1309 non-null   uint8  \n",
      " 45  T_SOPP            1309 non-null   uint8  \n",
      " 46  T_SOTONO2         1309 non-null   uint8  \n",
      " 47  T_SOTONOQ         1309 non-null   uint8  \n",
      " 48  T_SP              1309 non-null   uint8  \n",
      " 49  T_STONO           1309 non-null   uint8  \n",
      " 50  T_STONO2          1309 non-null   uint8  \n",
      " 51  T_STONOQ          1309 non-null   uint8  \n",
      " 52  T_SWPP            1309 non-null   uint8  \n",
      " 53  T_WC              1309 non-null   uint8  \n",
      " 54  T_WEP             1309 non-null   uint8  \n",
      " 55  T_X               1309 non-null   uint8  \n",
      " 56  Title_2           1309 non-null   uint8  \n",
      " 57  Title_3           1309 non-null   uint8  \n",
      " 58  Title_4           1309 non-null   uint8  \n",
      " 59  Title_5           1309 non-null   uint8  \n",
      " 60  Title_6           1309 non-null   uint8  \n",
      " 61  Em_Q              1309 non-null   uint8  \n",
      " 62  Em_S              1309 non-null   uint8  \n",
      " 63  Emb_male          1309 non-null   uint8  \n",
      "dtypes: float64(4), int64(2), uint8(58)\n",
      "memory usage: 135.6 KB\n"
     ]
    }
   ],
   "source": [
    "dataset.info()"
   ]
  },
  {
   "cell_type": "markdown",
   "id": "b7654977",
   "metadata": {
    "papermill": {
     "duration": 0.107728,
     "end_time": "2021-11-11T09:51:02.665732",
     "exception": false,
     "start_time": "2021-11-11T09:51:02.558004",
     "status": "completed"
    },
    "tags": []
   },
   "source": [
    "## Further Normalization of Few Features"
   ]
  },
  {
   "cell_type": "markdown",
   "id": "30beb994",
   "metadata": {
    "papermill": {
     "duration": 0.107924,
     "end_time": "2021-11-11T09:51:02.881880",
     "exception": false,
     "start_time": "2021-11-11T09:51:02.773956",
     "status": "completed"
    },
    "tags": []
   },
   "source": [
    "CHECK THE INFO OF THE DATA AND DECIDE WHETHER DO WE NEED TO NORMALIZE ANY FEATURES"
   ]
  },
  {
   "cell_type": "code",
   "execution_count": 73,
   "id": "80da5d20",
   "metadata": {
    "execution": {
     "iopub.execute_input": "2021-11-11T09:51:03.105744Z",
     "iopub.status.busy": "2021-11-11T09:51:03.104965Z",
     "iopub.status.idle": "2021-11-11T09:51:03.107706Z",
     "shell.execute_reply": "2021-11-11T09:51:03.107123Z",
     "shell.execute_reply.started": "2021-11-11T08:56:41.875795Z"
    },
    "papermill": {
     "duration": 0.117416,
     "end_time": "2021-11-11T09:51:03.107849",
     "exception": false,
     "start_time": "2021-11-11T09:51:02.990433",
     "status": "completed"
    },
    "tags": []
   },
   "outputs": [],
   "source": [
    "pd.set_option('display.max_columns',80) #this is nothing but to display all the columns in visualization"
   ]
  },
  {
   "cell_type": "code",
   "execution_count": 74,
   "id": "44878ac4",
   "metadata": {
    "execution": {
     "iopub.execute_input": "2021-11-11T09:51:03.330943Z",
     "iopub.status.busy": "2021-11-11T09:51:03.330266Z",
     "iopub.status.idle": "2021-11-11T09:51:03.491015Z",
     "shell.execute_reply": "2021-11-11T09:51:03.491498Z",
     "shell.execute_reply.started": "2021-11-11T08:56:41.881716Z"
    },
    "papermill": {
     "duration": 0.274116,
     "end_time": "2021-11-11T09:51:03.491665",
     "exception": false,
     "start_time": "2021-11-11T09:51:03.217549",
     "status": "completed"
    },
    "tags": []
   },
   "outputs": [
    {
     "data": {
      "text/html": [
       "<div>\n",
       "<style scoped>\n",
       "    .dataframe tbody tr th:only-of-type {\n",
       "        vertical-align: middle;\n",
       "    }\n",
       "\n",
       "    .dataframe tbody tr th {\n",
       "        vertical-align: top;\n",
       "    }\n",
       "\n",
       "    .dataframe thead th {\n",
       "        text-align: right;\n",
       "    }\n",
       "</style>\n",
       "<table border=\"1\" class=\"dataframe\">\n",
       "  <thead>\n",
       "    <tr style=\"text-align: right;\">\n",
       "      <th></th>\n",
       "      <th>PassengerId</th>\n",
       "      <th>Survived</th>\n",
       "      <th>Age</th>\n",
       "      <th>Parch</th>\n",
       "      <th>Fare_transformed</th>\n",
       "      <th>Sib_norm</th>\n",
       "      <th>Pcl_2</th>\n",
       "      <th>Pcl_3</th>\n",
       "      <th>Fam_Couple</th>\n",
       "      <th>Fam_LargeFam</th>\n",
       "      <th>Fam_Single</th>\n",
       "      <th>Fam_SmallFam</th>\n",
       "      <th>Cabin_B</th>\n",
       "      <th>Cabin_C</th>\n",
       "      <th>Cabin_D</th>\n",
       "      <th>Cabin_E</th>\n",
       "      <th>Cabin_F</th>\n",
       "      <th>Cabin_G</th>\n",
       "      <th>Cabin_T</th>\n",
       "      <th>Cabin_X</th>\n",
       "      <th>T_A4</th>\n",
       "      <th>T_A5</th>\n",
       "      <th>T_AQ3</th>\n",
       "      <th>T_AQ4</th>\n",
       "      <th>T_AS</th>\n",
       "      <th>T_C</th>\n",
       "      <th>T_CA</th>\n",
       "      <th>T_CASOTON</th>\n",
       "      <th>T_FC</th>\n",
       "      <th>T_FCC</th>\n",
       "      <th>T_Fa</th>\n",
       "      <th>T_LINE</th>\n",
       "      <th>T_LP</th>\n",
       "      <th>T_PC</th>\n",
       "      <th>T_PP</th>\n",
       "      <th>T_PPP</th>\n",
       "      <th>T_SC</th>\n",
       "      <th>T_SCA3</th>\n",
       "      <th>T_SCA4</th>\n",
       "      <th>T_SCAH</th>\n",
       "      <th>T_SCOW</th>\n",
       "      <th>T_SCPARIS</th>\n",
       "      <th>T_SCParis</th>\n",
       "      <th>T_SOC</th>\n",
       "      <th>T_SOP</th>\n",
       "      <th>T_SOPP</th>\n",
       "      <th>T_SOTONO2</th>\n",
       "      <th>T_SOTONOQ</th>\n",
       "      <th>T_SP</th>\n",
       "      <th>T_STONO</th>\n",
       "      <th>T_STONO2</th>\n",
       "      <th>T_STONOQ</th>\n",
       "      <th>T_SWPP</th>\n",
       "      <th>T_WC</th>\n",
       "      <th>T_WEP</th>\n",
       "      <th>T_X</th>\n",
       "      <th>Title_2</th>\n",
       "      <th>Title_3</th>\n",
       "      <th>Title_4</th>\n",
       "      <th>Title_5</th>\n",
       "      <th>Title_6</th>\n",
       "      <th>Em_Q</th>\n",
       "      <th>Em_S</th>\n",
       "      <th>Emb_male</th>\n",
       "    </tr>\n",
       "  </thead>\n",
       "  <tbody>\n",
       "    <tr>\n",
       "      <th>count</th>\n",
       "      <td>1309.000000</td>\n",
       "      <td>891.000000</td>\n",
       "      <td>1309.000000</td>\n",
       "      <td>1309.000000</td>\n",
       "      <td>1.309000e+03</td>\n",
       "      <td>1.309000e+03</td>\n",
       "      <td>1309.000000</td>\n",
       "      <td>1309.000000</td>\n",
       "      <td>1309.000000</td>\n",
       "      <td>1309.000000</td>\n",
       "      <td>1309.000000</td>\n",
       "      <td>1309.000000</td>\n",
       "      <td>1309.000000</td>\n",
       "      <td>1309.000000</td>\n",
       "      <td>1309.000000</td>\n",
       "      <td>1309.000000</td>\n",
       "      <td>1309.000000</td>\n",
       "      <td>1309.000000</td>\n",
       "      <td>1309.000000</td>\n",
       "      <td>1309.000000</td>\n",
       "      <td>1309.000000</td>\n",
       "      <td>1309.000000</td>\n",
       "      <td>1309.000000</td>\n",
       "      <td>1309.000000</td>\n",
       "      <td>1309.000000</td>\n",
       "      <td>1309.000000</td>\n",
       "      <td>1309.000000</td>\n",
       "      <td>1309.000000</td>\n",
       "      <td>1309.000000</td>\n",
       "      <td>1309.000000</td>\n",
       "      <td>1309.000000</td>\n",
       "      <td>1309.000000</td>\n",
       "      <td>1309.000000</td>\n",
       "      <td>1309.000000</td>\n",
       "      <td>1309.000000</td>\n",
       "      <td>1309.000000</td>\n",
       "      <td>1309.000000</td>\n",
       "      <td>1309.000000</td>\n",
       "      <td>1309.000000</td>\n",
       "      <td>1309.000000</td>\n",
       "      <td>1309.000000</td>\n",
       "      <td>1309.000000</td>\n",
       "      <td>1309.000000</td>\n",
       "      <td>1309.000000</td>\n",
       "      <td>1309.000000</td>\n",
       "      <td>1309.000000</td>\n",
       "      <td>1309.000000</td>\n",
       "      <td>1309.000000</td>\n",
       "      <td>1309.000000</td>\n",
       "      <td>1309.000000</td>\n",
       "      <td>1309.000000</td>\n",
       "      <td>1309.000000</td>\n",
       "      <td>1309.000000</td>\n",
       "      <td>1309.000000</td>\n",
       "      <td>1309.000000</td>\n",
       "      <td>1309.000000</td>\n",
       "      <td>1309.000000</td>\n",
       "      <td>1309.000000</td>\n",
       "      <td>1309.000000</td>\n",
       "      <td>1309.000000</td>\n",
       "      <td>1309.000000</td>\n",
       "      <td>1309.000000</td>\n",
       "      <td>1309.000000</td>\n",
       "      <td>1309.000000</td>\n",
       "    </tr>\n",
       "    <tr>\n",
       "      <th>mean</th>\n",
       "      <td>655.000000</td>\n",
       "      <td>0.383838</td>\n",
       "      <td>29.179656</td>\n",
       "      <td>0.385027</td>\n",
       "      <td>2.297415e-16</td>\n",
       "      <td>-3.740324e-16</td>\n",
       "      <td>0.211612</td>\n",
       "      <td>0.541635</td>\n",
       "      <td>0.179526</td>\n",
       "      <td>0.048128</td>\n",
       "      <td>0.603514</td>\n",
       "      <td>0.154316</td>\n",
       "      <td>0.051948</td>\n",
       "      <td>0.079450</td>\n",
       "      <td>0.035141</td>\n",
       "      <td>0.032086</td>\n",
       "      <td>0.016043</td>\n",
       "      <td>0.003820</td>\n",
       "      <td>0.000764</td>\n",
       "      <td>0.763942</td>\n",
       "      <td>0.007639</td>\n",
       "      <td>0.021390</td>\n",
       "      <td>0.000764</td>\n",
       "      <td>0.000764</td>\n",
       "      <td>0.000764</td>\n",
       "      <td>0.006112</td>\n",
       "      <td>0.051948</td>\n",
       "      <td>0.000764</td>\n",
       "      <td>0.002292</td>\n",
       "      <td>0.006875</td>\n",
       "      <td>0.000764</td>\n",
       "      <td>0.003056</td>\n",
       "      <td>0.000764</td>\n",
       "      <td>0.070283</td>\n",
       "      <td>0.003056</td>\n",
       "      <td>0.001528</td>\n",
       "      <td>0.001528</td>\n",
       "      <td>0.000764</td>\n",
       "      <td>0.001528</td>\n",
       "      <td>0.003820</td>\n",
       "      <td>0.000764</td>\n",
       "      <td>0.010695</td>\n",
       "      <td>0.003820</td>\n",
       "      <td>0.006112</td>\n",
       "      <td>0.000764</td>\n",
       "      <td>0.005348</td>\n",
       "      <td>0.002292</td>\n",
       "      <td>0.018335</td>\n",
       "      <td>0.000764</td>\n",
       "      <td>0.010695</td>\n",
       "      <td>0.005348</td>\n",
       "      <td>0.000764</td>\n",
       "      <td>0.001528</td>\n",
       "      <td>0.011459</td>\n",
       "      <td>0.003056</td>\n",
       "      <td>0.731092</td>\n",
       "      <td>0.010695</td>\n",
       "      <td>0.001528</td>\n",
       "      <td>0.578304</td>\n",
       "      <td>0.046600</td>\n",
       "      <td>0.353705</td>\n",
       "      <td>0.093965</td>\n",
       "      <td>0.699771</td>\n",
       "      <td>0.644003</td>\n",
       "    </tr>\n",
       "    <tr>\n",
       "      <th>std</th>\n",
       "      <td>378.020061</td>\n",
       "      <td>0.486592</td>\n",
       "      <td>13.269138</td>\n",
       "      <td>0.865560</td>\n",
       "      <td>1.000382e+00</td>\n",
       "      <td>1.000382e+00</td>\n",
       "      <td>0.408607</td>\n",
       "      <td>0.498454</td>\n",
       "      <td>0.383939</td>\n",
       "      <td>0.214119</td>\n",
       "      <td>0.489354</td>\n",
       "      <td>0.361390</td>\n",
       "      <td>0.222007</td>\n",
       "      <td>0.270543</td>\n",
       "      <td>0.184207</td>\n",
       "      <td>0.176295</td>\n",
       "      <td>0.125688</td>\n",
       "      <td>0.061709</td>\n",
       "      <td>0.027639</td>\n",
       "      <td>0.424821</td>\n",
       "      <td>0.087103</td>\n",
       "      <td>0.144737</td>\n",
       "      <td>0.027639</td>\n",
       "      <td>0.027639</td>\n",
       "      <td>0.027639</td>\n",
       "      <td>0.077967</td>\n",
       "      <td>0.222007</td>\n",
       "      <td>0.027639</td>\n",
       "      <td>0.047836</td>\n",
       "      <td>0.082665</td>\n",
       "      <td>0.027639</td>\n",
       "      <td>0.055216</td>\n",
       "      <td>0.027639</td>\n",
       "      <td>0.255720</td>\n",
       "      <td>0.055216</td>\n",
       "      <td>0.039073</td>\n",
       "      <td>0.039073</td>\n",
       "      <td>0.027639</td>\n",
       "      <td>0.039073</td>\n",
       "      <td>0.061709</td>\n",
       "      <td>0.027639</td>\n",
       "      <td>0.102902</td>\n",
       "      <td>0.061709</td>\n",
       "      <td>0.077967</td>\n",
       "      <td>0.027639</td>\n",
       "      <td>0.072959</td>\n",
       "      <td>0.047836</td>\n",
       "      <td>0.134210</td>\n",
       "      <td>0.027639</td>\n",
       "      <td>0.102902</td>\n",
       "      <td>0.072959</td>\n",
       "      <td>0.027639</td>\n",
       "      <td>0.039073</td>\n",
       "      <td>0.106473</td>\n",
       "      <td>0.055216</td>\n",
       "      <td>0.443561</td>\n",
       "      <td>0.102902</td>\n",
       "      <td>0.039073</td>\n",
       "      <td>0.494019</td>\n",
       "      <td>0.210862</td>\n",
       "      <td>0.478302</td>\n",
       "      <td>0.291891</td>\n",
       "      <td>0.458533</td>\n",
       "      <td>0.478997</td>\n",
       "    </tr>\n",
       "    <tr>\n",
       "      <th>min</th>\n",
       "      <td>1.000000</td>\n",
       "      <td>0.000000</td>\n",
       "      <td>0.170000</td>\n",
       "      <td>0.000000</td>\n",
       "      <td>-3.832596e+00</td>\n",
       "      <td>-6.828521e-01</td>\n",
       "      <td>0.000000</td>\n",
       "      <td>0.000000</td>\n",
       "      <td>0.000000</td>\n",
       "      <td>0.000000</td>\n",
       "      <td>0.000000</td>\n",
       "      <td>0.000000</td>\n",
       "      <td>0.000000</td>\n",
       "      <td>0.000000</td>\n",
       "      <td>0.000000</td>\n",
       "      <td>0.000000</td>\n",
       "      <td>0.000000</td>\n",
       "      <td>0.000000</td>\n",
       "      <td>0.000000</td>\n",
       "      <td>0.000000</td>\n",
       "      <td>0.000000</td>\n",
       "      <td>0.000000</td>\n",
       "      <td>0.000000</td>\n",
       "      <td>0.000000</td>\n",
       "      <td>0.000000</td>\n",
       "      <td>0.000000</td>\n",
       "      <td>0.000000</td>\n",
       "      <td>0.000000</td>\n",
       "      <td>0.000000</td>\n",
       "      <td>0.000000</td>\n",
       "      <td>0.000000</td>\n",
       "      <td>0.000000</td>\n",
       "      <td>0.000000</td>\n",
       "      <td>0.000000</td>\n",
       "      <td>0.000000</td>\n",
       "      <td>0.000000</td>\n",
       "      <td>0.000000</td>\n",
       "      <td>0.000000</td>\n",
       "      <td>0.000000</td>\n",
       "      <td>0.000000</td>\n",
       "      <td>0.000000</td>\n",
       "      <td>0.000000</td>\n",
       "      <td>0.000000</td>\n",
       "      <td>0.000000</td>\n",
       "      <td>0.000000</td>\n",
       "      <td>0.000000</td>\n",
       "      <td>0.000000</td>\n",
       "      <td>0.000000</td>\n",
       "      <td>0.000000</td>\n",
       "      <td>0.000000</td>\n",
       "      <td>0.000000</td>\n",
       "      <td>0.000000</td>\n",
       "      <td>0.000000</td>\n",
       "      <td>0.000000</td>\n",
       "      <td>0.000000</td>\n",
       "      <td>0.000000</td>\n",
       "      <td>0.000000</td>\n",
       "      <td>0.000000</td>\n",
       "      <td>0.000000</td>\n",
       "      <td>0.000000</td>\n",
       "      <td>0.000000</td>\n",
       "      <td>0.000000</td>\n",
       "      <td>0.000000</td>\n",
       "      <td>0.000000</td>\n",
       "    </tr>\n",
       "    <tr>\n",
       "      <th>25%</th>\n",
       "      <td>328.000000</td>\n",
       "      <td>0.000000</td>\n",
       "      <td>22.000000</td>\n",
       "      <td>0.000000</td>\n",
       "      <td>-8.158919e-01</td>\n",
       "      <td>-6.828521e-01</td>\n",
       "      <td>0.000000</td>\n",
       "      <td>0.000000</td>\n",
       "      <td>0.000000</td>\n",
       "      <td>0.000000</td>\n",
       "      <td>0.000000</td>\n",
       "      <td>0.000000</td>\n",
       "      <td>0.000000</td>\n",
       "      <td>0.000000</td>\n",
       "      <td>0.000000</td>\n",
       "      <td>0.000000</td>\n",
       "      <td>0.000000</td>\n",
       "      <td>0.000000</td>\n",
       "      <td>0.000000</td>\n",
       "      <td>1.000000</td>\n",
       "      <td>0.000000</td>\n",
       "      <td>0.000000</td>\n",
       "      <td>0.000000</td>\n",
       "      <td>0.000000</td>\n",
       "      <td>0.000000</td>\n",
       "      <td>0.000000</td>\n",
       "      <td>0.000000</td>\n",
       "      <td>0.000000</td>\n",
       "      <td>0.000000</td>\n",
       "      <td>0.000000</td>\n",
       "      <td>0.000000</td>\n",
       "      <td>0.000000</td>\n",
       "      <td>0.000000</td>\n",
       "      <td>0.000000</td>\n",
       "      <td>0.000000</td>\n",
       "      <td>0.000000</td>\n",
       "      <td>0.000000</td>\n",
       "      <td>0.000000</td>\n",
       "      <td>0.000000</td>\n",
       "      <td>0.000000</td>\n",
       "      <td>0.000000</td>\n",
       "      <td>0.000000</td>\n",
       "      <td>0.000000</td>\n",
       "      <td>0.000000</td>\n",
       "      <td>0.000000</td>\n",
       "      <td>0.000000</td>\n",
       "      <td>0.000000</td>\n",
       "      <td>0.000000</td>\n",
       "      <td>0.000000</td>\n",
       "      <td>0.000000</td>\n",
       "      <td>0.000000</td>\n",
       "      <td>0.000000</td>\n",
       "      <td>0.000000</td>\n",
       "      <td>0.000000</td>\n",
       "      <td>0.000000</td>\n",
       "      <td>0.000000</td>\n",
       "      <td>0.000000</td>\n",
       "      <td>0.000000</td>\n",
       "      <td>0.000000</td>\n",
       "      <td>0.000000</td>\n",
       "      <td>0.000000</td>\n",
       "      <td>0.000000</td>\n",
       "      <td>0.000000</td>\n",
       "      <td>0.000000</td>\n",
       "    </tr>\n",
       "    <tr>\n",
       "      <th>50%</th>\n",
       "      <td>655.000000</td>\n",
       "      <td>0.000000</td>\n",
       "      <td>26.000000</td>\n",
       "      <td>0.000000</td>\n",
       "      <td>-1.900617e-01</td>\n",
       "      <td>-6.828521e-01</td>\n",
       "      <td>0.000000</td>\n",
       "      <td>1.000000</td>\n",
       "      <td>0.000000</td>\n",
       "      <td>0.000000</td>\n",
       "      <td>1.000000</td>\n",
       "      <td>0.000000</td>\n",
       "      <td>0.000000</td>\n",
       "      <td>0.000000</td>\n",
       "      <td>0.000000</td>\n",
       "      <td>0.000000</td>\n",
       "      <td>0.000000</td>\n",
       "      <td>0.000000</td>\n",
       "      <td>0.000000</td>\n",
       "      <td>1.000000</td>\n",
       "      <td>0.000000</td>\n",
       "      <td>0.000000</td>\n",
       "      <td>0.000000</td>\n",
       "      <td>0.000000</td>\n",
       "      <td>0.000000</td>\n",
       "      <td>0.000000</td>\n",
       "      <td>0.000000</td>\n",
       "      <td>0.000000</td>\n",
       "      <td>0.000000</td>\n",
       "      <td>0.000000</td>\n",
       "      <td>0.000000</td>\n",
       "      <td>0.000000</td>\n",
       "      <td>0.000000</td>\n",
       "      <td>0.000000</td>\n",
       "      <td>0.000000</td>\n",
       "      <td>0.000000</td>\n",
       "      <td>0.000000</td>\n",
       "      <td>0.000000</td>\n",
       "      <td>0.000000</td>\n",
       "      <td>0.000000</td>\n",
       "      <td>0.000000</td>\n",
       "      <td>0.000000</td>\n",
       "      <td>0.000000</td>\n",
       "      <td>0.000000</td>\n",
       "      <td>0.000000</td>\n",
       "      <td>0.000000</td>\n",
       "      <td>0.000000</td>\n",
       "      <td>0.000000</td>\n",
       "      <td>0.000000</td>\n",
       "      <td>0.000000</td>\n",
       "      <td>0.000000</td>\n",
       "      <td>0.000000</td>\n",
       "      <td>0.000000</td>\n",
       "      <td>0.000000</td>\n",
       "      <td>0.000000</td>\n",
       "      <td>1.000000</td>\n",
       "      <td>0.000000</td>\n",
       "      <td>0.000000</td>\n",
       "      <td>1.000000</td>\n",
       "      <td>0.000000</td>\n",
       "      <td>0.000000</td>\n",
       "      <td>0.000000</td>\n",
       "      <td>1.000000</td>\n",
       "      <td>1.000000</td>\n",
       "    </tr>\n",
       "    <tr>\n",
       "      <th>75%</th>\n",
       "      <td>982.000000</td>\n",
       "      <td>1.000000</td>\n",
       "      <td>37.000000</td>\n",
       "      <td>0.000000</td>\n",
       "      <td>5.718695e-01</td>\n",
       "      <td>1.379985e+00</td>\n",
       "      <td>0.000000</td>\n",
       "      <td>1.000000</td>\n",
       "      <td>0.000000</td>\n",
       "      <td>0.000000</td>\n",
       "      <td>1.000000</td>\n",
       "      <td>0.000000</td>\n",
       "      <td>0.000000</td>\n",
       "      <td>0.000000</td>\n",
       "      <td>0.000000</td>\n",
       "      <td>0.000000</td>\n",
       "      <td>0.000000</td>\n",
       "      <td>0.000000</td>\n",
       "      <td>0.000000</td>\n",
       "      <td>1.000000</td>\n",
       "      <td>0.000000</td>\n",
       "      <td>0.000000</td>\n",
       "      <td>0.000000</td>\n",
       "      <td>0.000000</td>\n",
       "      <td>0.000000</td>\n",
       "      <td>0.000000</td>\n",
       "      <td>0.000000</td>\n",
       "      <td>0.000000</td>\n",
       "      <td>0.000000</td>\n",
       "      <td>0.000000</td>\n",
       "      <td>0.000000</td>\n",
       "      <td>0.000000</td>\n",
       "      <td>0.000000</td>\n",
       "      <td>0.000000</td>\n",
       "      <td>0.000000</td>\n",
       "      <td>0.000000</td>\n",
       "      <td>0.000000</td>\n",
       "      <td>0.000000</td>\n",
       "      <td>0.000000</td>\n",
       "      <td>0.000000</td>\n",
       "      <td>0.000000</td>\n",
       "      <td>0.000000</td>\n",
       "      <td>0.000000</td>\n",
       "      <td>0.000000</td>\n",
       "      <td>0.000000</td>\n",
       "      <td>0.000000</td>\n",
       "      <td>0.000000</td>\n",
       "      <td>0.000000</td>\n",
       "      <td>0.000000</td>\n",
       "      <td>0.000000</td>\n",
       "      <td>0.000000</td>\n",
       "      <td>0.000000</td>\n",
       "      <td>0.000000</td>\n",
       "      <td>0.000000</td>\n",
       "      <td>0.000000</td>\n",
       "      <td>1.000000</td>\n",
       "      <td>0.000000</td>\n",
       "      <td>0.000000</td>\n",
       "      <td>1.000000</td>\n",
       "      <td>0.000000</td>\n",
       "      <td>1.000000</td>\n",
       "      <td>0.000000</td>\n",
       "      <td>1.000000</td>\n",
       "      <td>1.000000</td>\n",
       "    </tr>\n",
       "    <tr>\n",
       "      <th>max</th>\n",
       "      <td>1309.000000</td>\n",
       "      <td>1.000000</td>\n",
       "      <td>80.000000</td>\n",
       "      <td>9.000000</td>\n",
       "      <td>2.819634e+00</td>\n",
       "      <td>1.773512e+00</td>\n",
       "      <td>1.000000</td>\n",
       "      <td>1.000000</td>\n",
       "      <td>1.000000</td>\n",
       "      <td>1.000000</td>\n",
       "      <td>1.000000</td>\n",
       "      <td>1.000000</td>\n",
       "      <td>1.000000</td>\n",
       "      <td>1.000000</td>\n",
       "      <td>1.000000</td>\n",
       "      <td>1.000000</td>\n",
       "      <td>1.000000</td>\n",
       "      <td>1.000000</td>\n",
       "      <td>1.000000</td>\n",
       "      <td>1.000000</td>\n",
       "      <td>1.000000</td>\n",
       "      <td>1.000000</td>\n",
       "      <td>1.000000</td>\n",
       "      <td>1.000000</td>\n",
       "      <td>1.000000</td>\n",
       "      <td>1.000000</td>\n",
       "      <td>1.000000</td>\n",
       "      <td>1.000000</td>\n",
       "      <td>1.000000</td>\n",
       "      <td>1.000000</td>\n",
       "      <td>1.000000</td>\n",
       "      <td>1.000000</td>\n",
       "      <td>1.000000</td>\n",
       "      <td>1.000000</td>\n",
       "      <td>1.000000</td>\n",
       "      <td>1.000000</td>\n",
       "      <td>1.000000</td>\n",
       "      <td>1.000000</td>\n",
       "      <td>1.000000</td>\n",
       "      <td>1.000000</td>\n",
       "      <td>1.000000</td>\n",
       "      <td>1.000000</td>\n",
       "      <td>1.000000</td>\n",
       "      <td>1.000000</td>\n",
       "      <td>1.000000</td>\n",
       "      <td>1.000000</td>\n",
       "      <td>1.000000</td>\n",
       "      <td>1.000000</td>\n",
       "      <td>1.000000</td>\n",
       "      <td>1.000000</td>\n",
       "      <td>1.000000</td>\n",
       "      <td>1.000000</td>\n",
       "      <td>1.000000</td>\n",
       "      <td>1.000000</td>\n",
       "      <td>1.000000</td>\n",
       "      <td>1.000000</td>\n",
       "      <td>1.000000</td>\n",
       "      <td>1.000000</td>\n",
       "      <td>1.000000</td>\n",
       "      <td>1.000000</td>\n",
       "      <td>1.000000</td>\n",
       "      <td>1.000000</td>\n",
       "      <td>1.000000</td>\n",
       "      <td>1.000000</td>\n",
       "    </tr>\n",
       "  </tbody>\n",
       "</table>\n",
       "</div>"
      ],
      "text/plain": [
       "       PassengerId    Survived          Age        Parch  Fare_transformed  \\\n",
       "count  1309.000000  891.000000  1309.000000  1309.000000      1.309000e+03   \n",
       "mean    655.000000    0.383838    29.179656     0.385027      2.297415e-16   \n",
       "std     378.020061    0.486592    13.269138     0.865560      1.000382e+00   \n",
       "min       1.000000    0.000000     0.170000     0.000000     -3.832596e+00   \n",
       "25%     328.000000    0.000000    22.000000     0.000000     -8.158919e-01   \n",
       "50%     655.000000    0.000000    26.000000     0.000000     -1.900617e-01   \n",
       "75%     982.000000    1.000000    37.000000     0.000000      5.718695e-01   \n",
       "max    1309.000000    1.000000    80.000000     9.000000      2.819634e+00   \n",
       "\n",
       "           Sib_norm        Pcl_2        Pcl_3   Fam_Couple  Fam_LargeFam  \\\n",
       "count  1.309000e+03  1309.000000  1309.000000  1309.000000   1309.000000   \n",
       "mean  -3.740324e-16     0.211612     0.541635     0.179526      0.048128   \n",
       "std    1.000382e+00     0.408607     0.498454     0.383939      0.214119   \n",
       "min   -6.828521e-01     0.000000     0.000000     0.000000      0.000000   \n",
       "25%   -6.828521e-01     0.000000     0.000000     0.000000      0.000000   \n",
       "50%   -6.828521e-01     0.000000     1.000000     0.000000      0.000000   \n",
       "75%    1.379985e+00     0.000000     1.000000     0.000000      0.000000   \n",
       "max    1.773512e+00     1.000000     1.000000     1.000000      1.000000   \n",
       "\n",
       "        Fam_Single  Fam_SmallFam      Cabin_B      Cabin_C      Cabin_D  \\\n",
       "count  1309.000000   1309.000000  1309.000000  1309.000000  1309.000000   \n",
       "mean      0.603514      0.154316     0.051948     0.079450     0.035141   \n",
       "std       0.489354      0.361390     0.222007     0.270543     0.184207   \n",
       "min       0.000000      0.000000     0.000000     0.000000     0.000000   \n",
       "25%       0.000000      0.000000     0.000000     0.000000     0.000000   \n",
       "50%       1.000000      0.000000     0.000000     0.000000     0.000000   \n",
       "75%       1.000000      0.000000     0.000000     0.000000     0.000000   \n",
       "max       1.000000      1.000000     1.000000     1.000000     1.000000   \n",
       "\n",
       "           Cabin_E      Cabin_F      Cabin_G      Cabin_T      Cabin_X  \\\n",
       "count  1309.000000  1309.000000  1309.000000  1309.000000  1309.000000   \n",
       "mean      0.032086     0.016043     0.003820     0.000764     0.763942   \n",
       "std       0.176295     0.125688     0.061709     0.027639     0.424821   \n",
       "min       0.000000     0.000000     0.000000     0.000000     0.000000   \n",
       "25%       0.000000     0.000000     0.000000     0.000000     1.000000   \n",
       "50%       0.000000     0.000000     0.000000     0.000000     1.000000   \n",
       "75%       0.000000     0.000000     0.000000     0.000000     1.000000   \n",
       "max       1.000000     1.000000     1.000000     1.000000     1.000000   \n",
       "\n",
       "              T_A4         T_A5        T_AQ3        T_AQ4         T_AS  \\\n",
       "count  1309.000000  1309.000000  1309.000000  1309.000000  1309.000000   \n",
       "mean      0.007639     0.021390     0.000764     0.000764     0.000764   \n",
       "std       0.087103     0.144737     0.027639     0.027639     0.027639   \n",
       "min       0.000000     0.000000     0.000000     0.000000     0.000000   \n",
       "25%       0.000000     0.000000     0.000000     0.000000     0.000000   \n",
       "50%       0.000000     0.000000     0.000000     0.000000     0.000000   \n",
       "75%       0.000000     0.000000     0.000000     0.000000     0.000000   \n",
       "max       1.000000     1.000000     1.000000     1.000000     1.000000   \n",
       "\n",
       "               T_C         T_CA    T_CASOTON         T_FC        T_FCC  \\\n",
       "count  1309.000000  1309.000000  1309.000000  1309.000000  1309.000000   \n",
       "mean      0.006112     0.051948     0.000764     0.002292     0.006875   \n",
       "std       0.077967     0.222007     0.027639     0.047836     0.082665   \n",
       "min       0.000000     0.000000     0.000000     0.000000     0.000000   \n",
       "25%       0.000000     0.000000     0.000000     0.000000     0.000000   \n",
       "50%       0.000000     0.000000     0.000000     0.000000     0.000000   \n",
       "75%       0.000000     0.000000     0.000000     0.000000     0.000000   \n",
       "max       1.000000     1.000000     1.000000     1.000000     1.000000   \n",
       "\n",
       "              T_Fa       T_LINE         T_LP         T_PC         T_PP  \\\n",
       "count  1309.000000  1309.000000  1309.000000  1309.000000  1309.000000   \n",
       "mean      0.000764     0.003056     0.000764     0.070283     0.003056   \n",
       "std       0.027639     0.055216     0.027639     0.255720     0.055216   \n",
       "min       0.000000     0.000000     0.000000     0.000000     0.000000   \n",
       "25%       0.000000     0.000000     0.000000     0.000000     0.000000   \n",
       "50%       0.000000     0.000000     0.000000     0.000000     0.000000   \n",
       "75%       0.000000     0.000000     0.000000     0.000000     0.000000   \n",
       "max       1.000000     1.000000     1.000000     1.000000     1.000000   \n",
       "\n",
       "             T_PPP         T_SC       T_SCA3       T_SCA4       T_SCAH  \\\n",
       "count  1309.000000  1309.000000  1309.000000  1309.000000  1309.000000   \n",
       "mean      0.001528     0.001528     0.000764     0.001528     0.003820   \n",
       "std       0.039073     0.039073     0.027639     0.039073     0.061709   \n",
       "min       0.000000     0.000000     0.000000     0.000000     0.000000   \n",
       "25%       0.000000     0.000000     0.000000     0.000000     0.000000   \n",
       "50%       0.000000     0.000000     0.000000     0.000000     0.000000   \n",
       "75%       0.000000     0.000000     0.000000     0.000000     0.000000   \n",
       "max       1.000000     1.000000     1.000000     1.000000     1.000000   \n",
       "\n",
       "            T_SCOW    T_SCPARIS    T_SCParis        T_SOC        T_SOP  \\\n",
       "count  1309.000000  1309.000000  1309.000000  1309.000000  1309.000000   \n",
       "mean      0.000764     0.010695     0.003820     0.006112     0.000764   \n",
       "std       0.027639     0.102902     0.061709     0.077967     0.027639   \n",
       "min       0.000000     0.000000     0.000000     0.000000     0.000000   \n",
       "25%       0.000000     0.000000     0.000000     0.000000     0.000000   \n",
       "50%       0.000000     0.000000     0.000000     0.000000     0.000000   \n",
       "75%       0.000000     0.000000     0.000000     0.000000     0.000000   \n",
       "max       1.000000     1.000000     1.000000     1.000000     1.000000   \n",
       "\n",
       "            T_SOPP    T_SOTONO2    T_SOTONOQ         T_SP      T_STONO  \\\n",
       "count  1309.000000  1309.000000  1309.000000  1309.000000  1309.000000   \n",
       "mean      0.005348     0.002292     0.018335     0.000764     0.010695   \n",
       "std       0.072959     0.047836     0.134210     0.027639     0.102902   \n",
       "min       0.000000     0.000000     0.000000     0.000000     0.000000   \n",
       "25%       0.000000     0.000000     0.000000     0.000000     0.000000   \n",
       "50%       0.000000     0.000000     0.000000     0.000000     0.000000   \n",
       "75%       0.000000     0.000000     0.000000     0.000000     0.000000   \n",
       "max       1.000000     1.000000     1.000000     1.000000     1.000000   \n",
       "\n",
       "          T_STONO2     T_STONOQ       T_SWPP         T_WC        T_WEP  \\\n",
       "count  1309.000000  1309.000000  1309.000000  1309.000000  1309.000000   \n",
       "mean      0.005348     0.000764     0.001528     0.011459     0.003056   \n",
       "std       0.072959     0.027639     0.039073     0.106473     0.055216   \n",
       "min       0.000000     0.000000     0.000000     0.000000     0.000000   \n",
       "25%       0.000000     0.000000     0.000000     0.000000     0.000000   \n",
       "50%       0.000000     0.000000     0.000000     0.000000     0.000000   \n",
       "75%       0.000000     0.000000     0.000000     0.000000     0.000000   \n",
       "max       1.000000     1.000000     1.000000     1.000000     1.000000   \n",
       "\n",
       "               T_X      Title_2      Title_3      Title_4      Title_5  \\\n",
       "count  1309.000000  1309.000000  1309.000000  1309.000000  1309.000000   \n",
       "mean      0.731092     0.010695     0.001528     0.578304     0.046600   \n",
       "std       0.443561     0.102902     0.039073     0.494019     0.210862   \n",
       "min       0.000000     0.000000     0.000000     0.000000     0.000000   \n",
       "25%       0.000000     0.000000     0.000000     0.000000     0.000000   \n",
       "50%       1.000000     0.000000     0.000000     1.000000     0.000000   \n",
       "75%       1.000000     0.000000     0.000000     1.000000     0.000000   \n",
       "max       1.000000     1.000000     1.000000     1.000000     1.000000   \n",
       "\n",
       "           Title_6         Em_Q         Em_S     Emb_male  \n",
       "count  1309.000000  1309.000000  1309.000000  1309.000000  \n",
       "mean      0.353705     0.093965     0.699771     0.644003  \n",
       "std       0.478302     0.291891     0.458533     0.478997  \n",
       "min       0.000000     0.000000     0.000000     0.000000  \n",
       "25%       0.000000     0.000000     0.000000     0.000000  \n",
       "50%       0.000000     0.000000     1.000000     1.000000  \n",
       "75%       1.000000     0.000000     1.000000     1.000000  \n",
       "max       1.000000     1.000000     1.000000     1.000000  "
      ]
     },
     "execution_count": 74,
     "metadata": {},
     "output_type": "execute_result"
    }
   ],
   "source": [
    "dataset.describe()\n",
    "#Mean std of Age is differnet from the remaining all the features"
   ]
  },
  {
   "cell_type": "code",
   "execution_count": 75,
   "id": "93dc9e3b",
   "metadata": {
    "execution": {
     "iopub.execute_input": "2021-11-11T09:51:03.712075Z",
     "iopub.status.busy": "2021-11-11T09:51:03.711445Z",
     "iopub.status.idle": "2021-11-11T09:51:03.719070Z",
     "shell.execute_reply": "2021-11-11T09:51:03.719580Z",
     "shell.execute_reply.started": "2021-11-11T08:56:42.080705Z"
    },
    "papermill": {
     "duration": 0.119564,
     "end_time": "2021-11-11T09:51:03.719759",
     "exception": false,
     "start_time": "2021-11-11T09:51:03.600195",
     "status": "completed"
    },
    "tags": []
   },
   "outputs": [],
   "source": [
    "#Apply standard scalar to Age to tranform\n",
    "from sklearn.preprocessing import StandardScaler \n",
    "sc = StandardScaler()\n",
    "dataset['Age'] = sc.fit_transform(pd.DataFrame(dataset['Age']))"
   ]
  },
  {
   "cell_type": "code",
   "execution_count": 76,
   "id": "f071428f",
   "metadata": {
    "execution": {
     "iopub.execute_input": "2021-11-11T09:51:03.940451Z",
     "iopub.status.busy": "2021-11-11T09:51:03.939860Z",
     "iopub.status.idle": "2021-11-11T09:51:04.107476Z",
     "shell.execute_reply": "2021-11-11T09:51:04.107939Z",
     "shell.execute_reply.started": "2021-11-11T08:56:42.091451Z"
    },
    "papermill": {
     "duration": 0.278893,
     "end_time": "2021-11-11T09:51:04.108105",
     "exception": false,
     "start_time": "2021-11-11T09:51:03.829212",
     "status": "completed"
    },
    "tags": []
   },
   "outputs": [
    {
     "data": {
      "text/html": [
       "<div>\n",
       "<style scoped>\n",
       "    .dataframe tbody tr th:only-of-type {\n",
       "        vertical-align: middle;\n",
       "    }\n",
       "\n",
       "    .dataframe tbody tr th {\n",
       "        vertical-align: top;\n",
       "    }\n",
       "\n",
       "    .dataframe thead th {\n",
       "        text-align: right;\n",
       "    }\n",
       "</style>\n",
       "<table border=\"1\" class=\"dataframe\">\n",
       "  <thead>\n",
       "    <tr style=\"text-align: right;\">\n",
       "      <th></th>\n",
       "      <th>PassengerId</th>\n",
       "      <th>Survived</th>\n",
       "      <th>Age</th>\n",
       "      <th>Parch</th>\n",
       "      <th>Fare_transformed</th>\n",
       "      <th>Sib_norm</th>\n",
       "      <th>Pcl_2</th>\n",
       "      <th>Pcl_3</th>\n",
       "      <th>Fam_Couple</th>\n",
       "      <th>Fam_LargeFam</th>\n",
       "      <th>Fam_Single</th>\n",
       "      <th>Fam_SmallFam</th>\n",
       "      <th>Cabin_B</th>\n",
       "      <th>Cabin_C</th>\n",
       "      <th>Cabin_D</th>\n",
       "      <th>Cabin_E</th>\n",
       "      <th>Cabin_F</th>\n",
       "      <th>Cabin_G</th>\n",
       "      <th>Cabin_T</th>\n",
       "      <th>Cabin_X</th>\n",
       "      <th>T_A4</th>\n",
       "      <th>T_A5</th>\n",
       "      <th>T_AQ3</th>\n",
       "      <th>T_AQ4</th>\n",
       "      <th>T_AS</th>\n",
       "      <th>T_C</th>\n",
       "      <th>T_CA</th>\n",
       "      <th>T_CASOTON</th>\n",
       "      <th>T_FC</th>\n",
       "      <th>T_FCC</th>\n",
       "      <th>T_Fa</th>\n",
       "      <th>T_LINE</th>\n",
       "      <th>T_LP</th>\n",
       "      <th>T_PC</th>\n",
       "      <th>T_PP</th>\n",
       "      <th>T_PPP</th>\n",
       "      <th>T_SC</th>\n",
       "      <th>T_SCA3</th>\n",
       "      <th>T_SCA4</th>\n",
       "      <th>T_SCAH</th>\n",
       "      <th>T_SCOW</th>\n",
       "      <th>T_SCPARIS</th>\n",
       "      <th>T_SCParis</th>\n",
       "      <th>T_SOC</th>\n",
       "      <th>T_SOP</th>\n",
       "      <th>T_SOPP</th>\n",
       "      <th>T_SOTONO2</th>\n",
       "      <th>T_SOTONOQ</th>\n",
       "      <th>T_SP</th>\n",
       "      <th>T_STONO</th>\n",
       "      <th>T_STONO2</th>\n",
       "      <th>T_STONOQ</th>\n",
       "      <th>T_SWPP</th>\n",
       "      <th>T_WC</th>\n",
       "      <th>T_WEP</th>\n",
       "      <th>T_X</th>\n",
       "      <th>Title_2</th>\n",
       "      <th>Title_3</th>\n",
       "      <th>Title_4</th>\n",
       "      <th>Title_5</th>\n",
       "      <th>Title_6</th>\n",
       "      <th>Em_Q</th>\n",
       "      <th>Em_S</th>\n",
       "      <th>Emb_male</th>\n",
       "    </tr>\n",
       "  </thead>\n",
       "  <tbody>\n",
       "    <tr>\n",
       "      <th>count</th>\n",
       "      <td>1309.000000</td>\n",
       "      <td>891.000000</td>\n",
       "      <td>1.309000e+03</td>\n",
       "      <td>1309.000000</td>\n",
       "      <td>1.309000e+03</td>\n",
       "      <td>1.309000e+03</td>\n",
       "      <td>1309.000000</td>\n",
       "      <td>1309.000000</td>\n",
       "      <td>1309.000000</td>\n",
       "      <td>1309.000000</td>\n",
       "      <td>1309.000000</td>\n",
       "      <td>1309.000000</td>\n",
       "      <td>1309.000000</td>\n",
       "      <td>1309.000000</td>\n",
       "      <td>1309.000000</td>\n",
       "      <td>1309.000000</td>\n",
       "      <td>1309.000000</td>\n",
       "      <td>1309.000000</td>\n",
       "      <td>1309.000000</td>\n",
       "      <td>1309.000000</td>\n",
       "      <td>1309.000000</td>\n",
       "      <td>1309.000000</td>\n",
       "      <td>1309.000000</td>\n",
       "      <td>1309.000000</td>\n",
       "      <td>1309.000000</td>\n",
       "      <td>1309.000000</td>\n",
       "      <td>1309.000000</td>\n",
       "      <td>1309.000000</td>\n",
       "      <td>1309.000000</td>\n",
       "      <td>1309.000000</td>\n",
       "      <td>1309.000000</td>\n",
       "      <td>1309.000000</td>\n",
       "      <td>1309.000000</td>\n",
       "      <td>1309.000000</td>\n",
       "      <td>1309.000000</td>\n",
       "      <td>1309.000000</td>\n",
       "      <td>1309.000000</td>\n",
       "      <td>1309.000000</td>\n",
       "      <td>1309.000000</td>\n",
       "      <td>1309.000000</td>\n",
       "      <td>1309.000000</td>\n",
       "      <td>1309.000000</td>\n",
       "      <td>1309.000000</td>\n",
       "      <td>1309.000000</td>\n",
       "      <td>1309.000000</td>\n",
       "      <td>1309.000000</td>\n",
       "      <td>1309.000000</td>\n",
       "      <td>1309.000000</td>\n",
       "      <td>1309.000000</td>\n",
       "      <td>1309.000000</td>\n",
       "      <td>1309.000000</td>\n",
       "      <td>1309.000000</td>\n",
       "      <td>1309.000000</td>\n",
       "      <td>1309.000000</td>\n",
       "      <td>1309.000000</td>\n",
       "      <td>1309.000000</td>\n",
       "      <td>1309.000000</td>\n",
       "      <td>1309.000000</td>\n",
       "      <td>1309.000000</td>\n",
       "      <td>1309.000000</td>\n",
       "      <td>1309.000000</td>\n",
       "      <td>1309.000000</td>\n",
       "      <td>1309.000000</td>\n",
       "      <td>1309.000000</td>\n",
       "    </tr>\n",
       "    <tr>\n",
       "      <th>mean</th>\n",
       "      <td>655.000000</td>\n",
       "      <td>0.383838</td>\n",
       "      <td>1.249319e-16</td>\n",
       "      <td>0.385027</td>\n",
       "      <td>2.297415e-16</td>\n",
       "      <td>-3.740324e-16</td>\n",
       "      <td>0.211612</td>\n",
       "      <td>0.541635</td>\n",
       "      <td>0.179526</td>\n",
       "      <td>0.048128</td>\n",
       "      <td>0.603514</td>\n",
       "      <td>0.154316</td>\n",
       "      <td>0.051948</td>\n",
       "      <td>0.079450</td>\n",
       "      <td>0.035141</td>\n",
       "      <td>0.032086</td>\n",
       "      <td>0.016043</td>\n",
       "      <td>0.003820</td>\n",
       "      <td>0.000764</td>\n",
       "      <td>0.763942</td>\n",
       "      <td>0.007639</td>\n",
       "      <td>0.021390</td>\n",
       "      <td>0.000764</td>\n",
       "      <td>0.000764</td>\n",
       "      <td>0.000764</td>\n",
       "      <td>0.006112</td>\n",
       "      <td>0.051948</td>\n",
       "      <td>0.000764</td>\n",
       "      <td>0.002292</td>\n",
       "      <td>0.006875</td>\n",
       "      <td>0.000764</td>\n",
       "      <td>0.003056</td>\n",
       "      <td>0.000764</td>\n",
       "      <td>0.070283</td>\n",
       "      <td>0.003056</td>\n",
       "      <td>0.001528</td>\n",
       "      <td>0.001528</td>\n",
       "      <td>0.000764</td>\n",
       "      <td>0.001528</td>\n",
       "      <td>0.003820</td>\n",
       "      <td>0.000764</td>\n",
       "      <td>0.010695</td>\n",
       "      <td>0.003820</td>\n",
       "      <td>0.006112</td>\n",
       "      <td>0.000764</td>\n",
       "      <td>0.005348</td>\n",
       "      <td>0.002292</td>\n",
       "      <td>0.018335</td>\n",
       "      <td>0.000764</td>\n",
       "      <td>0.010695</td>\n",
       "      <td>0.005348</td>\n",
       "      <td>0.000764</td>\n",
       "      <td>0.001528</td>\n",
       "      <td>0.011459</td>\n",
       "      <td>0.003056</td>\n",
       "      <td>0.731092</td>\n",
       "      <td>0.010695</td>\n",
       "      <td>0.001528</td>\n",
       "      <td>0.578304</td>\n",
       "      <td>0.046600</td>\n",
       "      <td>0.353705</td>\n",
       "      <td>0.093965</td>\n",
       "      <td>0.699771</td>\n",
       "      <td>0.644003</td>\n",
       "    </tr>\n",
       "    <tr>\n",
       "      <th>std</th>\n",
       "      <td>378.020061</td>\n",
       "      <td>0.486592</td>\n",
       "      <td>1.000382e+00</td>\n",
       "      <td>0.865560</td>\n",
       "      <td>1.000382e+00</td>\n",
       "      <td>1.000382e+00</td>\n",
       "      <td>0.408607</td>\n",
       "      <td>0.498454</td>\n",
       "      <td>0.383939</td>\n",
       "      <td>0.214119</td>\n",
       "      <td>0.489354</td>\n",
       "      <td>0.361390</td>\n",
       "      <td>0.222007</td>\n",
       "      <td>0.270543</td>\n",
       "      <td>0.184207</td>\n",
       "      <td>0.176295</td>\n",
       "      <td>0.125688</td>\n",
       "      <td>0.061709</td>\n",
       "      <td>0.027639</td>\n",
       "      <td>0.424821</td>\n",
       "      <td>0.087103</td>\n",
       "      <td>0.144737</td>\n",
       "      <td>0.027639</td>\n",
       "      <td>0.027639</td>\n",
       "      <td>0.027639</td>\n",
       "      <td>0.077967</td>\n",
       "      <td>0.222007</td>\n",
       "      <td>0.027639</td>\n",
       "      <td>0.047836</td>\n",
       "      <td>0.082665</td>\n",
       "      <td>0.027639</td>\n",
       "      <td>0.055216</td>\n",
       "      <td>0.027639</td>\n",
       "      <td>0.255720</td>\n",
       "      <td>0.055216</td>\n",
       "      <td>0.039073</td>\n",
       "      <td>0.039073</td>\n",
       "      <td>0.027639</td>\n",
       "      <td>0.039073</td>\n",
       "      <td>0.061709</td>\n",
       "      <td>0.027639</td>\n",
       "      <td>0.102902</td>\n",
       "      <td>0.061709</td>\n",
       "      <td>0.077967</td>\n",
       "      <td>0.027639</td>\n",
       "      <td>0.072959</td>\n",
       "      <td>0.047836</td>\n",
       "      <td>0.134210</td>\n",
       "      <td>0.027639</td>\n",
       "      <td>0.102902</td>\n",
       "      <td>0.072959</td>\n",
       "      <td>0.027639</td>\n",
       "      <td>0.039073</td>\n",
       "      <td>0.106473</td>\n",
       "      <td>0.055216</td>\n",
       "      <td>0.443561</td>\n",
       "      <td>0.102902</td>\n",
       "      <td>0.039073</td>\n",
       "      <td>0.494019</td>\n",
       "      <td>0.210862</td>\n",
       "      <td>0.478302</td>\n",
       "      <td>0.291891</td>\n",
       "      <td>0.458533</td>\n",
       "      <td>0.478997</td>\n",
       "    </tr>\n",
       "    <tr>\n",
       "      <th>min</th>\n",
       "      <td>1.000000</td>\n",
       "      <td>0.000000</td>\n",
       "      <td>-2.187086e+00</td>\n",
       "      <td>0.000000</td>\n",
       "      <td>-3.832596e+00</td>\n",
       "      <td>-6.828521e-01</td>\n",
       "      <td>0.000000</td>\n",
       "      <td>0.000000</td>\n",
       "      <td>0.000000</td>\n",
       "      <td>0.000000</td>\n",
       "      <td>0.000000</td>\n",
       "      <td>0.000000</td>\n",
       "      <td>0.000000</td>\n",
       "      <td>0.000000</td>\n",
       "      <td>0.000000</td>\n",
       "      <td>0.000000</td>\n",
       "      <td>0.000000</td>\n",
       "      <td>0.000000</td>\n",
       "      <td>0.000000</td>\n",
       "      <td>0.000000</td>\n",
       "      <td>0.000000</td>\n",
       "      <td>0.000000</td>\n",
       "      <td>0.000000</td>\n",
       "      <td>0.000000</td>\n",
       "      <td>0.000000</td>\n",
       "      <td>0.000000</td>\n",
       "      <td>0.000000</td>\n",
       "      <td>0.000000</td>\n",
       "      <td>0.000000</td>\n",
       "      <td>0.000000</td>\n",
       "      <td>0.000000</td>\n",
       "      <td>0.000000</td>\n",
       "      <td>0.000000</td>\n",
       "      <td>0.000000</td>\n",
       "      <td>0.000000</td>\n",
       "      <td>0.000000</td>\n",
       "      <td>0.000000</td>\n",
       "      <td>0.000000</td>\n",
       "      <td>0.000000</td>\n",
       "      <td>0.000000</td>\n",
       "      <td>0.000000</td>\n",
       "      <td>0.000000</td>\n",
       "      <td>0.000000</td>\n",
       "      <td>0.000000</td>\n",
       "      <td>0.000000</td>\n",
       "      <td>0.000000</td>\n",
       "      <td>0.000000</td>\n",
       "      <td>0.000000</td>\n",
       "      <td>0.000000</td>\n",
       "      <td>0.000000</td>\n",
       "      <td>0.000000</td>\n",
       "      <td>0.000000</td>\n",
       "      <td>0.000000</td>\n",
       "      <td>0.000000</td>\n",
       "      <td>0.000000</td>\n",
       "      <td>0.000000</td>\n",
       "      <td>0.000000</td>\n",
       "      <td>0.000000</td>\n",
       "      <td>0.000000</td>\n",
       "      <td>0.000000</td>\n",
       "      <td>0.000000</td>\n",
       "      <td>0.000000</td>\n",
       "      <td>0.000000</td>\n",
       "      <td>0.000000</td>\n",
       "    </tr>\n",
       "    <tr>\n",
       "      <th>25%</th>\n",
       "      <td>328.000000</td>\n",
       "      <td>0.000000</td>\n",
       "      <td>-5.412861e-01</td>\n",
       "      <td>0.000000</td>\n",
       "      <td>-8.158919e-01</td>\n",
       "      <td>-6.828521e-01</td>\n",
       "      <td>0.000000</td>\n",
       "      <td>0.000000</td>\n",
       "      <td>0.000000</td>\n",
       "      <td>0.000000</td>\n",
       "      <td>0.000000</td>\n",
       "      <td>0.000000</td>\n",
       "      <td>0.000000</td>\n",
       "      <td>0.000000</td>\n",
       "      <td>0.000000</td>\n",
       "      <td>0.000000</td>\n",
       "      <td>0.000000</td>\n",
       "      <td>0.000000</td>\n",
       "      <td>0.000000</td>\n",
       "      <td>1.000000</td>\n",
       "      <td>0.000000</td>\n",
       "      <td>0.000000</td>\n",
       "      <td>0.000000</td>\n",
       "      <td>0.000000</td>\n",
       "      <td>0.000000</td>\n",
       "      <td>0.000000</td>\n",
       "      <td>0.000000</td>\n",
       "      <td>0.000000</td>\n",
       "      <td>0.000000</td>\n",
       "      <td>0.000000</td>\n",
       "      <td>0.000000</td>\n",
       "      <td>0.000000</td>\n",
       "      <td>0.000000</td>\n",
       "      <td>0.000000</td>\n",
       "      <td>0.000000</td>\n",
       "      <td>0.000000</td>\n",
       "      <td>0.000000</td>\n",
       "      <td>0.000000</td>\n",
       "      <td>0.000000</td>\n",
       "      <td>0.000000</td>\n",
       "      <td>0.000000</td>\n",
       "      <td>0.000000</td>\n",
       "      <td>0.000000</td>\n",
       "      <td>0.000000</td>\n",
       "      <td>0.000000</td>\n",
       "      <td>0.000000</td>\n",
       "      <td>0.000000</td>\n",
       "      <td>0.000000</td>\n",
       "      <td>0.000000</td>\n",
       "      <td>0.000000</td>\n",
       "      <td>0.000000</td>\n",
       "      <td>0.000000</td>\n",
       "      <td>0.000000</td>\n",
       "      <td>0.000000</td>\n",
       "      <td>0.000000</td>\n",
       "      <td>0.000000</td>\n",
       "      <td>0.000000</td>\n",
       "      <td>0.000000</td>\n",
       "      <td>0.000000</td>\n",
       "      <td>0.000000</td>\n",
       "      <td>0.000000</td>\n",
       "      <td>0.000000</td>\n",
       "      <td>0.000000</td>\n",
       "      <td>0.000000</td>\n",
       "    </tr>\n",
       "    <tr>\n",
       "      <th>50%</th>\n",
       "      <td>655.000000</td>\n",
       "      <td>0.000000</td>\n",
       "      <td>-2.397195e-01</td>\n",
       "      <td>0.000000</td>\n",
       "      <td>-1.900617e-01</td>\n",
       "      <td>-6.828521e-01</td>\n",
       "      <td>0.000000</td>\n",
       "      <td>1.000000</td>\n",
       "      <td>0.000000</td>\n",
       "      <td>0.000000</td>\n",
       "      <td>1.000000</td>\n",
       "      <td>0.000000</td>\n",
       "      <td>0.000000</td>\n",
       "      <td>0.000000</td>\n",
       "      <td>0.000000</td>\n",
       "      <td>0.000000</td>\n",
       "      <td>0.000000</td>\n",
       "      <td>0.000000</td>\n",
       "      <td>0.000000</td>\n",
       "      <td>1.000000</td>\n",
       "      <td>0.000000</td>\n",
       "      <td>0.000000</td>\n",
       "      <td>0.000000</td>\n",
       "      <td>0.000000</td>\n",
       "      <td>0.000000</td>\n",
       "      <td>0.000000</td>\n",
       "      <td>0.000000</td>\n",
       "      <td>0.000000</td>\n",
       "      <td>0.000000</td>\n",
       "      <td>0.000000</td>\n",
       "      <td>0.000000</td>\n",
       "      <td>0.000000</td>\n",
       "      <td>0.000000</td>\n",
       "      <td>0.000000</td>\n",
       "      <td>0.000000</td>\n",
       "      <td>0.000000</td>\n",
       "      <td>0.000000</td>\n",
       "      <td>0.000000</td>\n",
       "      <td>0.000000</td>\n",
       "      <td>0.000000</td>\n",
       "      <td>0.000000</td>\n",
       "      <td>0.000000</td>\n",
       "      <td>0.000000</td>\n",
       "      <td>0.000000</td>\n",
       "      <td>0.000000</td>\n",
       "      <td>0.000000</td>\n",
       "      <td>0.000000</td>\n",
       "      <td>0.000000</td>\n",
       "      <td>0.000000</td>\n",
       "      <td>0.000000</td>\n",
       "      <td>0.000000</td>\n",
       "      <td>0.000000</td>\n",
       "      <td>0.000000</td>\n",
       "      <td>0.000000</td>\n",
       "      <td>0.000000</td>\n",
       "      <td>1.000000</td>\n",
       "      <td>0.000000</td>\n",
       "      <td>0.000000</td>\n",
       "      <td>1.000000</td>\n",
       "      <td>0.000000</td>\n",
       "      <td>0.000000</td>\n",
       "      <td>0.000000</td>\n",
       "      <td>1.000000</td>\n",
       "      <td>1.000000</td>\n",
       "    </tr>\n",
       "    <tr>\n",
       "      <th>75%</th>\n",
       "      <td>982.000000</td>\n",
       "      <td>1.000000</td>\n",
       "      <td>5.895886e-01</td>\n",
       "      <td>0.000000</td>\n",
       "      <td>5.718695e-01</td>\n",
       "      <td>1.379985e+00</td>\n",
       "      <td>0.000000</td>\n",
       "      <td>1.000000</td>\n",
       "      <td>0.000000</td>\n",
       "      <td>0.000000</td>\n",
       "      <td>1.000000</td>\n",
       "      <td>0.000000</td>\n",
       "      <td>0.000000</td>\n",
       "      <td>0.000000</td>\n",
       "      <td>0.000000</td>\n",
       "      <td>0.000000</td>\n",
       "      <td>0.000000</td>\n",
       "      <td>0.000000</td>\n",
       "      <td>0.000000</td>\n",
       "      <td>1.000000</td>\n",
       "      <td>0.000000</td>\n",
       "      <td>0.000000</td>\n",
       "      <td>0.000000</td>\n",
       "      <td>0.000000</td>\n",
       "      <td>0.000000</td>\n",
       "      <td>0.000000</td>\n",
       "      <td>0.000000</td>\n",
       "      <td>0.000000</td>\n",
       "      <td>0.000000</td>\n",
       "      <td>0.000000</td>\n",
       "      <td>0.000000</td>\n",
       "      <td>0.000000</td>\n",
       "      <td>0.000000</td>\n",
       "      <td>0.000000</td>\n",
       "      <td>0.000000</td>\n",
       "      <td>0.000000</td>\n",
       "      <td>0.000000</td>\n",
       "      <td>0.000000</td>\n",
       "      <td>0.000000</td>\n",
       "      <td>0.000000</td>\n",
       "      <td>0.000000</td>\n",
       "      <td>0.000000</td>\n",
       "      <td>0.000000</td>\n",
       "      <td>0.000000</td>\n",
       "      <td>0.000000</td>\n",
       "      <td>0.000000</td>\n",
       "      <td>0.000000</td>\n",
       "      <td>0.000000</td>\n",
       "      <td>0.000000</td>\n",
       "      <td>0.000000</td>\n",
       "      <td>0.000000</td>\n",
       "      <td>0.000000</td>\n",
       "      <td>0.000000</td>\n",
       "      <td>0.000000</td>\n",
       "      <td>0.000000</td>\n",
       "      <td>1.000000</td>\n",
       "      <td>0.000000</td>\n",
       "      <td>0.000000</td>\n",
       "      <td>1.000000</td>\n",
       "      <td>0.000000</td>\n",
       "      <td>1.000000</td>\n",
       "      <td>0.000000</td>\n",
       "      <td>1.000000</td>\n",
       "      <td>1.000000</td>\n",
       "    </tr>\n",
       "    <tr>\n",
       "      <th>max</th>\n",
       "      <td>1309.000000</td>\n",
       "      <td>1.000000</td>\n",
       "      <td>3.831429e+00</td>\n",
       "      <td>9.000000</td>\n",
       "      <td>2.819634e+00</td>\n",
       "      <td>1.773512e+00</td>\n",
       "      <td>1.000000</td>\n",
       "      <td>1.000000</td>\n",
       "      <td>1.000000</td>\n",
       "      <td>1.000000</td>\n",
       "      <td>1.000000</td>\n",
       "      <td>1.000000</td>\n",
       "      <td>1.000000</td>\n",
       "      <td>1.000000</td>\n",
       "      <td>1.000000</td>\n",
       "      <td>1.000000</td>\n",
       "      <td>1.000000</td>\n",
       "      <td>1.000000</td>\n",
       "      <td>1.000000</td>\n",
       "      <td>1.000000</td>\n",
       "      <td>1.000000</td>\n",
       "      <td>1.000000</td>\n",
       "      <td>1.000000</td>\n",
       "      <td>1.000000</td>\n",
       "      <td>1.000000</td>\n",
       "      <td>1.000000</td>\n",
       "      <td>1.000000</td>\n",
       "      <td>1.000000</td>\n",
       "      <td>1.000000</td>\n",
       "      <td>1.000000</td>\n",
       "      <td>1.000000</td>\n",
       "      <td>1.000000</td>\n",
       "      <td>1.000000</td>\n",
       "      <td>1.000000</td>\n",
       "      <td>1.000000</td>\n",
       "      <td>1.000000</td>\n",
       "      <td>1.000000</td>\n",
       "      <td>1.000000</td>\n",
       "      <td>1.000000</td>\n",
       "      <td>1.000000</td>\n",
       "      <td>1.000000</td>\n",
       "      <td>1.000000</td>\n",
       "      <td>1.000000</td>\n",
       "      <td>1.000000</td>\n",
       "      <td>1.000000</td>\n",
       "      <td>1.000000</td>\n",
       "      <td>1.000000</td>\n",
       "      <td>1.000000</td>\n",
       "      <td>1.000000</td>\n",
       "      <td>1.000000</td>\n",
       "      <td>1.000000</td>\n",
       "      <td>1.000000</td>\n",
       "      <td>1.000000</td>\n",
       "      <td>1.000000</td>\n",
       "      <td>1.000000</td>\n",
       "      <td>1.000000</td>\n",
       "      <td>1.000000</td>\n",
       "      <td>1.000000</td>\n",
       "      <td>1.000000</td>\n",
       "      <td>1.000000</td>\n",
       "      <td>1.000000</td>\n",
       "      <td>1.000000</td>\n",
       "      <td>1.000000</td>\n",
       "      <td>1.000000</td>\n",
       "    </tr>\n",
       "  </tbody>\n",
       "</table>\n",
       "</div>"
      ],
      "text/plain": [
       "       PassengerId    Survived           Age        Parch  Fare_transformed  \\\n",
       "count  1309.000000  891.000000  1.309000e+03  1309.000000      1.309000e+03   \n",
       "mean    655.000000    0.383838  1.249319e-16     0.385027      2.297415e-16   \n",
       "std     378.020061    0.486592  1.000382e+00     0.865560      1.000382e+00   \n",
       "min       1.000000    0.000000 -2.187086e+00     0.000000     -3.832596e+00   \n",
       "25%     328.000000    0.000000 -5.412861e-01     0.000000     -8.158919e-01   \n",
       "50%     655.000000    0.000000 -2.397195e-01     0.000000     -1.900617e-01   \n",
       "75%     982.000000    1.000000  5.895886e-01     0.000000      5.718695e-01   \n",
       "max    1309.000000    1.000000  3.831429e+00     9.000000      2.819634e+00   \n",
       "\n",
       "           Sib_norm        Pcl_2        Pcl_3   Fam_Couple  Fam_LargeFam  \\\n",
       "count  1.309000e+03  1309.000000  1309.000000  1309.000000   1309.000000   \n",
       "mean  -3.740324e-16     0.211612     0.541635     0.179526      0.048128   \n",
       "std    1.000382e+00     0.408607     0.498454     0.383939      0.214119   \n",
       "min   -6.828521e-01     0.000000     0.000000     0.000000      0.000000   \n",
       "25%   -6.828521e-01     0.000000     0.000000     0.000000      0.000000   \n",
       "50%   -6.828521e-01     0.000000     1.000000     0.000000      0.000000   \n",
       "75%    1.379985e+00     0.000000     1.000000     0.000000      0.000000   \n",
       "max    1.773512e+00     1.000000     1.000000     1.000000      1.000000   \n",
       "\n",
       "        Fam_Single  Fam_SmallFam      Cabin_B      Cabin_C      Cabin_D  \\\n",
       "count  1309.000000   1309.000000  1309.000000  1309.000000  1309.000000   \n",
       "mean      0.603514      0.154316     0.051948     0.079450     0.035141   \n",
       "std       0.489354      0.361390     0.222007     0.270543     0.184207   \n",
       "min       0.000000      0.000000     0.000000     0.000000     0.000000   \n",
       "25%       0.000000      0.000000     0.000000     0.000000     0.000000   \n",
       "50%       1.000000      0.000000     0.000000     0.000000     0.000000   \n",
       "75%       1.000000      0.000000     0.000000     0.000000     0.000000   \n",
       "max       1.000000      1.000000     1.000000     1.000000     1.000000   \n",
       "\n",
       "           Cabin_E      Cabin_F      Cabin_G      Cabin_T      Cabin_X  \\\n",
       "count  1309.000000  1309.000000  1309.000000  1309.000000  1309.000000   \n",
       "mean      0.032086     0.016043     0.003820     0.000764     0.763942   \n",
       "std       0.176295     0.125688     0.061709     0.027639     0.424821   \n",
       "min       0.000000     0.000000     0.000000     0.000000     0.000000   \n",
       "25%       0.000000     0.000000     0.000000     0.000000     1.000000   \n",
       "50%       0.000000     0.000000     0.000000     0.000000     1.000000   \n",
       "75%       0.000000     0.000000     0.000000     0.000000     1.000000   \n",
       "max       1.000000     1.000000     1.000000     1.000000     1.000000   \n",
       "\n",
       "              T_A4         T_A5        T_AQ3        T_AQ4         T_AS  \\\n",
       "count  1309.000000  1309.000000  1309.000000  1309.000000  1309.000000   \n",
       "mean      0.007639     0.021390     0.000764     0.000764     0.000764   \n",
       "std       0.087103     0.144737     0.027639     0.027639     0.027639   \n",
       "min       0.000000     0.000000     0.000000     0.000000     0.000000   \n",
       "25%       0.000000     0.000000     0.000000     0.000000     0.000000   \n",
       "50%       0.000000     0.000000     0.000000     0.000000     0.000000   \n",
       "75%       0.000000     0.000000     0.000000     0.000000     0.000000   \n",
       "max       1.000000     1.000000     1.000000     1.000000     1.000000   \n",
       "\n",
       "               T_C         T_CA    T_CASOTON         T_FC        T_FCC  \\\n",
       "count  1309.000000  1309.000000  1309.000000  1309.000000  1309.000000   \n",
       "mean      0.006112     0.051948     0.000764     0.002292     0.006875   \n",
       "std       0.077967     0.222007     0.027639     0.047836     0.082665   \n",
       "min       0.000000     0.000000     0.000000     0.000000     0.000000   \n",
       "25%       0.000000     0.000000     0.000000     0.000000     0.000000   \n",
       "50%       0.000000     0.000000     0.000000     0.000000     0.000000   \n",
       "75%       0.000000     0.000000     0.000000     0.000000     0.000000   \n",
       "max       1.000000     1.000000     1.000000     1.000000     1.000000   \n",
       "\n",
       "              T_Fa       T_LINE         T_LP         T_PC         T_PP  \\\n",
       "count  1309.000000  1309.000000  1309.000000  1309.000000  1309.000000   \n",
       "mean      0.000764     0.003056     0.000764     0.070283     0.003056   \n",
       "std       0.027639     0.055216     0.027639     0.255720     0.055216   \n",
       "min       0.000000     0.000000     0.000000     0.000000     0.000000   \n",
       "25%       0.000000     0.000000     0.000000     0.000000     0.000000   \n",
       "50%       0.000000     0.000000     0.000000     0.000000     0.000000   \n",
       "75%       0.000000     0.000000     0.000000     0.000000     0.000000   \n",
       "max       1.000000     1.000000     1.000000     1.000000     1.000000   \n",
       "\n",
       "             T_PPP         T_SC       T_SCA3       T_SCA4       T_SCAH  \\\n",
       "count  1309.000000  1309.000000  1309.000000  1309.000000  1309.000000   \n",
       "mean      0.001528     0.001528     0.000764     0.001528     0.003820   \n",
       "std       0.039073     0.039073     0.027639     0.039073     0.061709   \n",
       "min       0.000000     0.000000     0.000000     0.000000     0.000000   \n",
       "25%       0.000000     0.000000     0.000000     0.000000     0.000000   \n",
       "50%       0.000000     0.000000     0.000000     0.000000     0.000000   \n",
       "75%       0.000000     0.000000     0.000000     0.000000     0.000000   \n",
       "max       1.000000     1.000000     1.000000     1.000000     1.000000   \n",
       "\n",
       "            T_SCOW    T_SCPARIS    T_SCParis        T_SOC        T_SOP  \\\n",
       "count  1309.000000  1309.000000  1309.000000  1309.000000  1309.000000   \n",
       "mean      0.000764     0.010695     0.003820     0.006112     0.000764   \n",
       "std       0.027639     0.102902     0.061709     0.077967     0.027639   \n",
       "min       0.000000     0.000000     0.000000     0.000000     0.000000   \n",
       "25%       0.000000     0.000000     0.000000     0.000000     0.000000   \n",
       "50%       0.000000     0.000000     0.000000     0.000000     0.000000   \n",
       "75%       0.000000     0.000000     0.000000     0.000000     0.000000   \n",
       "max       1.000000     1.000000     1.000000     1.000000     1.000000   \n",
       "\n",
       "            T_SOPP    T_SOTONO2    T_SOTONOQ         T_SP      T_STONO  \\\n",
       "count  1309.000000  1309.000000  1309.000000  1309.000000  1309.000000   \n",
       "mean      0.005348     0.002292     0.018335     0.000764     0.010695   \n",
       "std       0.072959     0.047836     0.134210     0.027639     0.102902   \n",
       "min       0.000000     0.000000     0.000000     0.000000     0.000000   \n",
       "25%       0.000000     0.000000     0.000000     0.000000     0.000000   \n",
       "50%       0.000000     0.000000     0.000000     0.000000     0.000000   \n",
       "75%       0.000000     0.000000     0.000000     0.000000     0.000000   \n",
       "max       1.000000     1.000000     1.000000     1.000000     1.000000   \n",
       "\n",
       "          T_STONO2     T_STONOQ       T_SWPP         T_WC        T_WEP  \\\n",
       "count  1309.000000  1309.000000  1309.000000  1309.000000  1309.000000   \n",
       "mean      0.005348     0.000764     0.001528     0.011459     0.003056   \n",
       "std       0.072959     0.027639     0.039073     0.106473     0.055216   \n",
       "min       0.000000     0.000000     0.000000     0.000000     0.000000   \n",
       "25%       0.000000     0.000000     0.000000     0.000000     0.000000   \n",
       "50%       0.000000     0.000000     0.000000     0.000000     0.000000   \n",
       "75%       0.000000     0.000000     0.000000     0.000000     0.000000   \n",
       "max       1.000000     1.000000     1.000000     1.000000     1.000000   \n",
       "\n",
       "               T_X      Title_2      Title_3      Title_4      Title_5  \\\n",
       "count  1309.000000  1309.000000  1309.000000  1309.000000  1309.000000   \n",
       "mean      0.731092     0.010695     0.001528     0.578304     0.046600   \n",
       "std       0.443561     0.102902     0.039073     0.494019     0.210862   \n",
       "min       0.000000     0.000000     0.000000     0.000000     0.000000   \n",
       "25%       0.000000     0.000000     0.000000     0.000000     0.000000   \n",
       "50%       1.000000     0.000000     0.000000     1.000000     0.000000   \n",
       "75%       1.000000     0.000000     0.000000     1.000000     0.000000   \n",
       "max       1.000000     1.000000     1.000000     1.000000     1.000000   \n",
       "\n",
       "           Title_6         Em_Q         Em_S     Emb_male  \n",
       "count  1309.000000  1309.000000  1309.000000  1309.000000  \n",
       "mean      0.353705     0.093965     0.699771     0.644003  \n",
       "std       0.478302     0.291891     0.458533     0.478997  \n",
       "min       0.000000     0.000000     0.000000     0.000000  \n",
       "25%       0.000000     0.000000     0.000000     0.000000  \n",
       "50%       0.000000     0.000000     1.000000     1.000000  \n",
       "75%       1.000000     0.000000     1.000000     1.000000  \n",
       "max       1.000000     1.000000     1.000000     1.000000  "
      ]
     },
     "execution_count": 76,
     "metadata": {},
     "output_type": "execute_result"
    }
   ],
   "source": [
    "dataset.describe()"
   ]
  },
  {
   "cell_type": "markdown",
   "id": "8ecd629a",
   "metadata": {
    "papermill": {
     "duration": 0.112404,
     "end_time": "2021-11-11T09:51:04.332287",
     "exception": false,
     "start_time": "2021-11-11T09:51:04.219883",
     "status": "completed"
    },
    "tags": []
   },
   "source": [
    "# 3. FEATURE SELECTION "
   ]
  },
  {
   "cell_type": "markdown",
   "id": "cbc469bd",
   "metadata": {
    "papermill": {
     "duration": 0.11014,
     "end_time": "2021-11-11T09:51:04.553025",
     "exception": false,
     "start_time": "2021-11-11T09:51:04.442885",
     "status": "completed"
    },
    "tags": []
   },
   "source": [
    "## Drop Irrrelevent Data"
   ]
  },
  {
   "cell_type": "code",
   "execution_count": 77,
   "id": "4151f03e",
   "metadata": {
    "execution": {
     "iopub.execute_input": "2021-11-11T09:51:04.777325Z",
     "iopub.status.busy": "2021-11-11T09:51:04.776664Z",
     "iopub.status.idle": "2021-11-11T09:51:04.781263Z",
     "shell.execute_reply": "2021-11-11T09:51:04.781880Z",
     "shell.execute_reply.started": "2021-11-11T08:56:42.287078Z"
    },
    "papermill": {
     "duration": 0.119056,
     "end_time": "2021-11-11T09:51:04.782059",
     "exception": false,
     "start_time": "2021-11-11T09:51:04.663003",
     "status": "completed"
    },
    "tags": []
   },
   "outputs": [],
   "source": [
    "dataset.drop(labels = [\"PassengerId\"], axis = 1, inplace = True) #drop irrelevent passenger id"
   ]
  },
  {
   "cell_type": "markdown",
   "id": "94ad3b0d",
   "metadata": {
    "papermill": {
     "duration": 0.112997,
     "end_time": "2021-11-11T09:51:05.005249",
     "exception": false,
     "start_time": "2021-11-11T09:51:04.892252",
     "status": "completed"
    },
    "tags": []
   },
   "source": [
    "### PCA"
   ]
  },
  {
   "cell_type": "markdown",
   "id": "8993d6d8",
   "metadata": {
    "papermill": {
     "duration": 0.112439,
     "end_time": "2021-11-11T09:51:05.227752",
     "exception": false,
     "start_time": "2021-11-11T09:51:05.115313",
     "status": "completed"
    },
    "tags": []
   },
   "source": [
    "PCA can be done to reduce the dimensions or number of features"
   ]
  },
  {
   "cell_type": "markdown",
   "id": "f5b2bfb9",
   "metadata": {
    "execution": {
     "iopub.execute_input": "2021-11-11T05:52:25.298563Z",
     "iopub.status.busy": "2021-11-11T05:52:25.298253Z",
     "iopub.status.idle": "2021-11-11T05:52:25.303388Z",
     "shell.execute_reply": "2021-11-11T05:52:25.302385Z",
     "shell.execute_reply.started": "2021-11-11T05:52:25.298515Z"
    },
    "papermill": {
     "duration": 0.113984,
     "end_time": "2021-11-11T09:51:05.452732",
     "exception": false,
     "start_time": "2021-11-11T09:51:05.338748",
     "status": "completed"
    },
    "tags": []
   },
   "source": [
    "# 4.MODEL CREATION"
   ]
  },
  {
   "cell_type": "markdown",
   "id": "6817546d",
   "metadata": {
    "papermill": {
     "duration": 0.114023,
     "end_time": "2021-11-11T09:51:05.679444",
     "exception": false,
     "start_time": "2021-11-11T09:51:05.565421",
     "status": "completed"
    },
    "tags": []
   },
   "source": [
    "\"\"\"\n",
    "1.The steps we are following here is select 10 best classification algorithms and run with default values ,\n",
    "2.Select the best 5 models by checking the score by cross validastion scores\n",
    "3.Then hypertune the best 5 models by selecting the best hyperparameters using GrivSearch\n",
    "4.Use soft voting technique to combine the outputs from all the models (Ensemble model creation) \"\"\""
   ]
  },
  {
   "cell_type": "code",
   "execution_count": 78,
   "id": "9b057dff",
   "metadata": {
    "execution": {
     "iopub.execute_input": "2021-11-11T09:51:05.906990Z",
     "iopub.status.busy": "2021-11-11T09:51:05.906278Z",
     "iopub.status.idle": "2021-11-11T09:51:05.914366Z",
     "shell.execute_reply": "2021-11-11T09:51:05.914866Z",
     "shell.execute_reply.started": "2021-11-11T08:56:42.294153Z"
    },
    "papermill": {
     "duration": 0.125948,
     "end_time": "2021-11-11T09:51:05.915034",
     "exception": false,
     "start_time": "2021-11-11T09:51:05.789086",
     "status": "completed"
    },
    "tags": []
   },
   "outputs": [
    {
     "name": "stderr",
     "output_type": "stream",
     "text": [
      "/opt/conda/lib/python3.7/site-packages/pandas/core/frame.py:4913: SettingWithCopyWarning: \n",
      "A value is trying to be set on a copy of a slice from a DataFrame\n",
      "\n",
      "See the caveats in the documentation: https://pandas.pydata.org/pandas-docs/stable/user_guide/indexing.html#returning-a-view-versus-a-copy\n",
      "  errors=errors,\n"
     ]
    }
   ],
   "source": [
    "\n",
    "\"\"\"Split train and test datas from dataset and delete survived col from test data , \n",
    "   PN:Here test is the data we need to predict for submission , to the test data we used for regular validation purpose.\n",
    "\"\"\"\n",
    "train=dataset.iloc[:len(train)] #split \n",
    "test=dataset.iloc[len(train):]\n",
    "test.drop(labels=[\"Survived\"],axis = 1,inplace=True) #or test.drop(columns=['Survived'],inplace=True)"
   ]
  },
  {
   "cell_type": "code",
   "execution_count": 79,
   "id": "89dc096e",
   "metadata": {
    "execution": {
     "iopub.execute_input": "2021-11-11T09:51:06.150929Z",
     "iopub.status.busy": "2021-11-11T09:51:06.150300Z",
     "iopub.status.idle": "2021-11-11T09:51:06.156968Z",
     "shell.execute_reply": "2021-11-11T09:51:06.157506Z",
     "shell.execute_reply.started": "2021-11-11T08:56:42.311742Z"
    },
    "papermill": {
     "duration": 0.126235,
     "end_time": "2021-11-11T09:51:06.157677",
     "exception": false,
     "start_time": "2021-11-11T09:51:06.031442",
     "status": "completed"
    },
    "tags": []
   },
   "outputs": [
    {
     "name": "stderr",
     "output_type": "stream",
     "text": [
      "/opt/conda/lib/python3.7/site-packages/ipykernel_launcher.py:1: SettingWithCopyWarning: \n",
      "A value is trying to be set on a copy of a slice from a DataFrame.\n",
      "Try using .loc[row_indexer,col_indexer] = value instead\n",
      "\n",
      "See the caveats in the documentation: https://pandas.pydata.org/pandas-docs/stable/user_guide/indexing.html#returning-a-view-versus-a-copy\n",
      "  \"\"\"Entry point for launching an IPython kernel.\n"
     ]
    }
   ],
   "source": [
    "train['Survived']=train['Survived'].astype(int)\n",
    "Y_train=train['Survived']\n",
    "X_train=train.drop(columns=['Survived'])"
   ]
  },
  {
   "cell_type": "markdown",
   "id": "91748659",
   "metadata": {
    "execution": {
     "iopub.execute_input": "2021-11-11T06:28:59.0658Z",
     "iopub.status.busy": "2021-11-11T06:28:59.064943Z",
     "iopub.status.idle": "2021-11-11T06:28:59.069271Z",
     "shell.execute_reply": "2021-11-11T06:28:59.068199Z",
     "shell.execute_reply.started": "2021-11-11T06:28:59.065758Z"
    },
    "papermill": {
     "duration": 0.112681,
     "end_time": "2021-11-11T09:51:06.383229",
     "exception": false,
     "start_time": "2021-11-11T09:51:06.270548",
     "status": "completed"
    },
    "tags": []
   },
   "source": [
    "## Base line model selection"
   ]
  },
  {
   "cell_type": "code",
   "execution_count": 80,
   "id": "0bad3660",
   "metadata": {
    "execution": {
     "iopub.execute_input": "2021-11-11T09:51:06.612176Z",
     "iopub.status.busy": "2021-11-11T09:51:06.611549Z",
     "iopub.status.idle": "2021-11-11T09:51:06.614699Z",
     "shell.execute_reply": "2021-11-11T09:51:06.615200Z",
     "shell.execute_reply.started": "2021-11-11T08:56:42.331044Z"
    },
    "papermill": {
     "duration": 0.117812,
     "end_time": "2021-11-11T09:51:06.615381",
     "exception": false,
     "start_time": "2021-11-11T09:51:06.497569",
     "status": "completed"
    },
    "tags": []
   },
   "outputs": [],
   "source": [
    "# Cross validate model with Kfold stratified cross val\n",
    "kfold = StratifiedKFold(n_splits=10)"
   ]
  },
  {
   "cell_type": "code",
   "execution_count": 81,
   "id": "ac7a9d4b",
   "metadata": {
    "execution": {
     "iopub.execute_input": "2021-11-11T09:51:06.841487Z",
     "iopub.status.busy": "2021-11-11T09:51:06.840842Z",
     "iopub.status.idle": "2021-11-11T09:51:06.846807Z",
     "shell.execute_reply": "2021-11-11T09:51:06.847276Z",
     "shell.execute_reply.started": "2021-11-11T08:56:42.344403Z"
    },
    "papermill": {
     "duration": 0.12122,
     "end_time": "2021-11-11T09:51:06.847457",
     "exception": false,
     "start_time": "2021-11-11T09:51:06.726237",
     "status": "completed"
    },
    "tags": []
   },
   "outputs": [],
   "source": [
    "# Modeling step Test differents algorithms \n",
    "random_state = 2\n",
    "classifiers = []\n",
    "classifiers.append(SVC(random_state=random_state))\n",
    "classifiers.append(DecisionTreeClassifier(random_state=random_state))\n",
    "classifiers.append(AdaBoostClassifier(DecisionTreeClassifier(random_state=random_state),random_state=random_state,learning_rate=0.1))\n",
    "classifiers.append(RandomForestClassifier(random_state=random_state))\n",
    "classifiers.append(ExtraTreesClassifier(random_state=random_state))\n",
    "classifiers.append(GradientBoostingClassifier(random_state=random_state))\n",
    "classifiers.append(MLPClassifier(random_state=random_state))\n",
    "classifiers.append(KNeighborsClassifier())\n",
    "classifiers.append(LogisticRegression(random_state = random_state))\n",
    "classifiers.append(LinearDiscriminantAnalysis())"
   ]
  },
  {
   "cell_type": "code",
   "execution_count": 82,
   "id": "d4216824",
   "metadata": {
    "execution": {
     "iopub.execute_input": "2021-11-11T09:51:07.074980Z",
     "iopub.status.busy": "2021-11-11T09:51:07.074265Z",
     "iopub.status.idle": "2021-11-11T09:51:17.243758Z",
     "shell.execute_reply": "2021-11-11T09:51:17.243025Z",
     "shell.execute_reply.started": "2021-11-11T08:56:42.358482Z"
    },
    "papermill": {
     "duration": 10.285934,
     "end_time": "2021-11-11T09:51:17.243917",
     "exception": false,
     "start_time": "2021-11-11T09:51:06.957983",
     "status": "completed"
    },
    "tags": []
   },
   "outputs": [],
   "source": [
    "cv_results = []\n",
    "for classifier in classifiers :\n",
    "    cv_results.append(cross_val_score(classifier, X_train, y = Y_train, scoring = \"accuracy\", cv = kfold, n_jobs=4))"
   ]
  },
  {
   "cell_type": "code",
   "execution_count": 83,
   "id": "1dfce674",
   "metadata": {
    "execution": {
     "iopub.execute_input": "2021-11-11T09:51:17.472730Z",
     "iopub.status.busy": "2021-11-11T09:51:17.471805Z",
     "iopub.status.idle": "2021-11-11T09:51:17.473917Z",
     "shell.execute_reply": "2021-11-11T09:51:17.474374Z",
     "shell.execute_reply.started": "2021-11-11T08:56:53.84384Z"
    },
    "papermill": {
     "duration": 0.11979,
     "end_time": "2021-11-11T09:51:17.474556",
     "exception": false,
     "start_time": "2021-11-11T09:51:17.354766",
     "status": "completed"
    },
    "tags": []
   },
   "outputs": [],
   "source": [
    "cv_means = []\n",
    "cv_std = []\n",
    "for cv_result in cv_results:\n",
    "    cv_means.append(cv_result.mean())\n",
    "    cv_std.append(cv_result.std())"
   ]
  },
  {
   "cell_type": "code",
   "execution_count": 84,
   "id": "95c09695",
   "metadata": {
    "execution": {
     "iopub.execute_input": "2021-11-11T09:51:17.697737Z",
     "iopub.status.busy": "2021-11-11T09:51:17.696791Z",
     "iopub.status.idle": "2021-11-11T09:51:17.710006Z",
     "shell.execute_reply": "2021-11-11T09:51:17.710432Z",
     "shell.execute_reply.started": "2021-11-11T08:56:53.853575Z"
    },
    "papermill": {
     "duration": 0.126243,
     "end_time": "2021-11-11T09:51:17.710606",
     "exception": false,
     "start_time": "2021-11-11T09:51:17.584363",
     "status": "completed"
    },
    "tags": []
   },
   "outputs": [
    {
     "data": {
      "text/html": [
       "<div>\n",
       "<style scoped>\n",
       "    .dataframe tbody tr th:only-of-type {\n",
       "        vertical-align: middle;\n",
       "    }\n",
       "\n",
       "    .dataframe tbody tr th {\n",
       "        vertical-align: top;\n",
       "    }\n",
       "\n",
       "    .dataframe thead th {\n",
       "        text-align: right;\n",
       "    }\n",
       "</style>\n",
       "<table border=\"1\" class=\"dataframe\">\n",
       "  <thead>\n",
       "    <tr style=\"text-align: right;\">\n",
       "      <th></th>\n",
       "      <th>CrossValMeans</th>\n",
       "      <th>CrossValerrors</th>\n",
       "      <th>Algorithm</th>\n",
       "    </tr>\n",
       "  </thead>\n",
       "  <tbody>\n",
       "    <tr>\n",
       "      <th>3</th>\n",
       "      <td>0.819351</td>\n",
       "      <td>0.049132</td>\n",
       "      <td>RandomForest</td>\n",
       "    </tr>\n",
       "    <tr>\n",
       "      <th>2</th>\n",
       "      <td>0.810387</td>\n",
       "      <td>0.047731</td>\n",
       "      <td>AdaBoost</td>\n",
       "    </tr>\n",
       "    <tr>\n",
       "      <th>4</th>\n",
       "      <td>0.811498</td>\n",
       "      <td>0.043180</td>\n",
       "      <td>ExtraTrees</td>\n",
       "    </tr>\n",
       "    <tr>\n",
       "      <th>5</th>\n",
       "      <td>0.835031</td>\n",
       "      <td>0.041079</td>\n",
       "      <td>GradientBoosting</td>\n",
       "    </tr>\n",
       "    <tr>\n",
       "      <th>7</th>\n",
       "      <td>0.820487</td>\n",
       "      <td>0.038221</td>\n",
       "      <td>KNeighboors</td>\n",
       "    </tr>\n",
       "    <tr>\n",
       "      <th>1</th>\n",
       "      <td>0.803670</td>\n",
       "      <td>0.036426</td>\n",
       "      <td>DecisionTree</td>\n",
       "    </tr>\n",
       "    <tr>\n",
       "      <th>9</th>\n",
       "      <td>0.823820</td>\n",
       "      <td>0.034671</td>\n",
       "      <td>LinearDiscriminantAnalysis</td>\n",
       "    </tr>\n",
       "    <tr>\n",
       "      <th>0</th>\n",
       "      <td>0.830524</td>\n",
       "      <td>0.034624</td>\n",
       "      <td>SVC</td>\n",
       "    </tr>\n",
       "    <tr>\n",
       "      <th>8</th>\n",
       "      <td>0.828290</td>\n",
       "      <td>0.032151</td>\n",
       "      <td>LogisticRegression</td>\n",
       "    </tr>\n",
       "    <tr>\n",
       "      <th>6</th>\n",
       "      <td>0.823820</td>\n",
       "      <td>0.027800</td>\n",
       "      <td>MultipleLayerPerceptron</td>\n",
       "    </tr>\n",
       "  </tbody>\n",
       "</table>\n",
       "</div>"
      ],
      "text/plain": [
       "   CrossValMeans  CrossValerrors                   Algorithm\n",
       "3       0.819351        0.049132                RandomForest\n",
       "2       0.810387        0.047731                    AdaBoost\n",
       "4       0.811498        0.043180                  ExtraTrees\n",
       "5       0.835031        0.041079            GradientBoosting\n",
       "7       0.820487        0.038221                 KNeighboors\n",
       "1       0.803670        0.036426                DecisionTree\n",
       "9       0.823820        0.034671  LinearDiscriminantAnalysis\n",
       "0       0.830524        0.034624                         SVC\n",
       "8       0.828290        0.032151          LogisticRegression\n",
       "6       0.823820        0.027800     MultipleLayerPerceptron"
      ]
     },
     "execution_count": 84,
     "metadata": {},
     "output_type": "execute_result"
    }
   ],
   "source": [
    "\n",
    "cv_result = pd.DataFrame({\"CrossValMeans\":cv_means,\"CrossValerrors\": cv_std,\"Algorithm\":[\"SVC\",\"DecisionTree\",\"AdaBoost\",\n",
    "\"RandomForest\",\"ExtraTrees\",\"GradientBoosting\",\"MultipleLayerPerceptron\",\"KNeighboors\",\"LogisticRegression\",\"LinearDiscriminantAnalysis\"]})\n",
    "cv_result.sort_values(by='CrossValerrors',ascending=False)\n"
   ]
  },
  {
   "cell_type": "code",
   "execution_count": 85,
   "id": "19bcca43",
   "metadata": {
    "execution": {
     "iopub.execute_input": "2021-11-11T09:51:17.935697Z",
     "iopub.status.busy": "2021-11-11T09:51:17.934692Z",
     "iopub.status.idle": "2021-11-11T09:51:18.419242Z",
     "shell.execute_reply": "2021-11-11T09:51:18.419734Z",
     "shell.execute_reply.started": "2021-11-11T08:56:53.878577Z"
    },
    "papermill": {
     "duration": 0.598365,
     "end_time": "2021-11-11T09:51:18.419906",
     "exception": false,
     "start_time": "2021-11-11T09:51:17.821541",
     "status": "completed"
    },
    "tags": []
   },
   "outputs": [
    {
     "data": {
      "image/png": "[encoded data removed]",
      "text/plain": [
       "<Figure size 432x288 with 1 Axes>"
      ]
     },
     "metadata": {
      "needs_background": "light"
     },
     "output_type": "display_data"
    },
    {
     "data": {
      "image/png": "[encoded data removed]",
      "text/plain": [
       "<Figure size 432x288 with 1 Axes>"
      ]
     },
     "metadata": {
      "needs_background": "light"
     },
     "output_type": "display_data"
    }
   ],
   "source": [
    "sns.barplot(x='CrossValerrors',y='Algorithm',data=cv_result.sort_values(by='CrossValerrors',ascending=False))\n",
    "plt.show()\n",
    "sns.barplot(x='CrossValMeans',y='Algorithm',data=cv_result.sort_values(by='CrossValMeans',ascending=False),)\n",
    "plt.show()"
   ]
  },
  {
   "cell_type": "markdown",
   "id": "579643fa",
   "metadata": {
    "papermill": {
     "duration": 0.11302,
     "end_time": "2021-11-11T09:51:18.646492",
     "exception": false,
     "start_time": "2021-11-11T09:51:18.533472",
     "status": "completed"
    },
    "tags": []
   },
   "source": [
    "\"\"\"Based on the above result we selected the best five models as base line models for further tuning or  hyperparameter optimization and creating Ensemble model for prediction \"\"\""
   ]
  },
  {
   "cell_type": "markdown",
   "id": "fff78ab9",
   "metadata": {
    "execution": {
     "iopub.execute_input": "2021-11-11T06:27:22.649873Z",
     "iopub.status.busy": "2021-11-11T06:27:22.649Z",
     "iopub.status.idle": "2021-11-11T06:27:22.654297Z",
     "shell.execute_reply": "2021-11-11T06:27:22.653483Z",
     "shell.execute_reply.started": "2021-11-11T06:27:22.649832Z"
    },
    "papermill": {
     "duration": 0.114198,
     "end_time": "2021-11-11T09:51:18.876505",
     "exception": false,
     "start_time": "2021-11-11T09:51:18.762307",
     "status": "completed"
    },
    "tags": []
   },
   "source": [
    "## Hyper Parameter Optimization"
   ]
  },
  {
   "cell_type": "markdown",
   "id": "d6886fd2",
   "metadata": {
    "papermill": {
     "duration": 0.115621,
     "end_time": "2021-11-11T09:51:19.107157",
     "exception": false,
     "start_time": "2021-11-11T09:51:18.991536",
     "status": "completed"
    },
    "tags": []
   },
   "source": [
    "#### Ada Boost"
   ]
  },
  {
   "cell_type": "code",
   "execution_count": 86,
   "id": "dea7dd0f",
   "metadata": {
    "execution": {
     "iopub.execute_input": "2021-11-11T09:51:19.342398Z",
     "iopub.status.busy": "2021-11-11T09:51:19.341457Z",
     "iopub.status.idle": "2021-11-11T09:51:25.645568Z",
     "shell.execute_reply": "2021-11-11T09:51:25.646097Z",
     "shell.execute_reply.started": "2021-11-11T08:56:54.447275Z"
    },
    "papermill": {
     "duration": 6.422092,
     "end_time": "2021-11-11T09:51:25.646261",
     "exception": false,
     "start_time": "2021-11-11T09:51:19.224169",
     "status": "completed"
    },
    "tags": []
   },
   "outputs": [
    {
     "name": "stdout",
     "output_type": "stream",
     "text": [
      "Fitting 10 folds for each of 112 candidates, totalling 1120 fits\n"
     ]
    },
    {
     "name": "stderr",
     "output_type": "stream",
     "text": [
      "[Parallel(n_jobs=4)]: Using backend LokyBackend with 4 concurrent workers.\n",
      "[Parallel(n_jobs=4)]: Done 200 tasks      | elapsed:    1.3s\n",
      "[Parallel(n_jobs=4)]: Done 1120 out of 1120 | elapsed:    6.3s finished\n"
     ]
    },
    {
     "data": {
      "text/plain": [
       "0.8160174781523096"
      ]
     },
     "execution_count": 86,
     "metadata": {},
     "output_type": "execute_result"
    }
   ],
   "source": [
    "DTC = DecisionTreeClassifier()\n",
    "\n",
    "adaDTC = AdaBoostClassifier(DTC, random_state=7)\n",
    "\n",
    "ada_param_grid = {\"base_estimator__criterion\" : [\"gini\", \"entropy\"],\n",
    "              \"base_estimator__splitter\" :   [\"best\", \"random\"],\n",
    "              \"algorithm\" : [\"SAMME\",\"SAMME.R\"],\n",
    "              \"n_estimators\" :[1,2],\n",
    "              \"learning_rate\":  [0.0001, 0.001, 0.01, 0.1, 0.2, 0.3,1.5]}\n",
    "\n",
    "gsadaDTC = GridSearchCV(adaDTC,param_grid = ada_param_grid, cv=kfold, scoring=\"accuracy\", n_jobs= 4, verbose = 1)\n",
    "\n",
    "gsadaDTC.fit(X_train,Y_train)\n",
    "\n",
    "ada_best = gsadaDTC.best_estimator_\n",
    "gsadaDTC.best_score_"
   ]
  },
  {
   "cell_type": "markdown",
   "id": "f34de329",
   "metadata": {
    "papermill": {
     "duration": 0.11775,
     "end_time": "2021-11-11T09:51:25.879574",
     "exception": false,
     "start_time": "2021-11-11T09:51:25.761824",
     "status": "completed"
    },
    "tags": []
   },
   "source": [
    "#### Extra tree Classifier"
   ]
  },
  {
   "cell_type": "code",
   "execution_count": 87,
   "id": "1737d021",
   "metadata": {
    "execution": {
     "iopub.execute_input": "2021-11-11T09:51:26.115623Z",
     "iopub.status.busy": "2021-11-11T09:51:26.114640Z",
     "iopub.status.idle": "2021-11-11T09:52:29.471925Z",
     "shell.execute_reply": "2021-11-11T09:52:29.471455Z",
     "shell.execute_reply.started": "2021-11-11T08:57:01.267351Z"
    },
    "papermill": {
     "duration": 63.477953,
     "end_time": "2021-11-11T09:52:29.472071",
     "exception": false,
     "start_time": "2021-11-11T09:51:25.994118",
     "status": "completed"
    },
    "tags": []
   },
   "outputs": [
    {
     "name": "stdout",
     "output_type": "stream",
     "text": [
      "Fitting 10 folds for each of 54 candidates, totalling 540 fits\n"
     ]
    },
    {
     "name": "stderr",
     "output_type": "stream",
     "text": [
      "[Parallel(n_jobs=4)]: Using backend LokyBackend with 4 concurrent workers.\n",
      "[Parallel(n_jobs=4)]: Done  42 tasks      | elapsed:    5.8s\n",
      "[Parallel(n_jobs=4)]: Done 192 tasks      | elapsed:   21.4s\n",
      "[Parallel(n_jobs=4)]: Done 442 tasks      | elapsed:   51.4s\n",
      "[Parallel(n_jobs=4)]: Done 540 out of 540 | elapsed:  1.0min finished\n"
     ]
    },
    {
     "data": {
      "text/plain": [
       "0.8316479400749064"
      ]
     },
     "execution_count": 87,
     "metadata": {},
     "output_type": "execute_result"
    }
   ],
   "source": [
    "ExtC = ExtraTreesClassifier()\n",
    "## Search grid for optimal parameters\n",
    "ex_param_grid = {\"max_depth\": [None],\n",
    "              \"max_features\": [1, 3, 10],\n",
    "              \"min_samples_split\": [2, 3, 10],\n",
    "              \"min_samples_leaf\": [1, 3, 10],\n",
    "              \"bootstrap\": [False],\n",
    "              \"n_estimators\" :[100,300],\n",
    "              \"criterion\": [\"gini\"]}\n",
    "\n",
    "gsExtC = GridSearchCV(ExtC,param_grid = ex_param_grid, cv=kfold, scoring=\"accuracy\", n_jobs= 4, verbose = 1)\n",
    "\n",
    "gsExtC.fit(X_train,Y_train)\n",
    "\n",
    "ExtC_best = gsExtC.best_estimator_\n",
    "\n",
    "# Best score\n",
    "gsExtC.best_score_"
   ]
  },
  {
   "cell_type": "markdown",
   "id": "b244c352",
   "metadata": {
    "papermill": {
     "duration": 0.116518,
     "end_time": "2021-11-11T09:52:29.704002",
     "exception": false,
     "start_time": "2021-11-11T09:52:29.587484",
     "status": "completed"
    },
    "tags": []
   },
   "source": [
    "#### SVC"
   ]
  },
  {
   "cell_type": "code",
   "execution_count": 88,
   "id": "68827a7b",
   "metadata": {
    "execution": {
     "iopub.execute_input": "2021-11-11T09:52:29.938361Z",
     "iopub.status.busy": "2021-11-11T09:52:29.937758Z",
     "iopub.status.idle": "2021-11-11T09:53:11.967466Z",
     "shell.execute_reply": "2021-11-11T09:53:11.976315Z",
     "shell.execute_reply.started": "2021-11-11T08:58:14.628443Z"
    },
    "papermill": {
     "duration": 42.15669,
     "end_time": "2021-11-11T09:53:11.976584",
     "exception": false,
     "start_time": "2021-11-11T09:52:29.819894",
     "status": "completed"
    },
    "tags": []
   },
   "outputs": [
    {
     "name": "stdout",
     "output_type": "stream",
     "text": [
      "Fitting 10 folds for each of 28 candidates, totalling 280 fits\n"
     ]
    },
    {
     "name": "stderr",
     "output_type": "stream",
     "text": [
      "[Parallel(n_jobs=4)]: Using backend LokyBackend with 4 concurrent workers.\n",
      "[Parallel(n_jobs=4)]: Done  42 tasks      | elapsed:    3.9s\n",
      "[Parallel(n_jobs=4)]: Done 192 tasks      | elapsed:   21.8s\n",
      "[Parallel(n_jobs=4)]: Done 280 out of 280 | elapsed:   41.6s finished\n"
     ]
    },
    {
     "data": {
      "text/plain": [
       "0.836167290886392"
      ]
     },
     "execution_count": 88,
     "metadata": {},
     "output_type": "execute_result"
    }
   ],
   "source": [
    "SVMC = SVC(probability=True)\n",
    "svc_param_grid = {'kernel': ['rbf'], \n",
    "                  'gamma': [ 0.001, 0.01, 0.1, 1],\n",
    "                  'C': [1, 10, 50, 100,200,300, 1000]}\n",
    "\n",
    "gsSVMC = GridSearchCV(SVMC,param_grid = svc_param_grid, cv=kfold, scoring=\"accuracy\", n_jobs= 4, verbose = 1)\n",
    "\n",
    "gsSVMC.fit(X_train,Y_train)\n",
    "SVMC_best = gsSVMC.best_estimator_\n",
    "gsSVMC.best_score_"
   ]
  },
  {
   "cell_type": "markdown",
   "id": "0731899f",
   "metadata": {
    "papermill": {
     "duration": 0.119081,
     "end_time": "2021-11-11T09:53:12.230515",
     "exception": false,
     "start_time": "2021-11-11T09:53:12.111434",
     "status": "completed"
    },
    "tags": []
   },
   "source": [
    "#### RFC"
   ]
  },
  {
   "cell_type": "code",
   "execution_count": 89,
   "id": "995a1243",
   "metadata": {
    "execution": {
     "iopub.execute_input": "2021-11-11T09:53:12.491706Z",
     "iopub.status.busy": "2021-11-11T09:53:12.490690Z",
     "iopub.status.idle": "2021-11-11T09:54:21.805030Z",
     "shell.execute_reply": "2021-11-11T09:54:21.804271Z",
     "shell.execute_reply.started": "2021-11-11T08:58:57.01563Z"
    },
    "papermill": {
     "duration": 69.447471,
     "end_time": "2021-11-11T09:54:21.805208",
     "exception": false,
     "start_time": "2021-11-11T09:53:12.357737",
     "status": "completed"
    },
    "tags": []
   },
   "outputs": [
    {
     "name": "stdout",
     "output_type": "stream",
     "text": [
      "Fitting 10 folds for each of 54 candidates, totalling 540 fits\n"
     ]
    },
    {
     "name": "stderr",
     "output_type": "stream",
     "text": [
      "[Parallel(n_jobs=4)]: Using backend LokyBackend with 4 concurrent workers.\n",
      "[Parallel(n_jobs=4)]: Done  42 tasks      | elapsed:    6.3s\n",
      "[Parallel(n_jobs=4)]: Done 192 tasks      | elapsed:   22.2s\n",
      "[Parallel(n_jobs=4)]: Done 442 tasks      | elapsed:   55.5s\n",
      "[Parallel(n_jobs=4)]: Done 540 out of 540 | elapsed:  1.1min finished\n"
     ]
    }
   ],
   "source": [
    "\n",
    "RFC = RandomForestClassifier()\n",
    "\n",
    "\n",
    "## Search grid for optimal parameters\n",
    "rf_param_grid = {\"max_depth\": [None],\n",
    "              \"max_features\": [1, 3, 10],\n",
    "              \"min_samples_split\": [2, 3, 10],\n",
    "              \"min_samples_leaf\": [1, 3, 10],\n",
    "              \"bootstrap\": [False],\n",
    "              \"n_estimators\" :[100,300],\n",
    "              \"criterion\": [\"gini\"]}\n",
    "\n",
    "\n",
    "gsRFC = GridSearchCV(RFC,param_grid = rf_param_grid, cv=kfold, scoring=\"accuracy\", n_jobs= 4, verbose = 1)\n",
    "\n",
    "gsRFC.fit(X_train,Y_train)\n",
    "\n",
    "RFC_best = gsRFC.best_estimator_"
   ]
  },
  {
   "cell_type": "markdown",
   "id": "f23c12a5",
   "metadata": {
    "papermill": {
     "duration": 0.117283,
     "end_time": "2021-11-11T09:54:22.041220",
     "exception": false,
     "start_time": "2021-11-11T09:54:21.923937",
     "status": "completed"
    },
    "tags": []
   },
   "source": [
    "#### Gradient Boosting"
   ]
  },
  {
   "cell_type": "code",
   "execution_count": 90,
   "id": "d37ceaed",
   "metadata": {
    "execution": {
     "iopub.execute_input": "2021-11-11T09:54:22.286277Z",
     "iopub.status.busy": "2021-11-11T09:54:22.285362Z",
     "iopub.status.idle": "2021-11-11T09:55:02.721337Z",
     "shell.execute_reply": "2021-11-11T09:55:02.720853Z",
     "shell.execute_reply.started": "2021-11-11T09:00:17.213295Z"
    },
    "papermill": {
     "duration": 40.562413,
     "end_time": "2021-11-11T09:55:02.721489",
     "exception": false,
     "start_time": "2021-11-11T09:54:22.159076",
     "status": "completed"
    },
    "tags": []
   },
   "outputs": [
    {
     "name": "stdout",
     "output_type": "stream",
     "text": [
      "Fitting 10 folds for each of 72 candidates, totalling 720 fits\n"
     ]
    },
    {
     "name": "stderr",
     "output_type": "stream",
     "text": [
      "[Parallel(n_jobs=4)]: Using backend LokyBackend with 4 concurrent workers.\n",
      "[Parallel(n_jobs=4)]: Done  76 tasks      | elapsed:    4.4s\n",
      "[Parallel(n_jobs=4)]: Done 376 tasks      | elapsed:   20.8s\n",
      "[Parallel(n_jobs=4)]: Done 720 out of 720 | elapsed:   40.1s finished\n"
     ]
    },
    {
     "data": {
      "text/plain": [
       "0.832796504369538"
      ]
     },
     "execution_count": 90,
     "metadata": {},
     "output_type": "execute_result"
    }
   ],
   "source": [
    "GBC = GradientBoostingClassifier()\n",
    "gb_param_grid = {'loss' : [\"deviance\"],\n",
    "              'n_estimators' : [100,200,300],\n",
    "              'learning_rate': [0.1, 0.05, 0.01],\n",
    "              'max_depth': [4, 8],\n",
    "              'min_samples_leaf': [100,150],\n",
    "              'max_features': [0.3, 0.1] \n",
    "              }\n",
    "\n",
    "gsGBC = GridSearchCV(GBC,param_grid = gb_param_grid, cv=kfold, scoring=\"accuracy\", n_jobs= 4, verbose = 1)\n",
    "\n",
    "gsGBC.fit(X_train,Y_train)\n",
    "\n",
    "GBC_best = gsGBC.best_estimator_\n",
    "\n",
    "# Best score\n",
    "gsGBC.best_score_"
   ]
  },
  {
   "cell_type": "markdown",
   "id": "680291da",
   "metadata": {
    "execution": {
     "iopub.execute_input": "2021-11-11T07:15:49.932622Z",
     "iopub.status.busy": "2021-11-11T07:15:49.931717Z",
     "iopub.status.idle": "2021-11-11T07:15:49.93651Z",
     "shell.execute_reply": "2021-11-11T07:15:49.935482Z",
     "shell.execute_reply.started": "2021-11-11T07:15:49.93258Z"
    },
    "papermill": {
     "duration": 0.119762,
     "end_time": "2021-11-11T09:55:02.960732",
     "exception": false,
     "start_time": "2021-11-11T09:55:02.840970",
     "status": "completed"
    },
    "tags": []
   },
   "source": [
    "## Ensemble Model Creation"
   ]
  },
  {
   "cell_type": "code",
   "execution_count": 91,
   "id": "ce761711",
   "metadata": {
    "execution": {
     "iopub.execute_input": "2021-11-11T09:55:03.204631Z",
     "iopub.status.busy": "2021-11-11T09:55:03.203997Z",
     "iopub.status.idle": "2021-11-11T09:55:03.318131Z",
     "shell.execute_reply": "2021-11-11T09:55:03.318679Z",
     "shell.execute_reply.started": "2021-11-11T09:01:02.658352Z"
    },
    "papermill": {
     "duration": 0.239172,
     "end_time": "2021-11-11T09:55:03.318851",
     "exception": false,
     "start_time": "2021-11-11T09:55:03.079679",
     "status": "completed"
    },
    "tags": []
   },
   "outputs": [
    {
     "data": {
      "text/html": [
       "<div>\n",
       "<style scoped>\n",
       "    .dataframe tbody tr th:only-of-type {\n",
       "        vertical-align: middle;\n",
       "    }\n",
       "\n",
       "    .dataframe tbody tr th {\n",
       "        vertical-align: top;\n",
       "    }\n",
       "\n",
       "    .dataframe thead th {\n",
       "        text-align: right;\n",
       "    }\n",
       "</style>\n",
       "<table border=\"1\" class=\"dataframe\">\n",
       "  <thead>\n",
       "    <tr style=\"text-align: right;\">\n",
       "      <th></th>\n",
       "      <th>RFC</th>\n",
       "      <th>ExtC</th>\n",
       "      <th>Ada</th>\n",
       "      <th>GBC</th>\n",
       "      <th>SVC</th>\n",
       "    </tr>\n",
       "  </thead>\n",
       "  <tbody>\n",
       "    <tr>\n",
       "      <th>0</th>\n",
       "      <td>0</td>\n",
       "      <td>0</td>\n",
       "      <td>0</td>\n",
       "      <td>0</td>\n",
       "      <td>0</td>\n",
       "    </tr>\n",
       "    <tr>\n",
       "      <th>1</th>\n",
       "      <td>0</td>\n",
       "      <td>0</td>\n",
       "      <td>0</td>\n",
       "      <td>0</td>\n",
       "      <td>0</td>\n",
       "    </tr>\n",
       "    <tr>\n",
       "      <th>2</th>\n",
       "      <td>0</td>\n",
       "      <td>0</td>\n",
       "      <td>0</td>\n",
       "      <td>0</td>\n",
       "      <td>0</td>\n",
       "    </tr>\n",
       "  </tbody>\n",
       "</table>\n",
       "</div>"
      ],
      "text/plain": [
       "   RFC  ExtC  Ada  GBC  SVC\n",
       "0    0     0    0    0    0\n",
       "1    0     0    0    0    0\n",
       "2    0     0    0    0    0"
      ]
     },
     "execution_count": 91,
     "metadata": {},
     "output_type": "execute_result"
    }
   ],
   "source": [
    "test_Survived_RFC = pd.Series(RFC_best.predict(test), name=\"RFC\")\n",
    "test_Survived_ExtC = pd.Series(ExtC_best.predict(test), name=\"ExtC\")\n",
    "test_Survived_SVMC = pd.Series(SVMC_best.predict(test), name=\"SVC\")\n",
    "test_Survived_AdaC = pd.Series(ada_best.predict(test), name=\"Ada\")\n",
    "test_Survived_GBC = pd.Series(GBC_best.predict(test), name=\"GBC\")\n",
    "\n",
    "# Concatenate all classifier results\n",
    "ensemble_results = pd.concat([test_Survived_RFC,test_Survived_ExtC,test_Survived_AdaC,test_Survived_GBC, test_Survived_SVMC],axis=1)\n",
    "ensemble_results.head(3)"
   ]
  },
  {
   "cell_type": "code",
   "execution_count": 92,
   "id": "431761e2",
   "metadata": {
    "execution": {
     "iopub.execute_input": "2021-11-11T09:55:03.629200Z",
     "iopub.status.busy": "2021-11-11T09:55:03.611715Z",
     "iopub.status.idle": "2021-11-11T09:55:03.906468Z",
     "shell.execute_reply": "2021-11-11T09:55:03.906891Z",
     "shell.execute_reply.started": "2021-11-11T09:01:02.740833Z"
    },
    "papermill": {
     "duration": 0.444171,
     "end_time": "2021-11-11T09:55:03.907063",
     "exception": false,
     "start_time": "2021-11-11T09:55:03.462892",
     "status": "completed"
    },
    "tags": []
   },
   "outputs": [
    {
     "data": {
      "text/plain": [
       "<AxesSubplot:>"
      ]
     },
     "execution_count": 92,
     "metadata": {},
     "output_type": "execute_result"
    },
    {
     "data": {
      "image/png": "[encoded data removed]",
      "text/plain": [
       "<Figure size 432x288 with 2 Axes>"
      ]
     },
     "metadata": {
      "needs_background": "light"
     },
     "output_type": "display_data"
    }
   ],
   "source": [
    "sns.heatmap(ensemble_results.corr(),annot=True,cbar=True)"
   ]
  },
  {
   "cell_type": "code",
   "execution_count": 93,
   "id": "e2333a7a",
   "metadata": {
    "execution": {
     "iopub.execute_input": "2021-11-11T09:55:04.157501Z",
     "iopub.status.busy": "2021-11-11T09:55:04.156873Z",
     "iopub.status.idle": "2021-11-11T09:55:04.844976Z",
     "shell.execute_reply": "2021-11-11T09:55:04.844459Z",
     "shell.execute_reply.started": "2021-11-11T09:01:03.105321Z"
    },
    "papermill": {
     "duration": 0.815121,
     "end_time": "2021-11-11T09:55:04.845112",
     "exception": false,
     "start_time": "2021-11-11T09:55:04.029991",
     "status": "completed"
    },
    "tags": []
   },
   "outputs": [],
   "source": [
    "votingC = VotingClassifier(estimators=[('rfc', RFC_best), ('extc', ExtC_best),\n",
    "('svc', SVMC_best), ('adac',ada_best),('gbc',GBC_best)], voting='soft', n_jobs=4)\n",
    "\n",
    "Ensemble_train = votingC.fit(X_train, Y_train)"
   ]
  },
  {
   "cell_type": "markdown",
   "id": "2cd772de",
   "metadata": {
    "papermill": {
     "duration": 0.122368,
     "end_time": "2021-11-11T09:55:05.090891",
     "exception": false,
     "start_time": "2021-11-11T09:55:04.968523",
     "status": "completed"
    },
    "tags": []
   },
   "source": [
    "# SUBMISSION"
   ]
  },
  {
   "cell_type": "code",
   "execution_count": 94,
   "id": "bd46b3ec",
   "metadata": {
    "execution": {
     "iopub.execute_input": "2021-11-11T09:55:05.346087Z",
     "iopub.status.busy": "2021-11-11T09:55:05.345458Z",
     "iopub.status.idle": "2021-11-11T09:55:05.451846Z",
     "shell.execute_reply": "2021-11-11T09:55:05.451372Z",
     "shell.execute_reply.started": "2021-11-11T09:01:03.601018Z"
    },
    "papermill": {
     "duration": 0.236015,
     "end_time": "2021-11-11T09:55:05.451980",
     "exception": false,
     "start_time": "2021-11-11T09:55:05.215965",
     "status": "completed"
    },
    "tags": []
   },
   "outputs": [
    {
     "name": "stdout",
     "output_type": "stream",
     "text": [
      "Your submission was successfully saved!\n"
     ]
    }
   ],
   "source": [
    "output = pd.DataFrame({'PassengerId': IDtest, 'Survived': Ensemble_train.predict(test)})\n",
    "output.to_csv('submission.csv',index=False)\n",
    "print(\"Your submission was successfully saved!\")"
   ]
  },
  {
   "cell_type": "code",
   "execution_count": null,
   "id": "dc5fb1aa",
   "metadata": {
    "papermill": {
     "duration": 0.124032,
     "end_time": "2021-11-11T09:55:05.698037",
     "exception": false,
     "start_time": "2021-11-11T09:55:05.574005",
     "status": "completed"
    },
    "tags": []
   },
   "outputs": [],
   "source": []
  }
 ],
 "metadata": {
  "kernelspec": {
   "display_name": "Python 3",
   "language": "python",
   "name": "python3"
  },
  "language_info": {
   "codemirror_mode": {
    "name": "ipython",
    "version": 3
   },
   "file_extension": ".py",
   "mimetype": "text/x-python",
   "name": "python",
   "nbconvert_exporter": "python",
   "pygments_lexer": "ipython3",
   "version": "3.8.8"
  },
  "papermill": {
   "default_parameters": {},
   "duration": 333.029464,
   "end_time": "2021-11-11T09:55:06.632553",
   "environment_variables": {},
   "exception": null,
   "input_path": "__notebook__.ipynb",
   "output_path": "__notebook__.ipynb",
   "parameters": {},
   "start_time": "2021-11-11T09:49:33.603089",
   "version": "2.3.3"
  }
 },
 "nbformat": 4,
 "nbformat_minor": 5
}
