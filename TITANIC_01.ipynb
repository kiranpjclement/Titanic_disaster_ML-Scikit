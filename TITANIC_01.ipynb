{
  "nbformat": 4,
  "nbformat_minor": 0,
  "metadata": {
    "kernelspec": {
      "display_name": "Python 3",
      "language": "python",
      "name": "python3"
    },
    "language_info": {
      "codemirror_mode": {
        "name": "ipython",
        "version": 3
      },
      "file_extension": ".py",
      "mimetype": "text/x-python",
      "name": "python",
      "nbconvert_exporter": "python",
      "pygments_lexer": "ipython3",
      "version": "3.8.5"
    },
    "colab": {
      "name": "TITANIC_01.ipynb",
      "provenance": [],
      "collapsed_sections": [],
      "toc_visible": true
    },
    "accelerator": "GPU"
  },
  "cells": [
    {
      "cell_type": "code",
      "metadata": {
        "id": "V4SUQd1oD_03"
      },
      "source": [
        "import pandas as pd\n",
        "import numpy as np\n",
        "import seaborn as sns\n",
        "from sklearn.svm import SVC\n",
        "import matplotlib.pyplot as plt\n",
        "from sklearn.pipeline import make_pipeline\n",
        "from sklearn.metrics import accuracy_score\n",
        "from sklearn.preprocessing import StandardScaler"
      ],
      "execution_count": 308,
      "outputs": []
    },
    {
      "cell_type": "code",
      "metadata": {
        "scrolled": true,
        "id": "W5vyZYo-D_1S"
      },
      "source": [
        "df=pd.read_csv(\"/content/titanic_train.csv\")\n",
        "df2=pd.read_csv(\"/content/titanic_test.csv\")  #test data"
      ],
      "execution_count": 309,
      "outputs": []
    },
    {
      "cell_type": "code",
      "metadata": {
        "colab": {
          "base_uri": "https://localhost:8080/"
        },
        "id": "0uwFvTV6D_1V",
        "outputId": "0f86c5bf-ddbb-4581-a8f3-7744442cc62c"
      },
      "source": [
        "df.shape"
      ],
      "execution_count": 310,
      "outputs": [
        {
          "output_type": "execute_result",
          "data": {
            "text/plain": [
              "(891, 12)"
            ]
          },
          "metadata": {
            "tags": []
          },
          "execution_count": 310
        }
      ]
    },
    {
      "cell_type": "code",
      "metadata": {
        "scrolled": true,
        "colab": {
          "base_uri": "https://localhost:8080/",
          "height": 333
        },
        "id": "TC_mObtUD_1Z",
        "outputId": "0628acdb-8604-4db6-b242-0d39a5e72f15"
      },
      "source": [
        "sns.heatmap(df.isnull(),yticklabels=False,cbar=False)"
      ],
      "execution_count": 311,
      "outputs": [
        {
          "output_type": "execute_result",
          "data": {
            "text/plain": [
              "<matplotlib.axes._subplots.AxesSubplot at 0x7f4ec9664490>"
            ]
          },
          "metadata": {
            "tags": []
          },
          "execution_count": 311
        },
        {
          "output_type": "display_data",
          "data": {
            "image/png": "[encoded data removed]",
            "text/plain": [
              "<Figure size 432x288 with 1 Axes>"
            ]
          },
          "metadata": {
            "tags": [],
            "needs_background": "light"
          }
        }
      ]
    },
    {
      "cell_type": "code",
      "metadata": {
        "id": "Q_YC9hOe1msv"
      },
      "source": [
        ""
      ],
      "execution_count": 311,
      "outputs": []
    },
    {
      "cell_type": "code",
      "metadata": {
        "colab": {
          "base_uri": "https://localhost:8080/"
        },
        "id": "NPCUZRxRD_1b",
        "outputId": "0606667a-d68b-475a-f551-ec9cc160f205"
      },
      "source": [
        "df.info()"
      ],
      "execution_count": 312,
      "outputs": [
        {
          "output_type": "stream",
          "text": [
            "<class 'pandas.core.frame.DataFrame'>\n",
            "RangeIndex: 891 entries, 0 to 890\n",
            "Data columns (total 12 columns):\n",
            " #   Column       Non-Null Count  Dtype  \n",
            "---  ------       --------------  -----  \n",
            " 0   PassengerId  891 non-null    int64  \n",
            " 1   Survived     891 non-null    int64  \n",
            " 2   Pclass       891 non-null    int64  \n",
            " 3   Name         891 non-null    object \n",
            " 4   Sex          891 non-null    object \n",
            " 5   Age          714 non-null    float64\n",
            " 6   SibSp        891 non-null    int64  \n",
            " 7   Parch        891 non-null    int64  \n",
            " 8   Ticket       891 non-null    object \n",
            " 9   Fare         891 non-null    float64\n",
            " 10  Cabin        204 non-null    object \n",
            " 11  Embarked     889 non-null    object \n",
            "dtypes: float64(2), int64(5), object(5)\n",
            "memory usage: 83.7+ KB\n"
          ],
          "name": "stdout"
        }
      ]
    },
    {
      "cell_type": "code",
      "metadata": {
        "colab": {
          "base_uri": "https://localhost:8080/"
        },
        "id": "SgxbxJ2KD_1d",
        "outputId": "9fdd702f-425b-4694-c11c-b21594cf1520"
      },
      "source": [
        "for i in df.columns:\n",
        "    d=dict(df[i].isnull().value_counts())\n",
        "    print(i,d)"
      ],
      "execution_count": 313,
      "outputs": [
        {
          "output_type": "stream",
          "text": [
            "PassengerId {False: 891}\n",
            "Survived {False: 891}\n",
            "Pclass {False: 891}\n",
            "Name {False: 891}\n",
            "Sex {False: 891}\n",
            "Age {False: 714, True: 177}\n",
            "SibSp {False: 891}\n",
            "Parch {False: 891}\n",
            "Ticket {False: 891}\n",
            "Fare {False: 891}\n",
            "Cabin {True: 687, False: 204}\n",
            "Embarked {False: 889, True: 2}\n"
          ],
          "name": "stdout"
        }
      ]
    },
    {
      "cell_type": "markdown",
      "metadata": {
        "id": "MUp9wFRVD_1e"
      },
      "source": [
        "###### Handling Na in Embarked"
      ]
    },
    {
      "cell_type": "code",
      "metadata": {
        "colab": {
          "base_uri": "https://localhost:8080/",
          "height": 162
        },
        "id": "BPMeCkN4D_1f",
        "outputId": "168bf17d-5ecb-4d9e-eae7-78c6167c3429"
      },
      "source": [
        "f=df['Embarked'].isna()\n",
        "df.loc[f]"
      ],
      "execution_count": 314,
      "outputs": [
        {
          "output_type": "execute_result",
          "data": {
            "text/html": [
              "<div>\n",
              "<style scoped>\n",
              "    .dataframe tbody tr th:only-of-type {\n",
              "        vertical-align: middle;\n",
              "    }\n",
              "\n",
              "    .dataframe tbody tr th {\n",
              "        vertical-align: top;\n",
              "    }\n",
              "\n",
              "    .dataframe thead th {\n",
              "        text-align: right;\n",
              "    }\n",
              "</style>\n",
              "<table border=\"1\" class=\"dataframe\">\n",
              "  <thead>\n",
              "    <tr style=\"text-align: right;\">\n",
              "      <th></th>\n",
              "      <th>PassengerId</th>\n",
              "      <th>Survived</th>\n",
              "      <th>Pclass</th>\n",
              "      <th>Name</th>\n",
              "      <th>Sex</th>\n",
              "      <th>Age</th>\n",
              "      <th>SibSp</th>\n",
              "      <th>Parch</th>\n",
              "      <th>Ticket</th>\n",
              "      <th>Fare</th>\n",
              "      <th>Cabin</th>\n",
              "      <th>Embarked</th>\n",
              "    </tr>\n",
              "  </thead>\n",
              "  <tbody>\n",
              "    <tr>\n",
              "      <th>61</th>\n",
              "      <td>62</td>\n",
              "      <td>1</td>\n",
              "      <td>1</td>\n",
              "      <td>Icard, Miss. Amelie</td>\n",
              "      <td>female</td>\n",
              "      <td>38.0</td>\n",
              "      <td>0</td>\n",
              "      <td>0</td>\n",
              "      <td>113572</td>\n",
              "      <td>80.0</td>\n",
              "      <td>B28</td>\n",
              "      <td>NaN</td>\n",
              "    </tr>\n",
              "    <tr>\n",
              "      <th>829</th>\n",
              "      <td>830</td>\n",
              "      <td>1</td>\n",
              "      <td>1</td>\n",
              "      <td>Stone, Mrs. George Nelson (Martha Evelyn)</td>\n",
              "      <td>female</td>\n",
              "      <td>62.0</td>\n",
              "      <td>0</td>\n",
              "      <td>0</td>\n",
              "      <td>113572</td>\n",
              "      <td>80.0</td>\n",
              "      <td>B28</td>\n",
              "      <td>NaN</td>\n",
              "    </tr>\n",
              "  </tbody>\n",
              "</table>\n",
              "</div>"
            ],
            "text/plain": [
              "     PassengerId  Survived  Pclass  ...  Fare Cabin  Embarked\n",
              "61            62         1       1  ...  80.0   B28       NaN\n",
              "829          830         1       1  ...  80.0   B28       NaN\n",
              "\n",
              "[2 rows x 12 columns]"
            ]
          },
          "metadata": {
            "tags": []
          },
          "execution_count": 314
        }
      ]
    },
    {
      "cell_type": "code",
      "metadata": {
        "id": "EExZ9I6jD_1h"
      },
      "source": [
        "df.loc[f,'Embarked'] ='S'  #Ticket and cabin same for both the passenger, so assumed boarded from same location"
      ],
      "execution_count": 315,
      "outputs": []
    },
    {
      "cell_type": "markdown",
      "metadata": {
        "id": "0x3CjSL3D_1i"
      },
      "source": [
        "###### Handling Nan in Age Columns"
      ]
    },
    {
      "cell_type": "markdown",
      "metadata": {
        "id": "iP5ZD0l-D_1j"
      },
      "source": [
        "###### Getting the avg age of male and female for all the classes"
      ]
    },
    {
      "cell_type": "code",
      "metadata": {
        "id": "QJUoMk0vD_1l"
      },
      "source": [
        "dfmale=df.loc[df['Sex']=='male']    \n",
        "dffemale=df.loc[df['Sex']=='female']"
      ],
      "execution_count": 316,
      "outputs": []
    },
    {
      "cell_type": "code",
      "metadata": {
        "colab": {
          "base_uri": "https://localhost:8080/"
        },
        "id": "s8hZNbEqD_1m",
        "outputId": "a7e2a302-25a6-474a-c1df-f97f6e4f3d0c"
      },
      "source": [
        "g=dfmale.groupby(['Pclass'])\n",
        "g['Age'].median()"
      ],
      "execution_count": 317,
      "outputs": [
        {
          "output_type": "execute_result",
          "data": {
            "text/plain": [
              "Pclass\n",
              "1    40.0\n",
              "2    30.0\n",
              "3    25.0\n",
              "Name: Age, dtype: float64"
            ]
          },
          "metadata": {
            "tags": []
          },
          "execution_count": 317
        }
      ]
    },
    {
      "cell_type": "code",
      "metadata": {
        "colab": {
          "base_uri": "https://localhost:8080/"
        },
        "id": "ub5zAaBiD_1n",
        "outputId": "f34b2873-3849-429b-d8ab-524053a46c26"
      },
      "source": [
        "g=dffemale.groupby(['Pclass'])\n",
        "g['Age'].median()"
      ],
      "execution_count": 318,
      "outputs": [
        {
          "output_type": "execute_result",
          "data": {
            "text/plain": [
              "Pclass\n",
              "1    35.0\n",
              "2    28.0\n",
              "3    21.5\n",
              "Name: Age, dtype: float64"
            ]
          },
          "metadata": {
            "tags": []
          },
          "execution_count": 318
        }
      ]
    },
    {
      "cell_type": "code",
      "metadata": {
        "id": "gn-s3sQfD_1p"
      },
      "source": [
        "f1=(df['Age'].isnull()) & (df['Sex']=='male') & (df['Pclass']==1)  #fillted the missing Age for men with median age of men\n",
        "df.loc[f1,'Age']=40.0"
      ],
      "execution_count": 319,
      "outputs": []
    },
    {
      "cell_type": "code",
      "metadata": {
        "id": "28xdayrLD_1p"
      },
      "source": [
        "f2=(df['Age'].isnull()) & (df['Sex']=='male') & (df['Pclass']==2)  #fillted the missing Age for men with median age of men\n",
        "df.loc[f2,'Age']=30.0"
      ],
      "execution_count": 320,
      "outputs": []
    },
    {
      "cell_type": "code",
      "metadata": {
        "id": "UI7-fbnMD_1q"
      },
      "source": [
        "f3=(df['Age'].isnull()) & (df['Sex']=='male') & (df['Pclass']==3)  #fillted the missing Age for men with median age of men\n",
        "df.loc[f3,'Age']=25"
      ],
      "execution_count": 321,
      "outputs": []
    },
    {
      "cell_type": "code",
      "metadata": {
        "id": "nwY1UyfoD_1r"
      },
      "source": [
        "f4=(df['Age'].isnull()) & (df['Sex']=='female') & (df['Pclass']==1)  #fillted the missing Age for men with median age of men\n",
        "df.loc[f4,'Age']=35.0"
      ],
      "execution_count": 322,
      "outputs": []
    },
    {
      "cell_type": "code",
      "metadata": {
        "id": "huguTveND_1s"
      },
      "source": [
        "f5=(df['Age'].isnull()) & (df['Sex']=='female') & (df['Pclass']==2)  #fillted the missing Age for men with median age of men\n",
        "df.loc[f5,'Age']=28.0"
      ],
      "execution_count": 323,
      "outputs": []
    },
    {
      "cell_type": "code",
      "metadata": {
        "id": "rhCwhcG2D_1t"
      },
      "source": [
        "f6=(df['Age'].isnull()) & (df['Sex']=='female') & (df['Pclass']==3)  #fillted the missing Age for men with median age of men\n",
        "df.loc[f6,'Age']=21.5"
      ],
      "execution_count": 324,
      "outputs": []
    },
    {
      "cell_type": "code",
      "metadata": {
        "scrolled": true,
        "colab": {
          "base_uri": "https://localhost:8080/"
        },
        "id": "lHiDPognD_1u",
        "outputId": "f85a995a-01d9-4ec3-a39d-77e38485531a"
      },
      "source": [
        "df['Age'].isnull().value_counts()"
      ],
      "execution_count": 325,
      "outputs": [
        {
          "output_type": "execute_result",
          "data": {
            "text/plain": [
              "False    891\n",
              "Name: Age, dtype: int64"
            ]
          },
          "metadata": {
            "tags": []
          },
          "execution_count": 325
        }
      ]
    },
    {
      "cell_type": "markdown",
      "metadata": {
        "id": "4L_7sad0D_1v"
      },
      "source": [
        "###### used the same median value from the train to fill the test data"
      ]
    },
    {
      "cell_type": "code",
      "metadata": {
        "id": "_WHXi6PvD_1v"
      },
      "source": [
        "f7=(df2['Age'].isnull()) & (df2['Sex']=='male') & (df2['Pclass']==1)  #fillted the missing Age for men with median age of men\n",
        "df2.loc[f7,'Age']=40.0"
      ],
      "execution_count": 326,
      "outputs": []
    },
    {
      "cell_type": "code",
      "metadata": {
        "id": "JtyjrwpKD_1w"
      },
      "source": [
        "f8=(df2['Age'].isnull()) & (df2['Sex']=='male') & (df2['Pclass']==2)  #fillted the missing Age for men with median age of men\n",
        "df2.loc[f8,'Age']=30.0"
      ],
      "execution_count": 327,
      "outputs": []
    },
    {
      "cell_type": "code",
      "metadata": {
        "id": "FALPCjXPD_1x"
      },
      "source": [
        "f9=(df2['Age'].isnull()) & (df2['Sex']=='male') & (df2['Pclass']==3)  #fillted the missing Age for men with median age of men\n",
        "df2.loc[f9,'Age']=25"
      ],
      "execution_count": 328,
      "outputs": []
    },
    {
      "cell_type": "code",
      "metadata": {
        "id": "my14QcFbD_1y"
      },
      "source": [
        "f10=(df2['Age'].isnull()) & (df2['Sex']=='female') & (df2['Pclass']==1)  #fillted the missing Age for men with median age of men\n",
        "df2.loc[f10,'Age']=35.0"
      ],
      "execution_count": 329,
      "outputs": []
    },
    {
      "cell_type": "code",
      "metadata": {
        "id": "vD9VTubMD_1z"
      },
      "source": [
        "f11=(df2['Age'].isnull()) & (df2['Sex']=='female') & (df2['Pclass']==2)  #fillted the missing Age for men with median age of men\n",
        "df2.loc[f11,'Age']=28.0"
      ],
      "execution_count": 330,
      "outputs": []
    },
    {
      "cell_type": "code",
      "metadata": {
        "id": "2HsZj87aD_1z"
      },
      "source": [
        "f12=(df2['Age'].isnull()) & (df2['Sex']=='female') & (df2['Pclass']==3)  #fillted the missing Age for men with median age of men\n",
        "df2.loc[f12,'Age']=21.5"
      ],
      "execution_count": 331,
      "outputs": []
    },
    {
      "cell_type": "code",
      "metadata": {
        "colab": {
          "base_uri": "https://localhost:8080/"
        },
        "id": "Nz1XFx1nD_10",
        "outputId": "54136b43-fa9e-47d8-ecef-eccc24e3a3bf"
      },
      "source": [
        "df2['Age'].isnull().value_counts()"
      ],
      "execution_count": 332,
      "outputs": [
        {
          "output_type": "execute_result",
          "data": {
            "text/plain": [
              "False    418\n",
              "Name: Age, dtype: int64"
            ]
          },
          "metadata": {
            "tags": []
          },
          "execution_count": 332
        }
      ]
    },
    {
      "cell_type": "markdown",
      "metadata": {
        "id": "ZkFFU00eD_11"
      },
      "source": [
        "###### Handling Fare"
      ]
    },
    {
      "cell_type": "code",
      "metadata": {
        "scrolled": false,
        "colab": {
          "base_uri": "https://localhost:8080/",
          "height": 80
        },
        "id": "fV6ahi8LD_13",
        "outputId": "ba637fa0-517e-4045-f6f5-29dc6c1d613d"
      },
      "source": [
        "f5=df2['Fare'].isnull()\n",
        "df2.loc[f5]"
      ],
      "execution_count": 333,
      "outputs": [
        {
          "output_type": "execute_result",
          "data": {
            "text/html": [
              "<div>\n",
              "<style scoped>\n",
              "    .dataframe tbody tr th:only-of-type {\n",
              "        vertical-align: middle;\n",
              "    }\n",
              "\n",
              "    .dataframe tbody tr th {\n",
              "        vertical-align: top;\n",
              "    }\n",
              "\n",
              "    .dataframe thead th {\n",
              "        text-align: right;\n",
              "    }\n",
              "</style>\n",
              "<table border=\"1\" class=\"dataframe\">\n",
              "  <thead>\n",
              "    <tr style=\"text-align: right;\">\n",
              "      <th></th>\n",
              "      <th>PassengerId</th>\n",
              "      <th>Pclass</th>\n",
              "      <th>Name</th>\n",
              "      <th>Sex</th>\n",
              "      <th>Age</th>\n",
              "      <th>SibSp</th>\n",
              "      <th>Parch</th>\n",
              "      <th>Ticket</th>\n",
              "      <th>Fare</th>\n",
              "      <th>Cabin</th>\n",
              "      <th>Embarked</th>\n",
              "    </tr>\n",
              "  </thead>\n",
              "  <tbody>\n",
              "    <tr>\n",
              "      <th>152</th>\n",
              "      <td>1044</td>\n",
              "      <td>3</td>\n",
              "      <td>Storey, Mr. Thomas</td>\n",
              "      <td>male</td>\n",
              "      <td>60.5</td>\n",
              "      <td>0</td>\n",
              "      <td>0</td>\n",
              "      <td>3701</td>\n",
              "      <td>NaN</td>\n",
              "      <td>NaN</td>\n",
              "      <td>S</td>\n",
              "    </tr>\n",
              "  </tbody>\n",
              "</table>\n",
              "</div>"
            ],
            "text/plain": [
              "     PassengerId  Pclass                Name   Sex  ...  Ticket  Fare  Cabin Embarked\n",
              "152         1044       3  Storey, Mr. Thomas  male  ...    3701   NaN    NaN        S\n",
              "\n",
              "[1 rows x 11 columns]"
            ]
          },
          "metadata": {
            "tags": []
          },
          "execution_count": 333
        }
      ]
    },
    {
      "cell_type": "code",
      "metadata": {
        "colab": {
          "base_uri": "https://localhost:8080/"
        },
        "id": "vB26eyOuD_14",
        "outputId": "9d3bada4-5039-4d40-814f-c96baf438dc0"
      },
      "source": [
        "g3=df.groupby(['Embarked'])\n",
        "g3['Fare'].median()\n"
      ],
      "execution_count": 334,
      "outputs": [
        {
          "output_type": "execute_result",
          "data": {
            "text/plain": [
              "Embarked\n",
              "C    29.70\n",
              "Q     7.75\n",
              "S    13.00\n",
              "Name: Fare, dtype: float64"
            ]
          },
          "metadata": {
            "tags": []
          },
          "execution_count": 334
        }
      ]
    },
    {
      "cell_type": "code",
      "metadata": {
        "id": "fJWJYcOfD_16"
      },
      "source": [
        "df2.loc[f5,'Fare']=13  #filled with median fare of Embarked 'S'"
      ],
      "execution_count": 335,
      "outputs": []
    },
    {
      "cell_type": "code",
      "metadata": {
        "colab": {
          "base_uri": "https://localhost:8080/"
        },
        "id": "T_sXhFhluhDt",
        "outputId": "93f636f7-c6bb-4ddb-cc70-47081f85191a"
      },
      "source": [
        "df['Age'].describe() #behaviour of df['Age]"
      ],
      "execution_count": 336,
      "outputs": [
        {
          "output_type": "execute_result",
          "data": {
            "text/plain": [
              "count    891.000000\n",
              "mean      29.112424\n",
              "std       13.304424\n",
              "min        0.420000\n",
              "25%       21.500000\n",
              "50%       26.000000\n",
              "75%       36.000000\n",
              "max       80.000000\n",
              "Name: Age, dtype: float64"
            ]
          },
          "metadata": {
            "tags": []
          },
          "execution_count": 336
        }
      ]
    },
    {
      "cell_type": "code",
      "metadata": {
        "colab": {
          "base_uri": "https://localhost:8080/",
          "height": 296
        },
        "id": "nMP3z-Cgu04M",
        "outputId": "74ada1dc-9c63-4ef7-d45f-c6f6609fb241"
      },
      "source": [
        "from scipy.stats import norm\n",
        "sns.histplot(df['Age'],kde=False,binwidth=20)"
      ],
      "execution_count": 337,
      "outputs": [
        {
          "output_type": "execute_result",
          "data": {
            "text/plain": [
              "<matplotlib.axes._subplots.AxesSubplot at 0x7f4ec9c0c250>"
            ]
          },
          "metadata": {
            "tags": []
          },
          "execution_count": 337
        },
        {
          "output_type": "display_data",
          "data": {
            "image/png": "[encoded data removed]",
            "text/plain": [
              "<Figure size 432x288 with 1 Axes>"
            ]
          },
          "metadata": {
            "tags": [],
            "needs_background": "light"
          }
        }
      ]
    },
    {
      "cell_type": "code",
      "metadata": {
        "colab": {
          "base_uri": "https://localhost:8080/",
          "height": 296
        },
        "id": "L1f8twuBvFIR",
        "outputId": "60ec38e1-02cb-4af3-f62b-09c025e3f60e"
      },
      "source": [
        "sns.histplot(df['Age'],kde=False,binwidth=10)"
      ],
      "execution_count": 338,
      "outputs": [
        {
          "output_type": "execute_result",
          "data": {
            "text/plain": [
              "<matplotlib.axes._subplots.AxesSubplot at 0x7f4ec9160fd0>"
            ]
          },
          "metadata": {
            "tags": []
          },
          "execution_count": 338
        },
        {
          "output_type": "display_data",
          "data": {
            "image/png": "[encoded data removed]",
            "text/plain": [
              "<Figure size 432x288 with 1 Axes>"
            ]
          },
          "metadata": {
            "tags": [],
            "needs_background": "light"
          }
        }
      ]
    },
    {
      "cell_type": "code",
      "metadata": {
        "colab": {
          "base_uri": "https://localhost:8080/",
          "height": 296
        },
        "id": "JiStIRAtwl1N",
        "outputId": "d9675a86-ef4e-4d45-8081-60a08b4aa873"
      },
      "source": [
        "sns.histplot(df['Age'],kde=False,binwidth=10)"
      ],
      "execution_count": 339,
      "outputs": [
        {
          "output_type": "execute_result",
          "data": {
            "text/plain": [
              "<matplotlib.axes._subplots.AxesSubplot at 0x7f4ec90f3d90>"
            ]
          },
          "metadata": {
            "tags": []
          },
          "execution_count": 339
        },
        {
          "output_type": "display_data",
          "data": {
            "image/png": "[encoded data removed]",
            "text/plain": [
              "<Figure size 432x288 with 1 Axes>"
            ]
          },
          "metadata": {
            "tags": [],
            "needs_background": "light"
          }
        }
      ]
    },
    {
      "cell_type": "code",
      "metadata": {
        "id": "kTitTAc3tx7d"
      },
      "source": [
        "df['Age_group']=pd.cut(df['Age'],bins=(0,10,20,30,40,50,60,70,80),labels=['10','20','30','40','50','60','70','80'])\n",
        "df2['Age_group']=pd.cut(df2['Age'],bins=(0,10,20,30,40,50,60,70,80),labels=['10','20','30','40','50','60','70','80'])"
      ],
      "execution_count": 340,
      "outputs": []
    },
    {
      "cell_type": "code",
      "metadata": {
        "colab": {
          "base_uri": "https://localhost:8080/"
        },
        "id": "ewByk7jWzEsa",
        "outputId": "b43904d8-6128-4e2a-dc7f-2b072a94c02c"
      },
      "source": [
        "df2.columns"
      ],
      "execution_count": 341,
      "outputs": [
        {
          "output_type": "execute_result",
          "data": {
            "text/plain": [
              "Index(['PassengerId', 'Pclass', 'Name', 'Sex', 'Age', 'SibSp', 'Parch',\n",
              "       'Ticket', 'Fare', 'Cabin', 'Embarked', 'Age_group'],\n",
              "      dtype='object')"
            ]
          },
          "metadata": {
            "tags": []
          },
          "execution_count": 341
        }
      ]
    },
    {
      "cell_type": "code",
      "metadata": {
        "colab": {
          "base_uri": "https://localhost:8080/",
          "height": 297
        },
        "id": "RNlqSd2SufGP",
        "outputId": "cdfe8daf-7464-42f8-acc1-f75a401a7949"
      },
      "source": [
        "sns.barplot(x='Age_group',y='Survived',hue='Pclass',data=df)"
      ],
      "execution_count": 342,
      "outputs": [
        {
          "output_type": "execute_result",
          "data": {
            "text/plain": [
              "<matplotlib.axes._subplots.AxesSubplot at 0x7f4ec90dea50>"
            ]
          },
          "metadata": {
            "tags": []
          },
          "execution_count": 342
        },
        {
          "output_type": "display_data",
          "data": {
            "image/png": "[encoded data removed]",
            "text/plain": [
              "<Figure size 432x288 with 1 Axes>"
            ]
          },
          "metadata": {
            "tags": [],
            "needs_background": "light"
          }
        }
      ]
    },
    {
      "cell_type": "markdown",
      "metadata": {
        "id": "QMTVNkjeD_16"
      },
      "source": [
        "##### Creating X and y data"
      ]
    },
    {
      "cell_type": "code",
      "metadata": {
        "colab": {
          "base_uri": "https://localhost:8080/"
        },
        "id": "Jw3de9RAD_17",
        "outputId": "f84d69f0-0571-4d56-ecfa-604ae4fad32d"
      },
      "source": [
        "df.columns"
      ],
      "execution_count": 343,
      "outputs": [
        {
          "output_type": "execute_result",
          "data": {
            "text/plain": [
              "Index(['PassengerId', 'Survived', 'Pclass', 'Name', 'Sex', 'Age', 'SibSp',\n",
              "       'Parch', 'Ticket', 'Fare', 'Cabin', 'Embarked', 'Age_group'],\n",
              "      dtype='object')"
            ]
          },
          "metadata": {
            "tags": []
          },
          "execution_count": 343
        }
      ]
    },
    {
      "cell_type": "code",
      "metadata": {
        "scrolled": true,
        "id": "TdUIx2SUD_18"
      },
      "source": [
        "X=df[['Pclass', 'Sex', 'Age_group', 'SibSp',\n",
        "       'Parch', 'Fare', 'Embarked']]"
      ],
      "execution_count": 344,
      "outputs": []
    },
    {
      "cell_type": "code",
      "metadata": {
        "id": "xZN0nBmVD_19"
      },
      "source": [
        "y=df['Survived']"
      ],
      "execution_count": 345,
      "outputs": []
    },
    {
      "cell_type": "code",
      "metadata": {
        "id": "DaPZGDgSD_19"
      },
      "source": [
        "Xt=df2[['Pclass', 'Sex', 'Age_group', 'SibSp',\n",
        "       'Parch', 'Fare', 'Embarked']]"
      ],
      "execution_count": 346,
      "outputs": []
    },
    {
      "cell_type": "markdown",
      "metadata": {
        "id": "2V4k2d9hD_1-"
      },
      "source": [
        "##### One Hot Encoding"
      ]
    },
    {
      "cell_type": "code",
      "metadata": {
        "id": "F1LsPAkMD_1_"
      },
      "source": [
        "temp_x1=pd.get_dummies(X['Embarked'],drop_first=True)\n",
        "X=pd.concat([X,temp_x1],axis=1)\n",
        "X.drop(columns='Embarked',inplace=True)"
      ],
      "execution_count": 347,
      "outputs": []
    },
    {
      "cell_type": "markdown",
      "metadata": {
        "id": "wUABkpIsD_1_"
      },
      "source": [
        "###### Test -[Embarked]"
      ]
    },
    {
      "cell_type": "code",
      "metadata": {
        "id": "Sr5ey84JD_2A"
      },
      "source": [
        "temp_xt1=pd.get_dummies(Xt['Embarked'],drop_first=True) \n",
        "Xt=pd.concat([Xt,temp_xt1],axis=1)\n",
        "Xt.drop(columns='Embarked',inplace=True)"
      ],
      "execution_count": 348,
      "outputs": []
    },
    {
      "cell_type": "code",
      "metadata": {
        "id": "D0Le4jBKD_2B"
      },
      "source": [
        "temp_x2=pd.get_dummies(X['Sex'],drop_first=True) \n",
        "X=pd.concat([X,temp_x2],axis=1)\n",
        "X.drop(columns='Sex',inplace=True)"
      ],
      "execution_count": 349,
      "outputs": []
    },
    {
      "cell_type": "code",
      "metadata": {
        "id": "jHHMxwEYD_2C"
      },
      "source": [
        "temp_xt2=pd.get_dummies(Xt['Sex'],drop_first=True) \n",
        "Xt=pd.concat([Xt,temp_xt2],axis=1)\n",
        "Xt.drop(columns='Sex',inplace=True)"
      ],
      "execution_count": 350,
      "outputs": []
    },
    {
      "cell_type": "code",
      "metadata": {
        "id": "jmpg1do2zvU6"
      },
      "source": [
        "temp_x3=pd.get_dummies(X['Age_group'],drop_first=True) \n",
        "X=pd.concat([X,temp_x3],axis=1)\n",
        "X=X.drop(columns='Age_group')"
      ],
      "execution_count": null,
      "outputs": []
    },
    {
      "cell_type": "code",
      "metadata": {
        "id": "KlZy2BCPzQA8"
      },
      "source": [
        "temp_xt3=pd.get_dummies(Xt['Age_group'],drop_first=True) \n",
        "Xt=pd.concat([Xt,temp_xt3],axis=1)\n",
        "Xt=Xt.drop(columns='Age_group')"
      ],
      "execution_count": 352,
      "outputs": []
    },
    {
      "cell_type": "code",
      "metadata": {
        "colab": {
          "base_uri": "https://localhost:8080/"
        },
        "id": "6H2XlCu_0fzc",
        "outputId": "9df9ec5e-2254-4172-c45b-4e3c1dbc2c13"
      },
      "source": [
        "\n",
        "Xt.columns"
      ],
      "execution_count": 353,
      "outputs": [
        {
          "output_type": "execute_result",
          "data": {
            "text/plain": [
              "Index(['Pclass', 'SibSp', 'Parch', 'Fare', 'Q', 'S', 'male', '20', '30', '40',\n",
              "       '50', '60', '70', '80'],\n",
              "      dtype='object')"
            ]
          },
          "metadata": {
            "tags": []
          },
          "execution_count": 353
        }
      ]
    },
    {
      "cell_type": "code",
      "metadata": {
        "colab": {
          "base_uri": "https://localhost:8080/"
        },
        "id": "u20olfe_0lrl",
        "outputId": "7fc03fd8-e159-4a19-fdbe-d4986fbbcced"
      },
      "source": [
        "\n",
        "X.columns"
      ],
      "execution_count": 373,
      "outputs": [
        {
          "output_type": "execute_result",
          "data": {
            "text/plain": [
              "Index(['Pclass', 'SibSp', 'Parch', 'Fare', 'Q', 'S', 'male', '20', '30', '40',\n",
              "       '50', '60', '70', '80'],\n",
              "      dtype='object')"
            ]
          },
          "metadata": {
            "tags": []
          },
          "execution_count": 373
        }
      ]
    },
    {
      "cell_type": "code",
      "metadata": {
        "colab": {
          "base_uri": "https://localhost:8080/"
        },
        "id": "oOnU8JBe2DKl",
        "outputId": "09684cc8-0d86-4b40-acc6-a0ce1ac0bf35"
      },
      "source": [
        "Xt.notnull().count()"
      ],
      "execution_count": 355,
      "outputs": [
        {
          "output_type": "execute_result",
          "data": {
            "text/plain": [
              "Pclass    418\n",
              "SibSp     418\n",
              "Parch     418\n",
              "Fare      418\n",
              "Q         418\n",
              "S         418\n",
              "male      418\n",
              "20        418\n",
              "30        418\n",
              "40        418\n",
              "50        418\n",
              "60        418\n",
              "70        418\n",
              "80        418\n",
              "dtype: int64"
            ]
          },
          "metadata": {
            "tags": []
          },
          "execution_count": 355
        }
      ]
    },
    {
      "cell_type": "code",
      "metadata": {
        "colab": {
          "base_uri": "https://localhost:8080/"
        },
        "id": "8delnsUt2fRn",
        "outputId": "0f4d3a00-85a3-43d7-d883-7c4aa168622c"
      },
      "source": [
        "Xt.info()"
      ],
      "execution_count": 372,
      "outputs": [
        {
          "output_type": "stream",
          "text": [
            "<class 'pandas.core.frame.DataFrame'>\n",
            "RangeIndex: 418 entries, 0 to 417\n",
            "Data columns (total 14 columns):\n",
            " #   Column  Non-Null Count  Dtype  \n",
            "---  ------  --------------  -----  \n",
            " 0   Pclass  418 non-null    int64  \n",
            " 1   SibSp   418 non-null    int64  \n",
            " 2   Parch   418 non-null    int64  \n",
            " 3   Fare    418 non-null    float64\n",
            " 4   Q       418 non-null    uint8  \n",
            " 5   S       418 non-null    uint8  \n",
            " 6   male    418 non-null    uint8  \n",
            " 7   20      418 non-null    uint8  \n",
            " 8   30      418 non-null    uint8  \n",
            " 9   40      418 non-null    uint8  \n",
            " 10  50      418 non-null    uint8  \n",
            " 11  60      418 non-null    uint8  \n",
            " 12  70      418 non-null    uint8  \n",
            " 13  80      418 non-null    uint8  \n",
            "dtypes: float64(1), int64(3), uint8(10)\n",
            "memory usage: 17.3 KB\n"
          ],
          "name": "stdout"
        }
      ]
    },
    {
      "cell_type": "markdown",
      "metadata": {
        "id": "sbBc_fNtD_2G"
      },
      "source": [
        "#### Split model"
      ]
    },
    {
      "cell_type": "code",
      "metadata": {
        "id": "TcIaP_YND_2I"
      },
      "source": [
        "from sklearn.model_selection import train_test_split\n",
        "X_train,X_test,y_train,y_test=train_test_split(X,y,test_size=.2,random_state=0)"
      ],
      "execution_count": 374,
      "outputs": []
    },
    {
      "cell_type": "code",
      "metadata": {
        "scrolled": false,
        "colab": {
          "base_uri": "https://localhost:8080/"
        },
        "id": "kj2FNMF9D_2J",
        "outputId": "3f0e5b46-c650-4739-a9b8-5f0c6e8a5d7a"
      },
      "source": [
        "X.shape"
      ],
      "execution_count": 375,
      "outputs": [
        {
          "output_type": "execute_result",
          "data": {
            "text/plain": [
              "(891, 14)"
            ]
          },
          "metadata": {
            "tags": []
          },
          "execution_count": 375
        }
      ]
    },
    {
      "cell_type": "code",
      "metadata": {
        "colab": {
          "base_uri": "https://localhost:8080/"
        },
        "id": "nQj8tFh1D_2K",
        "outputId": "21fbdeec-b859-434b-fcc2-dde5e8f983ec"
      },
      "source": [
        "Xt.shape"
      ],
      "execution_count": 376,
      "outputs": [
        {
          "output_type": "execute_result",
          "data": {
            "text/plain": [
              "(418, 14)"
            ]
          },
          "metadata": {
            "tags": []
          },
          "execution_count": 376
        }
      ]
    },
    {
      "cell_type": "code",
      "metadata": {
        "id": "kSWaqHS4OQKi",
        "colab": {
          "base_uri": "https://localhost:8080/",
          "height": 163
        },
        "outputId": "1b4ec82c-5fb6-455d-dc0a-4107ed521792"
      },
      "source": [
        "SVM"
      ],
      "execution_count": 377,
      "outputs": [
        {
          "output_type": "error",
          "ename": "NameError",
          "evalue": "ignored",
          "traceback": [
            "\u001b[0;31m---------------------------------------------------------------------------\u001b[0m",
            "\u001b[0;31mNameError\u001b[0m                                 Traceback (most recent call last)",
            "\u001b[0;32m<ipython-input-377-af4fba46c06d>\u001b[0m in \u001b[0;36m<module>\u001b[0;34m()\u001b[0m\n\u001b[0;32m----> 1\u001b[0;31m \u001b[0mSVM\u001b[0m\u001b[0;34m\u001b[0m\u001b[0;34m\u001b[0m\u001b[0m\n\u001b[0m",
            "\u001b[0;31mNameError\u001b[0m: name 'SVM' is not defined"
          ]
        }
      ]
    },
    {
      "cell_type": "code",
      "metadata": {
        "colab": {
          "base_uri": "https://localhost:8080/"
        },
        "id": "H2Pw8pHrQKJf",
        "outputId": "b7383326-12a1-4c1f-bd14-bee8e2d7d6d0"
      },
      "source": [
        "test_clf=[]\n",
        "train_clf=[]\n",
        "index_data=[]\n",
        "for  i in (.5,.7,.9,1,1.2,1.4,1.6,1.8):\n",
        "  clf = make_pipeline(StandardScaler(), SVC(C=i,gamma='auto'))\n",
        "  clf.fit(X, y)\n",
        "  print(i,clf.score(X_test,y_test))\n",
        "  print(i,clf.score(X_train,y_train))\n",
        "  test_clf.append(clf.score(X_test,y_test))\n",
        "  train_clf.append(clf.score(X_train,y_train))\n",
        "  index_data.append(i)"
      ],
      "execution_count": 378,
      "outputs": [
        {
          "output_type": "stream",
          "text": [
            "0.5 0.8212290502793296\n",
            "0.5 0.8356741573033708\n",
            "0.7 0.8212290502793296\n",
            "0.7 0.8398876404494382\n",
            "0.9 0.8268156424581006\n",
            "0.9 0.8398876404494382\n",
            "1 0.8268156424581006\n",
            "1 0.8398876404494382\n",
            "1.2 0.8379888268156425\n",
            "1.2 0.8412921348314607\n",
            "1.4 0.8435754189944135\n",
            "1.4 0.8455056179775281\n",
            "1.6 0.8435754189944135\n",
            "1.6 0.8469101123595506\n",
            "1.8 0.8379888268156425\n",
            "1.8 0.848314606741573\n"
          ],
          "name": "stdout"
        }
      ]
    },
    {
      "cell_type": "code",
      "metadata": {
        "colab": {
          "base_uri": "https://localhost:8080/",
          "height": 282
        },
        "id": "doTv5wKGR1Qj",
        "outputId": "7d0949b3-1671-4c2a-d491-c97db6a0cb01"
      },
      "source": [
        "scoredf=pd.DataFrame({'test':test_clf,'train':train_clf},index=index_data)\n",
        "sns.lineplot(data=scoredf)"
      ],
      "execution_count": 379,
      "outputs": [
        {
          "output_type": "execute_result",
          "data": {
            "text/plain": [
              "<matplotlib.axes._subplots.AxesSubplot at 0x7f4ec8e7b510>"
            ]
          },
          "metadata": {
            "tags": []
          },
          "execution_count": 379
        },
        {
          "output_type": "display_data",
          "data": {
            "image/png": "[encoded data removed]",
            "text/plain": [
              "<Figure size 432x288 with 1 Axes>"
            ]
          },
          "metadata": {
            "tags": [],
            "needs_background": "light"
          }
        }
      ]
    },
    {
      "cell_type": "code",
      "metadata": {
        "colab": {
          "base_uri": "https://localhost:8080/"
        },
        "id": "TGppN59vRNsC",
        "outputId": "45e8be14-9e97-4c7b-84ea-aae93eb95fdf"
      },
      "source": [
        "clf = make_pipeline(StandardScaler(), SVC(C=1.8,gamma='auto'))\n",
        "clf.fit(X, y)"
      ],
      "execution_count": 380,
      "outputs": [
        {
          "output_type": "execute_result",
          "data": {
            "text/plain": [
              "Pipeline(memory=None,\n",
              "         steps=[('standardscaler',\n",
              "                 StandardScaler(copy=True, with_mean=True, with_std=True)),\n",
              "                ('svc',\n",
              "                 SVC(C=1.8, break_ties=False, cache_size=200, class_weight=None,\n",
              "                     coef0=0.0, decision_function_shape='ovr', degree=3,\n",
              "                     gamma='auto', kernel='rbf', max_iter=-1, probability=False,\n",
              "                     random_state=None, shrinking=True, tol=0.001,\n",
              "                     verbose=False))],\n",
              "         verbose=False)"
            ]
          },
          "metadata": {
            "tags": []
          },
          "execution_count": 380
        }
      ]
    },
    {
      "cell_type": "code",
      "metadata": {
        "colab": {
          "base_uri": "https://localhost:8080/"
        },
        "id": "glrYort6POC5",
        "outputId": "42d7ca1a-e24e-4b33-8800-45716b4a42c9"
      },
      "source": [
        "y_pred_svm=clf.predict(Xt)\n",
        "y_pred_svm"
      ],
      "execution_count": 381,
      "outputs": [
        {
          "output_type": "execute_result",
          "data": {
            "text/plain": [
              "array([0, 0, 0, 0, 0, 0, 1, 0, 1, 0, 0, 0, 1, 0, 1, 1, 0, 0, 0, 0, 0, 1,\n",
              "       1, 0, 1, 0, 1, 0, 0, 0, 0, 0, 1, 0, 0, 0, 1, 1, 0, 0, 0, 0, 0, 1,\n",
              "       1, 0, 0, 0, 1, 1, 0, 0, 1, 1, 0, 0, 0, 0, 0, 1, 0, 0, 0, 1, 0, 1,\n",
              "       1, 0, 0, 0, 1, 0, 1, 0, 1, 0, 0, 1, 0, 1, 1, 0, 0, 0, 0, 0, 1, 1,\n",
              "       1, 1, 0, 0, 1, 0, 0, 0, 0, 0, 1, 0, 1, 0, 0, 0, 1, 0, 0, 0, 0, 0,\n",
              "       0, 1, 1, 1, 1, 0, 0, 1, 0, 1, 1, 0, 1, 0, 0, 1, 0, 1, 0, 0, 0, 0,\n",
              "       0, 0, 0, 0, 0, 0, 1, 0, 0, 1, 0, 0, 0, 0, 0, 0, 0, 0, 1, 0, 0, 1,\n",
              "       0, 0, 1, 1, 0, 1, 1, 1, 1, 0, 0, 0, 0, 0, 1, 1, 0, 0, 0, 0, 0, 1,\n",
              "       1, 0, 1, 0, 0, 0, 1, 0, 1, 0, 1, 0, 0, 0, 0, 0, 0, 0, 1, 0, 1, 1,\n",
              "       0, 1, 1, 1, 0, 1, 0, 0, 0, 0, 1, 0, 0, 0, 0, 1, 0, 0, 1, 0, 1, 0,\n",
              "       1, 0, 1, 0, 1, 1, 0, 1, 0, 0, 0, 1, 0, 0, 0, 0, 0, 0, 1, 1, 1, 1,\n",
              "       0, 0, 0, 0, 1, 0, 1, 1, 1, 0, 0, 0, 0, 0, 0, 0, 1, 0, 0, 0, 1, 1,\n",
              "       0, 0, 0, 0, 1, 0, 0, 0, 1, 1, 0, 1, 0, 0, 0, 0, 1, 1, 1, 1, 1, 0,\n",
              "       0, 0, 0, 0, 0, 1, 0, 0, 0, 0, 1, 0, 0, 0, 0, 0, 0, 0, 1, 1, 0, 1,\n",
              "       0, 0, 0, 0, 0, 0, 1, 1, 0, 0, 0, 0, 0, 0, 0, 0, 1, 0, 1, 0, 0, 0,\n",
              "       1, 0, 0, 1, 0, 0, 0, 0, 0, 0, 0, 0, 0, 0, 0, 1, 0, 1, 0, 1, 1, 0,\n",
              "       0, 0, 1, 0, 1, 0, 0, 0, 0, 1, 1, 0, 1, 0, 0, 1, 1, 0, 0, 1, 0, 0,\n",
              "       1, 1, 0, 0, 0, 0, 0, 0, 1, 1, 0, 1, 0, 0, 0, 0, 0, 1, 0, 0, 0, 1,\n",
              "       0, 1, 0, 0, 1, 0, 1, 0, 0, 0, 0, 0, 1, 1, 1, 1, 1, 0, 1, 0, 0, 0])"
            ]
          },
          "metadata": {
            "tags": []
          },
          "execution_count": 381
        }
      ]
    },
    {
      "cell_type": "code",
      "metadata": {
        "colab": {
          "base_uri": "https://localhost:8080/"
        },
        "id": "-oMyE-Yd5G4i",
        "outputId": "fc9d8807-6e18-4b19-f02a-f6cff04b9df9"
      },
      "source": [
        "X.shape"
      ],
      "execution_count": 382,
      "outputs": [
        {
          "output_type": "execute_result",
          "data": {
            "text/plain": [
              "(891, 14)"
            ]
          },
          "metadata": {
            "tags": []
          },
          "execution_count": 382
        }
      ]
    },
    {
      "cell_type": "code",
      "metadata": {
        "id": "s_Ax7d3UD_2Y"
      },
      "source": [
        "submission=pd.DataFrame({\"PassengerId\" : df2['PassengerId'],\"Survived\" :y_pred_svm})\n",
        "submission.to_csv(\"titanic_svm2.csv\",index=False)"
      ],
      "execution_count": 385,
      "outputs": []
    },
    {
      "cell_type": "code",
      "metadata": {
        "id": "oYRzsPQM2b4O"
      },
      "source": [
        ""
      ],
      "execution_count": null,
      "outputs": []
    },
    {
      "cell_type": "code",
      "metadata": {
        "id": "J_lT_2IgD_2Z"
      },
      "source": [
        ""
      ],
      "execution_count": null,
      "outputs": []
    },
    {
      "cell_type": "code",
      "metadata": {
        "id": "xZ7_6ZknD_2Z"
      },
      "source": [
        "\n"
      ],
      "execution_count": null,
      "outputs": []
    },
    {
      "cell_type": "code",
      "metadata": {
        "id": "NI4qENHrD_2a"
      },
      "source": [
        ""
      ],
      "execution_count": null,
      "outputs": []
    },
    {
      "cell_type": "code",
      "metadata": {
        "id": "svwN9RjJD_2a"
      },
      "source": [
        ""
      ],
      "execution_count": null,
      "outputs": []
    }
  ]
}